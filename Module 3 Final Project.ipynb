{
 "cells": [
  {
   "cell_type": "code",
   "execution_count": 2,
   "metadata": {},
   "outputs": [],
   "source": [
    "# import libraries\n",
    "import sqlalchemy\n",
    "import pandas as pd\n",
    "import numpy as np\n",
    "\n",
    "from sqlalchemy import create_engine\n",
    "from sqlalchemy import inspect\n",
    "\n",
    "import matplotlib.pyplot as plt\n",
    "import seaborn as sns\n",
    "plt.style.use('seaborn')"
   ]
  },
  {
   "cell_type": "code",
   "execution_count": 3,
   "metadata": {},
   "outputs": [
    {
     "name": "stdout",
     "output_type": "stream",
     "text": [
      "['Category', 'Customer', 'CustomerCustomerDemo', 'CustomerDemographic', 'Employee', 'EmployeeTerritory', 'Order', 'OrderDetail', 'Product', 'Region', 'Shipper', 'Supplier', 'Territory']\n"
     ]
    }
   ],
   "source": [
    "# connecting to the Database using SQLAlchemy\n",
    "engine = create_engine(\"sqlite:///Northwind_small.sqlite\")\n",
    "\n",
    "# create an inspector object\n",
    "inspector = inspect(engine)\n",
    "\n",
    "# get names of tables in database\n",
    "print(inspector.get_table_names())"
   ]
  },
  {
   "cell_type": "code",
   "execution_count": 4,
   "metadata": {},
   "outputs": [],
   "source": [
    "# write a quick function that prints the columns of a table and each column's type\n",
    "\n",
    "def get_columns_info(table_name):    \n",
    "    \"\"\" Function takes in table name and prints columns' names\n",
    "    and datatypes \"\"\"\n",
    "    \n",
    "    cols_list = inspector.get_columns(table_name)    \n",
    "    print(f\"Table Name: {table_name}\\n\")\n",
    "    for col in cols_list:\n",
    "        print(f\"Name: {col['name']} \\t Type: {col['type']}\")"
   ]
  },
  {
   "cell_type": "code",
   "execution_count": 5,
   "metadata": {},
   "outputs": [
    {
     "name": "stdout",
     "output_type": "stream",
     "text": [
      "Table Name: OrderDetail\n",
      "\n",
      "Name: Id \t Type: VARCHAR(8000)\n",
      "Name: OrderId \t Type: INTEGER\n",
      "Name: ProductId \t Type: INTEGER\n",
      "Name: UnitPrice \t Type: DECIMAL\n",
      "Name: Quantity \t Type: INTEGER\n",
      "Name: Discount \t Type: FLOAT\n"
     ]
    }
   ],
   "source": [
    "\n",
    "# calling the function to test it\n",
    "get_columns_info('OrderDetail')"
   ]
  },
  {
   "cell_type": "code",
   "execution_count": 6,
   "metadata": {},
   "outputs": [],
   "source": [
    "\n",
    "# joining \"Supplier\", \"Product\", \"OrderDetail\", \"Order\" and \"Customer\" tables \n",
    "# using the pd.read_sql_query() method and giving them meaningful column names in that step\n",
    "\n",
    "df1 = pd.read_sql_query('''SELECT p.Id product_id, p.ProductName product_name, s.Id supplier_id, \n",
    "                            s.Country supplier_country, s.Region supplier_region, od.Quantity order_quantity,\n",
    "                            od.UnitPrice unit_price, c.Id customer_id, c.Country customer_country, \n",
    "                            c.Region customer_region\n",
    "                            FROM Supplier s\n",
    "                            JOIN Product p ON s.Id = p.SupplierId\n",
    "                            JOIN OrderDetail od ON p.Id = od.ProductId\n",
    "                            JOIN [Order] o ON od.OrderId = o.Id\n",
    "                            JOIN Customer c ON o.CustomerId = c.Id\n",
    "                            ;''', engine)"
   ]
  },
  {
   "cell_type": "code",
   "execution_count": 7,
   "metadata": {},
   "outputs": [
    {
     "data": {
      "text/html": [
       "<div>\n",
       "<style scoped>\n",
       "    .dataframe tbody tr th:only-of-type {\n",
       "        vertical-align: middle;\n",
       "    }\n",
       "\n",
       "    .dataframe tbody tr th {\n",
       "        vertical-align: top;\n",
       "    }\n",
       "\n",
       "    .dataframe thead th {\n",
       "        text-align: right;\n",
       "    }\n",
       "</style>\n",
       "<table border=\"1\" class=\"dataframe\">\n",
       "  <thead>\n",
       "    <tr style=\"text-align: right;\">\n",
       "      <th></th>\n",
       "      <th>product_id</th>\n",
       "      <th>product_name</th>\n",
       "      <th>supplier_id</th>\n",
       "      <th>supplier_country</th>\n",
       "      <th>supplier_region</th>\n",
       "      <th>order_quantity</th>\n",
       "      <th>unit_price</th>\n",
       "      <th>customer_id</th>\n",
       "      <th>customer_country</th>\n",
       "      <th>customer_region</th>\n",
       "    </tr>\n",
       "  </thead>\n",
       "  <tbody>\n",
       "    <tr>\n",
       "      <th>0</th>\n",
       "      <td>11</td>\n",
       "      <td>Queso Cabrales</td>\n",
       "      <td>5</td>\n",
       "      <td>Spain</td>\n",
       "      <td>Southern Europe</td>\n",
       "      <td>12</td>\n",
       "      <td>14.0</td>\n",
       "      <td>VINET</td>\n",
       "      <td>France</td>\n",
       "      <td>Western Europe</td>\n",
       "    </tr>\n",
       "    <tr>\n",
       "      <th>1</th>\n",
       "      <td>42</td>\n",
       "      <td>Singaporean Hokkien Fried Mee</td>\n",
       "      <td>20</td>\n",
       "      <td>Singapore</td>\n",
       "      <td>South-East Asia</td>\n",
       "      <td>10</td>\n",
       "      <td>9.8</td>\n",
       "      <td>VINET</td>\n",
       "      <td>France</td>\n",
       "      <td>Western Europe</td>\n",
       "    </tr>\n",
       "    <tr>\n",
       "      <th>2</th>\n",
       "      <td>72</td>\n",
       "      <td>Mozzarella di Giovanni</td>\n",
       "      <td>14</td>\n",
       "      <td>Italy</td>\n",
       "      <td>Southern Europe</td>\n",
       "      <td>5</td>\n",
       "      <td>34.8</td>\n",
       "      <td>VINET</td>\n",
       "      <td>France</td>\n",
       "      <td>Western Europe</td>\n",
       "    </tr>\n",
       "    <tr>\n",
       "      <th>3</th>\n",
       "      <td>14</td>\n",
       "      <td>Tofu</td>\n",
       "      <td>6</td>\n",
       "      <td>Japan</td>\n",
       "      <td>Eastern Asia</td>\n",
       "      <td>9</td>\n",
       "      <td>18.6</td>\n",
       "      <td>TOMSP</td>\n",
       "      <td>Germany</td>\n",
       "      <td>Western Europe</td>\n",
       "    </tr>\n",
       "    <tr>\n",
       "      <th>4</th>\n",
       "      <td>51</td>\n",
       "      <td>Manjimup Dried Apples</td>\n",
       "      <td>24</td>\n",
       "      <td>Australia</td>\n",
       "      <td>NSW</td>\n",
       "      <td>40</td>\n",
       "      <td>42.4</td>\n",
       "      <td>TOMSP</td>\n",
       "      <td>Germany</td>\n",
       "      <td>Western Europe</td>\n",
       "    </tr>\n",
       "  </tbody>\n",
       "</table>\n",
       "</div>"
      ],
      "text/plain": [
       "   product_id                   product_name  supplier_id supplier_country  \\\n",
       "0          11                 Queso Cabrales            5            Spain   \n",
       "1          42  Singaporean Hokkien Fried Mee           20        Singapore   \n",
       "2          72         Mozzarella di Giovanni           14            Italy   \n",
       "3          14                           Tofu            6            Japan   \n",
       "4          51          Manjimup Dried Apples           24        Australia   \n",
       "\n",
       "   supplier_region  order_quantity  unit_price customer_id customer_country  \\\n",
       "0  Southern Europe              12        14.0       VINET           France   \n",
       "1  South-East Asia              10         9.8       VINET           France   \n",
       "2  Southern Europe               5        34.8       VINET           France   \n",
       "3     Eastern Asia               9        18.6       TOMSP          Germany   \n",
       "4              NSW              40        42.4       TOMSP          Germany   \n",
       "\n",
       "  customer_region  \n",
       "0  Western Europe  \n",
       "1  Western Europe  \n",
       "2  Western Europe  \n",
       "3  Western Europe  \n",
       "4  Western Europe  "
      ]
     },
     "execution_count": 7,
     "metadata": {},
     "output_type": "execute_result"
    }
   ],
   "source": [
    "df1.head()"
   ]
  },
  {
   "cell_type": "code",
   "execution_count": null,
   "metadata": {},
   "outputs": [],
   "source": []
  }
 ],
 "metadata": {
  "kernelspec": {
   "display_name": "Python 3",
   "language": "python",
   "name": "python3"
  },
  "language_info": {
   "codemirror_mode": {
    "name": "ipython",
    "version": 3
   },
   "file_extension": ".py",
   "mimetype": "text/x-python",
   "name": "python",
   "nbconvert_exporter": "python",
   "pygments_lexer": "ipython3",
   "version": "3.6.6"
  }
 },
 "nbformat": 4,
 "nbformat_minor": 2
}
