{
 "cells": [
  {
   "cell_type": "markdown",
   "metadata": {},
   "source": [
    "## Importing\n",
    "\n",
    "We need to import the necessary libraries and dataset for the project."
   ]
  },
  {
   "cell_type": "code",
<<<<<<< HEAD
   "execution_count": 73,
=======
   "execution_count": 1,
>>>>>>> b913abb076bb7b1db57ec361eecd60722a285e18
   "metadata": {},
   "outputs": [],
   "source": [
    "# import libraries\n",
    "import pandas as pd\n",
    "# pd.set_option('display.max_columns', None)\n",
    "# pd.set_option('display.max_rows', None)\n",
    "\n",
    "from statsmodels.stats.power import TTestIndPower\n",
    "import numpy as np \n",
    "import math\n",
    "import statsmodels.api\n",
    "import scipy.stats as stats\n",
    "import matplotlib.pyplot as plt\n",
    "import statsmodels.stats.power\n",
    "from statsmodels.stats.power import TTestIndPower\n",
    "import seaborn as sns\n",
    "plt.style.use('fivethirtyeight')"
   ]
  },
  {
   "cell_type": "code",
   "execution_count": 33,
   "metadata": {},
   "outputs": [],
   "source": [
    "# import database using pandas.read_csv method\n",
    "df = pd.read_csv('cardio_train.csv', sep=';')"
   ]
  },
  {
   "cell_type": "markdown",
   "metadata": {},
   "source": [
    "## Exploratory  Data Analysis"
   ]
  },
  {
   "cell_type": "code",
   "execution_count": 34,
   "metadata": {},
   "outputs": [
    {
     "data": {
      "text/html": [
       "<div>\n",
       "<style scoped>\n",
       "    .dataframe tbody tr th:only-of-type {\n",
       "        vertical-align: middle;\n",
       "    }\n",
       "\n",
       "    .dataframe tbody tr th {\n",
       "        vertical-align: top;\n",
       "    }\n",
       "\n",
       "    .dataframe thead th {\n",
       "        text-align: right;\n",
       "    }\n",
       "</style>\n",
       "<table border=\"1\" class=\"dataframe\">\n",
       "  <thead>\n",
       "    <tr style=\"text-align: right;\">\n",
       "      <th></th>\n",
       "      <th>id</th>\n",
       "      <th>age</th>\n",
       "      <th>gender</th>\n",
       "      <th>height</th>\n",
       "      <th>weight</th>\n",
       "      <th>ap_hi</th>\n",
       "      <th>ap_lo</th>\n",
       "      <th>cholesterol</th>\n",
       "      <th>gluc</th>\n",
       "      <th>smoke</th>\n",
       "      <th>alco</th>\n",
       "      <th>active</th>\n",
       "      <th>cardio</th>\n",
       "    </tr>\n",
       "  </thead>\n",
       "  <tbody>\n",
       "    <tr>\n",
       "      <th>0</th>\n",
       "      <td>0</td>\n",
       "      <td>18393</td>\n",
       "      <td>2</td>\n",
       "      <td>168</td>\n",
       "      <td>62.0</td>\n",
       "      <td>110</td>\n",
       "      <td>80</td>\n",
       "      <td>1</td>\n",
       "      <td>1</td>\n",
       "      <td>0</td>\n",
       "      <td>0</td>\n",
       "      <td>1</td>\n",
       "      <td>0</td>\n",
       "    </tr>\n",
       "    <tr>\n",
       "      <th>1</th>\n",
       "      <td>1</td>\n",
       "      <td>20228</td>\n",
       "      <td>1</td>\n",
       "      <td>156</td>\n",
       "      <td>85.0</td>\n",
       "      <td>140</td>\n",
       "      <td>90</td>\n",
       "      <td>3</td>\n",
       "      <td>1</td>\n",
       "      <td>0</td>\n",
       "      <td>0</td>\n",
       "      <td>1</td>\n",
       "      <td>1</td>\n",
       "    </tr>\n",
       "    <tr>\n",
       "      <th>2</th>\n",
       "      <td>2</td>\n",
       "      <td>18857</td>\n",
       "      <td>1</td>\n",
       "      <td>165</td>\n",
       "      <td>64.0</td>\n",
       "      <td>130</td>\n",
       "      <td>70</td>\n",
       "      <td>3</td>\n",
       "      <td>1</td>\n",
       "      <td>0</td>\n",
       "      <td>0</td>\n",
       "      <td>0</td>\n",
       "      <td>1</td>\n",
       "    </tr>\n",
       "    <tr>\n",
       "      <th>3</th>\n",
       "      <td>3</td>\n",
       "      <td>17623</td>\n",
       "      <td>2</td>\n",
       "      <td>169</td>\n",
       "      <td>82.0</td>\n",
       "      <td>150</td>\n",
       "      <td>100</td>\n",
       "      <td>1</td>\n",
       "      <td>1</td>\n",
       "      <td>0</td>\n",
       "      <td>0</td>\n",
       "      <td>1</td>\n",
       "      <td>1</td>\n",
       "    </tr>\n",
       "    <tr>\n",
       "      <th>4</th>\n",
       "      <td>4</td>\n",
       "      <td>17474</td>\n",
       "      <td>1</td>\n",
       "      <td>156</td>\n",
       "      <td>56.0</td>\n",
       "      <td>100</td>\n",
       "      <td>60</td>\n",
       "      <td>1</td>\n",
       "      <td>1</td>\n",
       "      <td>0</td>\n",
       "      <td>0</td>\n",
       "      <td>0</td>\n",
       "      <td>0</td>\n",
       "    </tr>\n",
       "  </tbody>\n",
       "</table>\n",
       "</div>"
      ],
      "text/plain": [
       "   id    age  gender  height  weight  ap_hi  ap_lo  cholesterol  gluc  smoke  \\\n",
       "0   0  18393       2     168    62.0    110     80            1     1      0   \n",
       "1   1  20228       1     156    85.0    140     90            3     1      0   \n",
       "2   2  18857       1     165    64.0    130     70            3     1      0   \n",
       "3   3  17623       2     169    82.0    150    100            1     1      0   \n",
       "4   4  17474       1     156    56.0    100     60            1     1      0   \n",
       "\n",
       "   alco  active  cardio  \n",
       "0     0       1       0  \n",
       "1     0       1       1  \n",
       "2     0       0       1  \n",
       "3     0       1       1  \n",
       "4     0       0       0  "
      ]
     },
     "execution_count": 34,
     "metadata": {},
     "output_type": "execute_result"
    }
   ],
   "source": [
    "# check df to see if imported correctly\n",
    "df.head()"
   ]
  },
  {
   "cell_type": "code",
   "execution_count": 35,
   "metadata": {},
   "outputs": [
    {
     "name": "stdout",
     "output_type": "stream",
     "text": [
      "<class 'pandas.core.frame.DataFrame'>\n",
      "RangeIndex: 70000 entries, 0 to 69999\n",
      "Data columns (total 13 columns):\n",
      "id             70000 non-null int64\n",
      "age            70000 non-null int64\n",
      "gender         70000 non-null int64\n",
      "height         70000 non-null int64\n",
      "weight         70000 non-null float64\n",
      "ap_hi          70000 non-null int64\n",
      "ap_lo          70000 non-null int64\n",
      "cholesterol    70000 non-null int64\n",
      "gluc           70000 non-null int64\n",
      "smoke          70000 non-null int64\n",
      "alco           70000 non-null int64\n",
      "active         70000 non-null int64\n",
      "cardio         70000 non-null int64\n",
      "dtypes: float64(1), int64(12)\n",
      "memory usage: 6.9 MB\n"
     ]
    }
   ],
   "source": [
    "# general information regarding the dataset\n",
    "df.info()"
   ]
  },
  {
   "cell_type": "code",
   "execution_count": 36,
   "metadata": {},
   "outputs": [
    {
     "data": {
      "text/html": [
       "<div>\n",
       "<style scoped>\n",
       "    .dataframe tbody tr th:only-of-type {\n",
       "        vertical-align: middle;\n",
       "    }\n",
       "\n",
       "    .dataframe tbody tr th {\n",
       "        vertical-align: top;\n",
       "    }\n",
       "\n",
       "    .dataframe thead th {\n",
       "        text-align: right;\n",
       "    }\n",
       "</style>\n",
       "<table border=\"1\" class=\"dataframe\">\n",
       "  <thead>\n",
       "    <tr style=\"text-align: right;\">\n",
       "      <th></th>\n",
       "      <th>id</th>\n",
       "      <th>age</th>\n",
       "      <th>gender</th>\n",
       "      <th>height</th>\n",
       "      <th>weight</th>\n",
       "      <th>ap_hi</th>\n",
       "      <th>ap_lo</th>\n",
       "      <th>cholesterol</th>\n",
       "      <th>gluc</th>\n",
       "      <th>smoke</th>\n",
       "      <th>alco</th>\n",
       "      <th>active</th>\n",
       "      <th>cardio</th>\n",
       "    </tr>\n",
       "  </thead>\n",
       "  <tbody>\n",
       "    <tr>\n",
       "      <th>count</th>\n",
       "      <td>70000.000000</td>\n",
       "      <td>70000.000000</td>\n",
       "      <td>70000.000000</td>\n",
       "      <td>70000.000000</td>\n",
       "      <td>70000.000000</td>\n",
       "      <td>70000.000000</td>\n",
       "      <td>70000.000000</td>\n",
       "      <td>70000.000000</td>\n",
       "      <td>70000.000000</td>\n",
       "      <td>70000.000000</td>\n",
       "      <td>70000.000000</td>\n",
       "      <td>70000.000000</td>\n",
       "      <td>70000.000000</td>\n",
       "    </tr>\n",
       "    <tr>\n",
       "      <th>mean</th>\n",
       "      <td>49972.419900</td>\n",
       "      <td>19468.865814</td>\n",
       "      <td>1.349571</td>\n",
       "      <td>164.359229</td>\n",
       "      <td>74.205690</td>\n",
       "      <td>128.817286</td>\n",
       "      <td>96.630414</td>\n",
       "      <td>1.366871</td>\n",
       "      <td>1.226457</td>\n",
       "      <td>0.088129</td>\n",
       "      <td>0.053771</td>\n",
       "      <td>0.803729</td>\n",
       "      <td>0.499700</td>\n",
       "    </tr>\n",
       "    <tr>\n",
       "      <th>std</th>\n",
       "      <td>28851.302323</td>\n",
       "      <td>2467.251667</td>\n",
       "      <td>0.476838</td>\n",
       "      <td>8.210126</td>\n",
       "      <td>14.395757</td>\n",
       "      <td>154.011419</td>\n",
       "      <td>188.472530</td>\n",
       "      <td>0.680250</td>\n",
       "      <td>0.572270</td>\n",
       "      <td>0.283484</td>\n",
       "      <td>0.225568</td>\n",
       "      <td>0.397179</td>\n",
       "      <td>0.500003</td>\n",
       "    </tr>\n",
       "    <tr>\n",
       "      <th>min</th>\n",
       "      <td>0.000000</td>\n",
       "      <td>10798.000000</td>\n",
       "      <td>1.000000</td>\n",
       "      <td>55.000000</td>\n",
       "      <td>10.000000</td>\n",
       "      <td>-150.000000</td>\n",
       "      <td>-70.000000</td>\n",
       "      <td>1.000000</td>\n",
       "      <td>1.000000</td>\n",
       "      <td>0.000000</td>\n",
       "      <td>0.000000</td>\n",
       "      <td>0.000000</td>\n",
       "      <td>0.000000</td>\n",
       "    </tr>\n",
       "    <tr>\n",
       "      <th>25%</th>\n",
       "      <td>25006.750000</td>\n",
       "      <td>17664.000000</td>\n",
       "      <td>1.000000</td>\n",
       "      <td>159.000000</td>\n",
       "      <td>65.000000</td>\n",
       "      <td>120.000000</td>\n",
       "      <td>80.000000</td>\n",
       "      <td>1.000000</td>\n",
       "      <td>1.000000</td>\n",
       "      <td>0.000000</td>\n",
       "      <td>0.000000</td>\n",
       "      <td>1.000000</td>\n",
       "      <td>0.000000</td>\n",
       "    </tr>\n",
       "    <tr>\n",
       "      <th>50%</th>\n",
       "      <td>50001.500000</td>\n",
       "      <td>19703.000000</td>\n",
       "      <td>1.000000</td>\n",
       "      <td>165.000000</td>\n",
       "      <td>72.000000</td>\n",
       "      <td>120.000000</td>\n",
       "      <td>80.000000</td>\n",
       "      <td>1.000000</td>\n",
       "      <td>1.000000</td>\n",
       "      <td>0.000000</td>\n",
       "      <td>0.000000</td>\n",
       "      <td>1.000000</td>\n",
       "      <td>0.000000</td>\n",
       "    </tr>\n",
       "    <tr>\n",
       "      <th>75%</th>\n",
       "      <td>74889.250000</td>\n",
       "      <td>21327.000000</td>\n",
       "      <td>2.000000</td>\n",
       "      <td>170.000000</td>\n",
       "      <td>82.000000</td>\n",
       "      <td>140.000000</td>\n",
       "      <td>90.000000</td>\n",
       "      <td>2.000000</td>\n",
       "      <td>1.000000</td>\n",
       "      <td>0.000000</td>\n",
       "      <td>0.000000</td>\n",
       "      <td>1.000000</td>\n",
       "      <td>1.000000</td>\n",
       "    </tr>\n",
       "    <tr>\n",
       "      <th>max</th>\n",
       "      <td>99999.000000</td>\n",
       "      <td>23713.000000</td>\n",
       "      <td>2.000000</td>\n",
       "      <td>250.000000</td>\n",
       "      <td>200.000000</td>\n",
       "      <td>16020.000000</td>\n",
       "      <td>11000.000000</td>\n",
       "      <td>3.000000</td>\n",
       "      <td>3.000000</td>\n",
       "      <td>1.000000</td>\n",
       "      <td>1.000000</td>\n",
       "      <td>1.000000</td>\n",
       "      <td>1.000000</td>\n",
       "    </tr>\n",
       "  </tbody>\n",
       "</table>\n",
       "</div>"
      ],
      "text/plain": [
       "                 id           age        gender        height        weight  \\\n",
       "count  70000.000000  70000.000000  70000.000000  70000.000000  70000.000000   \n",
       "mean   49972.419900  19468.865814      1.349571    164.359229     74.205690   \n",
       "std    28851.302323   2467.251667      0.476838      8.210126     14.395757   \n",
       "min        0.000000  10798.000000      1.000000     55.000000     10.000000   \n",
       "25%    25006.750000  17664.000000      1.000000    159.000000     65.000000   \n",
       "50%    50001.500000  19703.000000      1.000000    165.000000     72.000000   \n",
       "75%    74889.250000  21327.000000      2.000000    170.000000     82.000000   \n",
       "max    99999.000000  23713.000000      2.000000    250.000000    200.000000   \n",
       "\n",
       "              ap_hi         ap_lo   cholesterol          gluc         smoke  \\\n",
       "count  70000.000000  70000.000000  70000.000000  70000.000000  70000.000000   \n",
       "mean     128.817286     96.630414      1.366871      1.226457      0.088129   \n",
       "std      154.011419    188.472530      0.680250      0.572270      0.283484   \n",
       "min     -150.000000    -70.000000      1.000000      1.000000      0.000000   \n",
       "25%      120.000000     80.000000      1.000000      1.000000      0.000000   \n",
       "50%      120.000000     80.000000      1.000000      1.000000      0.000000   \n",
       "75%      140.000000     90.000000      2.000000      1.000000      0.000000   \n",
       "max    16020.000000  11000.000000      3.000000      3.000000      1.000000   \n",
       "\n",
       "               alco        active        cardio  \n",
       "count  70000.000000  70000.000000  70000.000000  \n",
       "mean       0.053771      0.803729      0.499700  \n",
       "std        0.225568      0.397179      0.500003  \n",
       "min        0.000000      0.000000      0.000000  \n",
       "25%        0.000000      1.000000      0.000000  \n",
       "50%        0.000000      1.000000      0.000000  \n",
       "75%        0.000000      1.000000      1.000000  \n",
       "max        1.000000      1.000000      1.000000  "
      ]
     },
     "execution_count": 36,
     "metadata": {},
     "output_type": "execute_result"
    }
   ],
   "source": [
    "# basic statistical computations across dataset\n",
    "df.describe()"
   ]
  },
  {
   "cell_type": "code",
   "execution_count": 37,
   "metadata": {},
   "outputs": [
    {
     "data": {
      "image/png": "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\n",
      "text/plain": [
       "<Figure size 1080x1080 with 42 Axes>"
      ]
     },
     "metadata": {},
     "output_type": "display_data"
    }
   ],
   "source": [
    "# comparing the relationship between people who have/not have cardiovascualar disease amongst a certain feature.\n",
    "sns.pairplot(df[['cardio', 'gender', 'height', 'weight', 'ap_hi', 'ap_lo']]);"
   ]
  },
  {
   "cell_type": "code",
<<<<<<< HEAD
   "execution_count": 38,
=======
   "execution_count": 7,
>>>>>>> b913abb076bb7b1db57ec361eecd60722a285e18
   "metadata": {
    "scrolled": false
   },
   "outputs": [
    {
     "data": {
<<<<<<< HEAD
      "image/png": "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\n",
=======
      "image/png": "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\n",
>>>>>>> b913abb076bb7b1db57ec361eecd60722a285e18
      "text/plain": [
       "<Figure size 432x288 with 1 Axes>"
      ]
     },
     "metadata": {
      "needs_background": "light"
     },
     "output_type": "display_data"
    }
   ],
   "source": [
    "# comparing the kernal density of the relationship between ap_hi (systolic blood pressure) & ap_lo (diastolic blood pressure)\n",
    "sns.distplot(df['ap_hi']);\n",
    "sns.distplot(df['ap_lo']);"
   ]
  },
  {
   "cell_type": "code",
<<<<<<< HEAD
   "execution_count": 39,
=======
   "execution_count": 8,
>>>>>>> b913abb076bb7b1db57ec361eecd60722a285e18
   "metadata": {},
   "outputs": [
    {
     "data": {
<<<<<<< HEAD
      "image/png": "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\n",
=======
      "image/png": "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\n",
>>>>>>> b913abb076bb7b1db57ec361eecd60722a285e18
      "text/plain": [
       "<Figure size 792x576 with 1 Axes>"
      ]
     },
     "metadata": {
      "needs_background": "light"
     },
     "output_type": "display_data"
    }
   ],
   "source": [
    "# shows the relationship between cardiovasular disease and age\n",
    "df_test = df\n",
    "from matplotlib import rcParams\n",
    "rcParams['figure.figsize'] = 11, 8\n",
    "df_test['years'] = (df_test['age'] / 365).round().astype('int')\n",
    "sns.countplot(x='years', hue='cardio', data = df, palette=\"Set2\");"
   ]
  },
  {
   "cell_type": "code",
   "execution_count": 9,
   "metadata": {},
   "outputs": [
    {
     "data": {
      "image/png": "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\n",
      "text/plain": [
       "<Figure size 792x576 with 1 Axes>"
      ]
     },
     "metadata": {
      "needs_background": "light"
     },
     "output_type": "display_data"
    }
   ],
   "source": [
    "# shows categorical variables and their respective distribution\n",
    "df_categorical = df.loc[:,['cholesterol','gluc', 'smoke', 'alco', 'active']]\n",
    "sns.countplot(x=\"variable\", hue=\"value\",data= pd.melt(df_categorical));"
   ]
  },
  {
   "cell_type": "markdown",
   "metadata": {},
   "source": [
    "## Observations\n",
    "* No null values within the entire dataset. Additionally, per Kaggle description, confirmed no null values from owner.\n",
    "* 13 total columns:\n",
    "    * id (primary key)\n",
    "    * age (days)\n",
    "    * gender (1 = Female, 2 = Male)\n",
    "    * height (cm)\n",
    "    * weight (kg)\n",
    "    * ap_hi (systolic blood pressure)\n",
    "    * ap_low (diastolic blood pressure)\n",
    "    * cholesterol (1 = normal, 2 = above normal, 3 = well above normal)\n",
    "    * gluc(glucose) (1 = normal, 2 = above normal, 3 = well above normal)\n",
    "    * smoke (0 = No, 1 = Yes)\n",
    "    * alco(alcohol) (0 = No, 1 = Yes)\n",
    "    * active (0 = No, 1 = Yes)\n",
    "    * cardio(cardiovasular disease) (0 = Does not have disease, 1 = Has disease)\n",
    "* There are more females than males in this dataset.\n",
    "* Overall, there are less people who smoke and drink alcohol and more people who are active.\n",
    "* Around half of the population have cardiovascular disease.\n",
    "* People over the age of 55 are more exposed to cardiovascular disease.\n",
    "* ap_hi, ap_low columns, weight, height have abnormal min and max values. possible that we need to delete these rows if not many affected."
   ]
  },
  {
   "cell_type": "markdown",
   "metadata": {},
   "source": [
    "## Data Cleaning"
   ]
  },
  {
   "cell_type": "markdown",
   "metadata": {},
   "source": [
    "#### Check for Missing Values"
   ]
  },
  {
   "cell_type": "code",
<<<<<<< HEAD
   "execution_count": 40,
=======
   "execution_count": 10,
>>>>>>> b913abb076bb7b1db57ec361eecd60722a285e18
   "metadata": {},
   "outputs": [
    {
     "data": {
      "text/plain": [
       "False"
      ]
     },
<<<<<<< HEAD
     "execution_count": 40,
=======
     "execution_count": 10,
>>>>>>> b913abb076bb7b1db57ec361eecd60722a285e18
     "metadata": {},
     "output_type": "execute_result"
    }
   ],
   "source": [
    "# finding any NA or missing values in the dataset\n",
    "# no NA or missing values found\n",
    "df.isnull().values.any()"
   ]
  },
  {
   "cell_type": "markdown",
   "metadata": {},
   "source": [
    "#### Converting Age from Day to Year"
   ]
  },
  {
   "cell_type": "code",
<<<<<<< HEAD
   "execution_count": 41,
=======
   "execution_count": 11,
>>>>>>> b913abb076bb7b1db57ec361eecd60722a285e18
   "metadata": {},
   "outputs": [],
   "source": [
    "# converting the age column from day (d) to year (yr)\n",
    "# 365 d = 1 yr\n",
    "# we did not account for leap years as it would not affect the true age in a meaningful way\n",
    "df.age = df.age / 365"
   ]
  },
  {
   "cell_type": "code",
<<<<<<< HEAD
   "execution_count": 42,
=======
   "execution_count": 12,
>>>>>>> b913abb076bb7b1db57ec361eecd60722a285e18
   "metadata": {},
   "outputs": [
    {
     "data": {
      "text/html": [
       "<div>\n",
       "<style scoped>\n",
       "    .dataframe tbody tr th:only-of-type {\n",
       "        vertical-align: middle;\n",
       "    }\n",
       "\n",
       "    .dataframe tbody tr th {\n",
       "        vertical-align: top;\n",
       "    }\n",
       "\n",
       "    .dataframe thead th {\n",
       "        text-align: right;\n",
       "    }\n",
       "</style>\n",
       "<table border=\"1\" class=\"dataframe\">\n",
       "  <thead>\n",
       "    <tr style=\"text-align: right;\">\n",
       "      <th></th>\n",
       "      <th>id</th>\n",
       "      <th>age</th>\n",
       "      <th>gender</th>\n",
       "      <th>height</th>\n",
       "      <th>weight</th>\n",
       "      <th>ap_hi</th>\n",
       "      <th>ap_lo</th>\n",
       "      <th>cholesterol</th>\n",
       "      <th>gluc</th>\n",
       "      <th>smoke</th>\n",
       "      <th>alco</th>\n",
       "      <th>active</th>\n",
       "      <th>cardio</th>\n",
       "      <th>years</th>\n",
       "    </tr>\n",
       "  </thead>\n",
       "  <tbody>\n",
       "    <tr>\n",
       "      <th>0</th>\n",
       "      <td>0</td>\n",
       "      <td>50.391781</td>\n",
       "      <td>2</td>\n",
       "      <td>168</td>\n",
       "      <td>62.0</td>\n",
       "      <td>110</td>\n",
       "      <td>80</td>\n",
       "      <td>1</td>\n",
       "      <td>1</td>\n",
       "      <td>0</td>\n",
       "      <td>0</td>\n",
       "      <td>1</td>\n",
       "      <td>0</td>\n",
       "      <td>50</td>\n",
       "    </tr>\n",
       "    <tr>\n",
       "      <th>1</th>\n",
       "      <td>1</td>\n",
       "      <td>55.419178</td>\n",
       "      <td>1</td>\n",
       "      <td>156</td>\n",
       "      <td>85.0</td>\n",
       "      <td>140</td>\n",
       "      <td>90</td>\n",
       "      <td>3</td>\n",
       "      <td>1</td>\n",
       "      <td>0</td>\n",
       "      <td>0</td>\n",
       "      <td>1</td>\n",
       "      <td>1</td>\n",
       "      <td>55</td>\n",
       "    </tr>\n",
       "    <tr>\n",
       "      <th>2</th>\n",
       "      <td>2</td>\n",
       "      <td>51.663014</td>\n",
       "      <td>1</td>\n",
       "      <td>165</td>\n",
       "      <td>64.0</td>\n",
       "      <td>130</td>\n",
       "      <td>70</td>\n",
       "      <td>3</td>\n",
       "      <td>1</td>\n",
       "      <td>0</td>\n",
       "      <td>0</td>\n",
       "      <td>0</td>\n",
       "      <td>1</td>\n",
       "      <td>52</td>\n",
       "    </tr>\n",
       "    <tr>\n",
       "      <th>3</th>\n",
       "      <td>3</td>\n",
       "      <td>48.282192</td>\n",
       "      <td>2</td>\n",
       "      <td>169</td>\n",
       "      <td>82.0</td>\n",
       "      <td>150</td>\n",
       "      <td>100</td>\n",
       "      <td>1</td>\n",
       "      <td>1</td>\n",
       "      <td>0</td>\n",
       "      <td>0</td>\n",
       "      <td>1</td>\n",
       "      <td>1</td>\n",
       "      <td>48</td>\n",
       "    </tr>\n",
       "    <tr>\n",
       "      <th>4</th>\n",
       "      <td>4</td>\n",
       "      <td>47.873973</td>\n",
       "      <td>1</td>\n",
       "      <td>156</td>\n",
       "      <td>56.0</td>\n",
       "      <td>100</td>\n",
       "      <td>60</td>\n",
       "      <td>1</td>\n",
       "      <td>1</td>\n",
       "      <td>0</td>\n",
       "      <td>0</td>\n",
       "      <td>0</td>\n",
       "      <td>0</td>\n",
       "      <td>48</td>\n",
       "    </tr>\n",
       "  </tbody>\n",
       "</table>\n",
       "</div>"
      ],
      "text/plain": [
       "   id        age  gender  height  weight  ap_hi  ap_lo  cholesterol  gluc  \\\n",
       "0   0  50.391781       2     168    62.0    110     80            1     1   \n",
       "1   1  55.419178       1     156    85.0    140     90            3     1   \n",
       "2   2  51.663014       1     165    64.0    130     70            3     1   \n",
       "3   3  48.282192       2     169    82.0    150    100            1     1   \n",
       "4   4  47.873973       1     156    56.0    100     60            1     1   \n",
       "\n",
       "   smoke  alco  active  cardio  years  \n",
       "0      0     0       1       0     50  \n",
       "1      0     0       1       1     55  \n",
       "2      0     0       0       1     52  \n",
       "3      0     0       1       1     48  \n",
       "4      0     0       0       0     48  "
      ]
     },
<<<<<<< HEAD
     "execution_count": 42,
=======
     "execution_count": 12,
>>>>>>> b913abb076bb7b1db57ec361eecd60722a285e18
     "metadata": {},
     "output_type": "execute_result"
    }
   ],
   "source": [
    "# preview changes made in age column\n",
    "df.head()"
   ]
  },
  {
   "cell_type": "markdown",
   "metadata": {},
   "source": [
    "#### Converting Weight from Kilogram to Pound"
   ]
  },
  {
   "cell_type": "code",
<<<<<<< HEAD
   "execution_count": 43,
=======
   "execution_count": 13,
>>>>>>> b913abb076bb7b1db57ec361eecd60722a285e18
   "metadata": {},
   "outputs": [],
   "source": [
    "# converting the weight column from kilogram (kg) to pound (lb)\n",
    "# 1 kg  = 2.2046 lb\n",
    "df.weight = df.weight * 2.2046"
   ]
  },
  {
   "cell_type": "code",
<<<<<<< HEAD
   "execution_count": 44,
=======
   "execution_count": 14,
>>>>>>> b913abb076bb7b1db57ec361eecd60722a285e18
   "metadata": {},
   "outputs": [
    {
     "data": {
      "text/html": [
       "<div>\n",
       "<style scoped>\n",
       "    .dataframe tbody tr th:only-of-type {\n",
       "        vertical-align: middle;\n",
       "    }\n",
       "\n",
       "    .dataframe tbody tr th {\n",
       "        vertical-align: top;\n",
       "    }\n",
       "\n",
       "    .dataframe thead th {\n",
       "        text-align: right;\n",
       "    }\n",
       "</style>\n",
       "<table border=\"1\" class=\"dataframe\">\n",
       "  <thead>\n",
       "    <tr style=\"text-align: right;\">\n",
       "      <th></th>\n",
       "      <th>id</th>\n",
       "      <th>age</th>\n",
       "      <th>gender</th>\n",
       "      <th>height</th>\n",
       "      <th>weight</th>\n",
       "      <th>ap_hi</th>\n",
       "      <th>ap_lo</th>\n",
       "      <th>cholesterol</th>\n",
       "      <th>gluc</th>\n",
       "      <th>smoke</th>\n",
       "      <th>alco</th>\n",
       "      <th>active</th>\n",
       "      <th>cardio</th>\n",
       "      <th>years</th>\n",
       "    </tr>\n",
       "  </thead>\n",
       "  <tbody>\n",
       "    <tr>\n",
       "      <th>0</th>\n",
       "      <td>0</td>\n",
       "      <td>50.391781</td>\n",
       "      <td>2</td>\n",
       "      <td>168</td>\n",
       "      <td>136.6852</td>\n",
       "      <td>110</td>\n",
       "      <td>80</td>\n",
       "      <td>1</td>\n",
       "      <td>1</td>\n",
       "      <td>0</td>\n",
       "      <td>0</td>\n",
       "      <td>1</td>\n",
       "      <td>0</td>\n",
       "      <td>50</td>\n",
       "    </tr>\n",
       "    <tr>\n",
       "      <th>1</th>\n",
       "      <td>1</td>\n",
       "      <td>55.419178</td>\n",
       "      <td>1</td>\n",
       "      <td>156</td>\n",
       "      <td>187.3910</td>\n",
       "      <td>140</td>\n",
       "      <td>90</td>\n",
       "      <td>3</td>\n",
       "      <td>1</td>\n",
       "      <td>0</td>\n",
       "      <td>0</td>\n",
       "      <td>1</td>\n",
       "      <td>1</td>\n",
       "      <td>55</td>\n",
       "    </tr>\n",
       "    <tr>\n",
       "      <th>2</th>\n",
       "      <td>2</td>\n",
       "      <td>51.663014</td>\n",
       "      <td>1</td>\n",
       "      <td>165</td>\n",
       "      <td>141.0944</td>\n",
       "      <td>130</td>\n",
       "      <td>70</td>\n",
       "      <td>3</td>\n",
       "      <td>1</td>\n",
       "      <td>0</td>\n",
       "      <td>0</td>\n",
       "      <td>0</td>\n",
       "      <td>1</td>\n",
       "      <td>52</td>\n",
       "    </tr>\n",
       "    <tr>\n",
       "      <th>3</th>\n",
       "      <td>3</td>\n",
       "      <td>48.282192</td>\n",
       "      <td>2</td>\n",
       "      <td>169</td>\n",
       "      <td>180.7772</td>\n",
       "      <td>150</td>\n",
       "      <td>100</td>\n",
       "      <td>1</td>\n",
       "      <td>1</td>\n",
       "      <td>0</td>\n",
       "      <td>0</td>\n",
       "      <td>1</td>\n",
       "      <td>1</td>\n",
       "      <td>48</td>\n",
       "    </tr>\n",
       "    <tr>\n",
       "      <th>4</th>\n",
       "      <td>4</td>\n",
       "      <td>47.873973</td>\n",
       "      <td>1</td>\n",
       "      <td>156</td>\n",
       "      <td>123.4576</td>\n",
       "      <td>100</td>\n",
       "      <td>60</td>\n",
       "      <td>1</td>\n",
       "      <td>1</td>\n",
       "      <td>0</td>\n",
       "      <td>0</td>\n",
       "      <td>0</td>\n",
       "      <td>0</td>\n",
       "      <td>48</td>\n",
       "    </tr>\n",
       "  </tbody>\n",
       "</table>\n",
       "</div>"
      ],
      "text/plain": [
       "   id        age  gender  height    weight  ap_hi  ap_lo  cholesterol  gluc  \\\n",
       "0   0  50.391781       2     168  136.6852    110     80            1     1   \n",
       "1   1  55.419178       1     156  187.3910    140     90            3     1   \n",
       "2   2  51.663014       1     165  141.0944    130     70            3     1   \n",
       "3   3  48.282192       2     169  180.7772    150    100            1     1   \n",
       "4   4  47.873973       1     156  123.4576    100     60            1     1   \n",
       "\n",
       "   smoke  alco  active  cardio  years  \n",
       "0      0     0       1       0     50  \n",
       "1      0     0       1       1     55  \n",
       "2      0     0       0       1     52  \n",
       "3      0     0       1       1     48  \n",
       "4      0     0       0       0     48  "
      ]
     },
<<<<<<< HEAD
     "execution_count": 44,
=======
     "execution_count": 14,
>>>>>>> b913abb076bb7b1db57ec361eecd60722a285e18
     "metadata": {},
     "output_type": "execute_result"
    }
   ],
   "source": [
    "# preview changes made in weight column\n",
    "df.head()"
   ]
  },
  {
   "cell_type": "markdown",
   "metadata": {},
   "source": [
    "#### Converting Height from Centimeter to Inch"
   ]
  },
  {
   "cell_type": "code",
<<<<<<< HEAD
   "execution_count": 45,
=======
   "execution_count": 15,
>>>>>>> b913abb076bb7b1db57ec361eecd60722a285e18
   "metadata": {},
   "outputs": [],
   "source": [
    "# converting the height column from centimeter (cm) to inch (in)\n",
    "# 1 cm = 0.393701 in\n",
    "df.height = df.height * 0.393701"
   ]
  },
  {
   "cell_type": "code",
<<<<<<< HEAD
   "execution_count": 46,
=======
   "execution_count": 16,
>>>>>>> b913abb076bb7b1db57ec361eecd60722a285e18
   "metadata": {},
   "outputs": [
    {
     "data": {
      "text/html": [
       "<div>\n",
       "<style scoped>\n",
       "    .dataframe tbody tr th:only-of-type {\n",
       "        vertical-align: middle;\n",
       "    }\n",
       "\n",
       "    .dataframe tbody tr th {\n",
       "        vertical-align: top;\n",
       "    }\n",
       "\n",
       "    .dataframe thead th {\n",
       "        text-align: right;\n",
       "    }\n",
       "</style>\n",
       "<table border=\"1\" class=\"dataframe\">\n",
       "  <thead>\n",
       "    <tr style=\"text-align: right;\">\n",
       "      <th></th>\n",
       "      <th>id</th>\n",
       "      <th>age</th>\n",
       "      <th>gender</th>\n",
       "      <th>height</th>\n",
       "      <th>weight</th>\n",
       "      <th>ap_hi</th>\n",
       "      <th>ap_lo</th>\n",
       "      <th>cholesterol</th>\n",
       "      <th>gluc</th>\n",
       "      <th>smoke</th>\n",
       "      <th>alco</th>\n",
       "      <th>active</th>\n",
       "      <th>cardio</th>\n",
       "      <th>years</th>\n",
       "    </tr>\n",
       "  </thead>\n",
       "  <tbody>\n",
       "    <tr>\n",
       "      <th>0</th>\n",
       "      <td>0</td>\n",
       "      <td>50.391781</td>\n",
       "      <td>2</td>\n",
       "      <td>66.141768</td>\n",
       "      <td>136.6852</td>\n",
       "      <td>110</td>\n",
       "      <td>80</td>\n",
       "      <td>1</td>\n",
       "      <td>1</td>\n",
       "      <td>0</td>\n",
       "      <td>0</td>\n",
       "      <td>1</td>\n",
       "      <td>0</td>\n",
       "      <td>50</td>\n",
       "    </tr>\n",
       "    <tr>\n",
       "      <th>1</th>\n",
       "      <td>1</td>\n",
       "      <td>55.419178</td>\n",
       "      <td>1</td>\n",
       "      <td>61.417356</td>\n",
       "      <td>187.3910</td>\n",
       "      <td>140</td>\n",
       "      <td>90</td>\n",
       "      <td>3</td>\n",
       "      <td>1</td>\n",
       "      <td>0</td>\n",
       "      <td>0</td>\n",
       "      <td>1</td>\n",
       "      <td>1</td>\n",
       "      <td>55</td>\n",
       "    </tr>\n",
       "    <tr>\n",
       "      <th>2</th>\n",
       "      <td>2</td>\n",
       "      <td>51.663014</td>\n",
       "      <td>1</td>\n",
       "      <td>64.960665</td>\n",
       "      <td>141.0944</td>\n",
       "      <td>130</td>\n",
       "      <td>70</td>\n",
       "      <td>3</td>\n",
       "      <td>1</td>\n",
       "      <td>0</td>\n",
       "      <td>0</td>\n",
       "      <td>0</td>\n",
       "      <td>1</td>\n",
       "      <td>52</td>\n",
       "    </tr>\n",
       "    <tr>\n",
       "      <th>3</th>\n",
       "      <td>3</td>\n",
       "      <td>48.282192</td>\n",
       "      <td>2</td>\n",
       "      <td>66.535469</td>\n",
       "      <td>180.7772</td>\n",
       "      <td>150</td>\n",
       "      <td>100</td>\n",
       "      <td>1</td>\n",
       "      <td>1</td>\n",
       "      <td>0</td>\n",
       "      <td>0</td>\n",
       "      <td>1</td>\n",
       "      <td>1</td>\n",
       "      <td>48</td>\n",
       "    </tr>\n",
       "    <tr>\n",
       "      <th>4</th>\n",
       "      <td>4</td>\n",
       "      <td>47.873973</td>\n",
       "      <td>1</td>\n",
       "      <td>61.417356</td>\n",
       "      <td>123.4576</td>\n",
       "      <td>100</td>\n",
       "      <td>60</td>\n",
       "      <td>1</td>\n",
       "      <td>1</td>\n",
       "      <td>0</td>\n",
       "      <td>0</td>\n",
       "      <td>0</td>\n",
       "      <td>0</td>\n",
       "      <td>48</td>\n",
       "    </tr>\n",
       "  </tbody>\n",
       "</table>\n",
       "</div>"
      ],
      "text/plain": [
       "   id        age  gender     height    weight  ap_hi  ap_lo  cholesterol  \\\n",
       "0   0  50.391781       2  66.141768  136.6852    110     80            1   \n",
       "1   1  55.419178       1  61.417356  187.3910    140     90            3   \n",
       "2   2  51.663014       1  64.960665  141.0944    130     70            3   \n",
       "3   3  48.282192       2  66.535469  180.7772    150    100            1   \n",
       "4   4  47.873973       1  61.417356  123.4576    100     60            1   \n",
       "\n",
       "   gluc  smoke  alco  active  cardio  years  \n",
       "0     1      0     0       1       0     50  \n",
       "1     1      0     0       1       1     55  \n",
       "2     1      0     0       0       1     52  \n",
       "3     1      0     0       1       1     48  \n",
       "4     1      0     0       0       0     48  "
      ]
     },
<<<<<<< HEAD
     "execution_count": 46,
=======
     "execution_count": 16,
>>>>>>> b913abb076bb7b1db57ec361eecd60722a285e18
     "metadata": {},
     "output_type": "execute_result"
    }
   ],
   "source": [
    "# preview changes made in height column\n",
    "df.head()"
   ]
  },
  {
   "cell_type": "markdown",
   "metadata": {},
   "source": [
    "#### Removing Outliers for Abnormal Values"
   ]
  },
  {
   "cell_type": "code",
   "execution_count": 47,
   "metadata": {},
   "outputs": [],
   "source": [
    "# removing rows with height value > 82 in or < 58 in\n",
    "# noticed rows with incomplete or inaccurate height data (i.e. heights with abnormal values, 25 inches)\n",
    "# used 82 and 58 as upper and lower bounds respectively as estimations of a good range of heights\n",
    "df.drop(df[(df['height'] > 82) | (df['height'] < 58)].index,inplace=True)\n",
    "\n",
    "# removing rows with weight value > 300 lb or < 120 lb\n",
    "# noticed rows with incomplete or inaccurate weight data (i.e. weight under 100 lb when youngest age is 29)\n",
    "# used 300 and 120 as upper and lower bounds respectively as estimations of a good range of heights\n",
    "df.drop(df[(df['weight'] > 300) | (df['weight'] < 120)].index,inplace=True)"
   ]
  },
  {
   "cell_type": "code",
   "execution_count": 48,
   "metadata": {},
   "outputs": [],
   "source": [
    "# removing rows with ap_hi (systolic blood pressure) value > 200 or < 90\n",
    "# noticed rows with inaccurate ap_hi data (i.e. blood pressure values = 0, extreme values > 1000)\n",
    "# used 200 and 90 as upper and lower bounds respectively per the American Heart Association blood pressure scale\n",
    "df.drop(df[(df['ap_hi'] > 200) | (df['ap_hi'] < 90)].index,inplace=True)\n",
    "\n",
    "# removing rows with ap_lo (diastolic blood pressure) value > 120 or < 60\n",
    "# noticed rows with inaccurate ap_hi data (i.e. blood pressure values = 0, extreme values > 1000)\n",
    "# used 120 and 60 as upper and lower bounds respectively per the American Heart Association blood pressure scale\n",
    "df.drop(df[(df['ap_lo'] > 120) | (df['ap_lo'] < 60)].index,inplace=True)"
   ]
  },
  {
   "cell_type": "code",
   "execution_count": 49,
   "metadata": {},
   "outputs": [
    {
     "data": {
      "text/html": [
       "<div>\n",
       "<style scoped>\n",
       "    .dataframe tbody tr th:only-of-type {\n",
       "        vertical-align: middle;\n",
       "    }\n",
       "\n",
       "    .dataframe tbody tr th {\n",
       "        vertical-align: top;\n",
       "    }\n",
       "\n",
       "    .dataframe thead th {\n",
       "        text-align: right;\n",
       "    }\n",
       "</style>\n",
       "<table border=\"1\" class=\"dataframe\">\n",
       "  <thead>\n",
       "    <tr style=\"text-align: right;\">\n",
       "      <th></th>\n",
       "      <th>id</th>\n",
       "      <th>age</th>\n",
       "      <th>gender</th>\n",
       "      <th>height</th>\n",
       "      <th>weight</th>\n",
       "      <th>ap_hi</th>\n",
       "      <th>ap_lo</th>\n",
       "      <th>cholesterol</th>\n",
       "      <th>gluc</th>\n",
       "      <th>smoke</th>\n",
       "      <th>alco</th>\n",
       "      <th>active</th>\n",
       "      <th>cardio</th>\n",
       "      <th>years</th>\n",
       "    </tr>\n",
       "  </thead>\n",
       "  <tbody>\n",
       "    <tr>\n",
       "      <th>0</th>\n",
       "      <td>0</td>\n",
       "      <td>50.391781</td>\n",
       "      <td>2</td>\n",
       "      <td>66.141768</td>\n",
       "      <td>136.6852</td>\n",
       "      <td>110</td>\n",
       "      <td>80</td>\n",
       "      <td>1</td>\n",
       "      <td>1</td>\n",
       "      <td>0</td>\n",
       "      <td>0</td>\n",
       "      <td>1</td>\n",
       "      <td>0</td>\n",
       "      <td>50</td>\n",
       "    </tr>\n",
       "    <tr>\n",
       "      <th>1</th>\n",
       "      <td>1</td>\n",
       "      <td>55.419178</td>\n",
       "      <td>1</td>\n",
       "      <td>61.417356</td>\n",
       "      <td>187.3910</td>\n",
       "      <td>140</td>\n",
       "      <td>90</td>\n",
       "      <td>3</td>\n",
       "      <td>1</td>\n",
       "      <td>0</td>\n",
       "      <td>0</td>\n",
       "      <td>1</td>\n",
       "      <td>1</td>\n",
       "      <td>55</td>\n",
       "    </tr>\n",
       "    <tr>\n",
       "      <th>2</th>\n",
       "      <td>2</td>\n",
       "      <td>51.663014</td>\n",
       "      <td>1</td>\n",
       "      <td>64.960665</td>\n",
       "      <td>141.0944</td>\n",
       "      <td>130</td>\n",
       "      <td>70</td>\n",
       "      <td>3</td>\n",
       "      <td>1</td>\n",
       "      <td>0</td>\n",
       "      <td>0</td>\n",
       "      <td>0</td>\n",
       "      <td>1</td>\n",
       "      <td>52</td>\n",
       "    </tr>\n",
       "    <tr>\n",
       "      <th>3</th>\n",
       "      <td>3</td>\n",
       "      <td>48.282192</td>\n",
       "      <td>2</td>\n",
       "      <td>66.535469</td>\n",
       "      <td>180.7772</td>\n",
       "      <td>150</td>\n",
       "      <td>100</td>\n",
       "      <td>1</td>\n",
       "      <td>1</td>\n",
       "      <td>0</td>\n",
       "      <td>0</td>\n",
       "      <td>1</td>\n",
       "      <td>1</td>\n",
       "      <td>48</td>\n",
       "    </tr>\n",
       "    <tr>\n",
       "      <th>4</th>\n",
       "      <td>4</td>\n",
       "      <td>47.873973</td>\n",
       "      <td>1</td>\n",
       "      <td>61.417356</td>\n",
       "      <td>123.4576</td>\n",
       "      <td>100</td>\n",
       "      <td>60</td>\n",
       "      <td>1</td>\n",
       "      <td>1</td>\n",
       "      <td>0</td>\n",
       "      <td>0</td>\n",
       "      <td>0</td>\n",
       "      <td>0</td>\n",
       "      <td>48</td>\n",
       "    </tr>\n",
       "  </tbody>\n",
       "</table>\n",
       "</div>"
      ],
      "text/plain": [
       "   id        age  gender     height    weight  ap_hi  ap_lo  cholesterol  \\\n",
       "0   0  50.391781       2  66.141768  136.6852    110     80            1   \n",
       "1   1  55.419178       1  61.417356  187.3910    140     90            3   \n",
       "2   2  51.663014       1  64.960665  141.0944    130     70            3   \n",
       "3   3  48.282192       2  66.535469  180.7772    150    100            1   \n",
       "4   4  47.873973       1  61.417356  123.4576    100     60            1   \n",
       "\n",
       "   gluc  smoke  alco  active  cardio  years  \n",
       "0     1      0     0       1       0     50  \n",
       "1     1      0     0       1       1     55  \n",
       "2     1      0     0       0       1     52  \n",
       "3     1      0     0       1       1     48  \n",
       "4     1      0     0       0       0     48  "
      ]
     },
     "execution_count": 49,
     "metadata": {},
     "output_type": "execute_result"
    }
   ],
   "source": [
    "df.head()"
   ]
  },
  {
   "cell_type": "markdown",
   "metadata": {},
   "source": [
    "## Feature Engineering"
   ]
  },
  {
   "cell_type": "markdown",
   "metadata": {},
   "source": [
    "#### Calculating BMI\n",
    "* BMI: is an estimate of body fat and a good measure of your patients' risk for diseases that can occur with overweight and obesity.\n",
    "* calculated by $kg/meters^2$.\n",
    "* BMI scale:\n",
    "    * If your BMI is **less than 18.5**, it falls within the **underweight** range.\n",
    "    * If your BMI is **18.5 to <25**, it falls within the **normal**.\n",
    "    * If your BMI is **25.0 to <30**, it falls within the **overweight** range.\n",
    "    * If your BMI is **30.0 or higher**, it falls within the **obese** range."
   ]
  },
  {
   "cell_type": "code",
   "execution_count": 50,
   "metadata": {},
   "outputs": [],
   "source": [
    "# calculating BMI with formula: kg / meters^2\n",
    "\n",
    "# convert weight from lb to kg\n",
    "kg = (df.weight/2.2046)\n",
    "\n",
    "# convert height from in to cm\n",
    "cm = (df.height/0.393701)\n",
    "\n",
    "# convert height from cm to m\n",
    "m = cm * 0.01\n",
    "\n",
    "# plug values into formula and set it equal to a new column, BMI\n",
    "df['BMI'] = kg/m**2"
   ]
  },
  {
   "cell_type": "code",
   "execution_count": 51,
   "metadata": {},
   "outputs": [
    {
     "data": {
      "text/html": [
       "<div>\n",
       "<style scoped>\n",
       "    .dataframe tbody tr th:only-of-type {\n",
       "        vertical-align: middle;\n",
       "    }\n",
       "\n",
       "    .dataframe tbody tr th {\n",
       "        vertical-align: top;\n",
       "    }\n",
       "\n",
       "    .dataframe thead th {\n",
       "        text-align: right;\n",
       "    }\n",
       "</style>\n",
       "<table border=\"1\" class=\"dataframe\">\n",
       "  <thead>\n",
       "    <tr style=\"text-align: right;\">\n",
       "      <th></th>\n",
       "      <th>id</th>\n",
       "      <th>age</th>\n",
       "      <th>gender</th>\n",
       "      <th>height</th>\n",
       "      <th>weight</th>\n",
       "      <th>ap_hi</th>\n",
       "      <th>ap_lo</th>\n",
       "      <th>cholesterol</th>\n",
       "      <th>gluc</th>\n",
       "      <th>smoke</th>\n",
       "      <th>alco</th>\n",
       "      <th>active</th>\n",
       "      <th>cardio</th>\n",
       "      <th>years</th>\n",
       "      <th>BMI</th>\n",
       "    </tr>\n",
       "  </thead>\n",
       "  <tbody>\n",
       "    <tr>\n",
       "      <th>0</th>\n",
       "      <td>0</td>\n",
       "      <td>50.391781</td>\n",
       "      <td>2</td>\n",
       "      <td>66.141768</td>\n",
       "      <td>136.6852</td>\n",
       "      <td>110</td>\n",
       "      <td>80</td>\n",
       "      <td>1</td>\n",
       "      <td>1</td>\n",
       "      <td>0</td>\n",
       "      <td>0</td>\n",
       "      <td>1</td>\n",
       "      <td>0</td>\n",
       "      <td>50</td>\n",
       "      <td>21.967120</td>\n",
       "    </tr>\n",
       "    <tr>\n",
       "      <th>1</th>\n",
       "      <td>1</td>\n",
       "      <td>55.419178</td>\n",
       "      <td>1</td>\n",
       "      <td>61.417356</td>\n",
       "      <td>187.3910</td>\n",
       "      <td>140</td>\n",
       "      <td>90</td>\n",
       "      <td>3</td>\n",
       "      <td>1</td>\n",
       "      <td>0</td>\n",
       "      <td>0</td>\n",
       "      <td>1</td>\n",
       "      <td>1</td>\n",
       "      <td>55</td>\n",
       "      <td>34.927679</td>\n",
       "    </tr>\n",
       "    <tr>\n",
       "      <th>2</th>\n",
       "      <td>2</td>\n",
       "      <td>51.663014</td>\n",
       "      <td>1</td>\n",
       "      <td>64.960665</td>\n",
       "      <td>141.0944</td>\n",
       "      <td>130</td>\n",
       "      <td>70</td>\n",
       "      <td>3</td>\n",
       "      <td>1</td>\n",
       "      <td>0</td>\n",
       "      <td>0</td>\n",
       "      <td>0</td>\n",
       "      <td>1</td>\n",
       "      <td>52</td>\n",
       "      <td>23.507805</td>\n",
       "    </tr>\n",
       "    <tr>\n",
       "      <th>3</th>\n",
       "      <td>3</td>\n",
       "      <td>48.282192</td>\n",
       "      <td>2</td>\n",
       "      <td>66.535469</td>\n",
       "      <td>180.7772</td>\n",
       "      <td>150</td>\n",
       "      <td>100</td>\n",
       "      <td>1</td>\n",
       "      <td>1</td>\n",
       "      <td>0</td>\n",
       "      <td>0</td>\n",
       "      <td>1</td>\n",
       "      <td>1</td>\n",
       "      <td>48</td>\n",
       "      <td>28.710479</td>\n",
       "    </tr>\n",
       "    <tr>\n",
       "      <th>4</th>\n",
       "      <td>4</td>\n",
       "      <td>47.873973</td>\n",
       "      <td>1</td>\n",
       "      <td>61.417356</td>\n",
       "      <td>123.4576</td>\n",
       "      <td>100</td>\n",
       "      <td>60</td>\n",
       "      <td>1</td>\n",
       "      <td>1</td>\n",
       "      <td>0</td>\n",
       "      <td>0</td>\n",
       "      <td>0</td>\n",
       "      <td>0</td>\n",
       "      <td>48</td>\n",
       "      <td>23.011177</td>\n",
       "    </tr>\n",
       "  </tbody>\n",
       "</table>\n",
       "</div>"
      ],
      "text/plain": [
       "   id        age  gender     height    weight  ap_hi  ap_lo  cholesterol  \\\n",
       "0   0  50.391781       2  66.141768  136.6852    110     80            1   \n",
       "1   1  55.419178       1  61.417356  187.3910    140     90            3   \n",
       "2   2  51.663014       1  64.960665  141.0944    130     70            3   \n",
       "3   3  48.282192       2  66.535469  180.7772    150    100            1   \n",
       "4   4  47.873973       1  61.417356  123.4576    100     60            1   \n",
       "\n",
       "   gluc  smoke  alco  active  cardio  years        BMI  \n",
       "0     1      0     0       1       0     50  21.967120  \n",
       "1     1      0     0       1       1     55  34.927679  \n",
       "2     1      0     0       0       1     52  23.507805  \n",
       "3     1      0     0       1       1     48  28.710479  \n",
       "4     1      0     0       0       0     48  23.011177  "
      ]
     },
     "execution_count": 51,
     "metadata": {},
     "output_type": "execute_result"
    }
   ],
   "source": [
    "# preview new column made\n",
    "df.head()"
   ]
  },
  {
   "cell_type": "markdown",
   "metadata": {},
   "source": [
    "#### Categorizing Blood Pressure Levels\n",
    "\n",
    "Values:\n",
    "* 0 = not high blood pressure\n",
    "* 1 = high blood pressure"
   ]
  },
  {
   "cell_type": "code",
<<<<<<< HEAD
   "execution_count": 52,
=======
   "execution_count": 22,
>>>>>>> b913abb076bb7b1db57ec361eecd60722a285e18
   "metadata": {},
   "outputs": [],
   "source": [
    "# creating new column blood_pressure based on American Heart Association requirements for high blood pressure.\n",
    "df.loc[(df.ap_hi < 130) & (df.ap_lo < 80), 'blood_pressure'] = 0\n",
    "df.loc[(df.ap_hi >= 130) | (df.ap_lo >= 80) & (df.blood_pressure != 0), 'blood_pressure'] = 1"
   ]
  },
  {
   "cell_type": "code",
<<<<<<< HEAD
   "execution_count": 53,
   "metadata": {
    "scrolled": true
   },
=======
   "execution_count": 23,
   "metadata": {},
>>>>>>> b913abb076bb7b1db57ec361eecd60722a285e18
   "outputs": [
    {
     "name": "stdout",
     "output_type": "stream",
     "text": [
      "1.0    53369\n",
      "0.0    11073\n",
      "Name: blood_pressure, dtype: int64\n"
     ]
    },
    {
     "data": {
      "text/html": [
       "<div>\n",
       "<style scoped>\n",
       "    .dataframe tbody tr th:only-of-type {\n",
       "        vertical-align: middle;\n",
       "    }\n",
       "\n",
       "    .dataframe tbody tr th {\n",
       "        vertical-align: top;\n",
       "    }\n",
       "\n",
       "    .dataframe thead th {\n",
       "        text-align: right;\n",
       "    }\n",
       "</style>\n",
       "<table border=\"1\" class=\"dataframe\">\n",
       "  <thead>\n",
       "    <tr style=\"text-align: right;\">\n",
       "      <th></th>\n",
       "      <th>id</th>\n",
       "      <th>age</th>\n",
       "      <th>gender</th>\n",
       "      <th>height</th>\n",
       "      <th>weight</th>\n",
       "      <th>ap_hi</th>\n",
       "      <th>ap_lo</th>\n",
       "      <th>cholesterol</th>\n",
       "      <th>gluc</th>\n",
       "      <th>smoke</th>\n",
       "      <th>alco</th>\n",
       "      <th>active</th>\n",
       "      <th>cardio</th>\n",
       "      <th>years</th>\n",
       "      <th>BMI</th>\n",
       "      <th>blood_pressure</th>\n",
       "    </tr>\n",
       "  </thead>\n",
       "  <tbody>\n",
       "    <tr>\n",
       "      <th>0</th>\n",
       "      <td>0</td>\n",
       "      <td>50.391781</td>\n",
       "      <td>2</td>\n",
       "      <td>66.141768</td>\n",
       "      <td>136.6852</td>\n",
       "      <td>110</td>\n",
       "      <td>80</td>\n",
       "      <td>1</td>\n",
       "      <td>1</td>\n",
       "      <td>0</td>\n",
       "      <td>0</td>\n",
       "      <td>1</td>\n",
       "      <td>0</td>\n",
       "      <td>50</td>\n",
       "      <td>21.967120</td>\n",
       "      <td>1.0</td>\n",
       "    </tr>\n",
       "    <tr>\n",
       "      <th>1</th>\n",
       "      <td>1</td>\n",
       "      <td>55.419178</td>\n",
       "      <td>1</td>\n",
       "      <td>61.417356</td>\n",
       "      <td>187.3910</td>\n",
       "      <td>140</td>\n",
       "      <td>90</td>\n",
       "      <td>3</td>\n",
       "      <td>1</td>\n",
       "      <td>0</td>\n",
       "      <td>0</td>\n",
       "      <td>1</td>\n",
       "      <td>1</td>\n",
       "      <td>55</td>\n",
       "      <td>34.927679</td>\n",
       "      <td>1.0</td>\n",
       "    </tr>\n",
       "    <tr>\n",
       "      <th>2</th>\n",
       "      <td>2</td>\n",
       "      <td>51.663014</td>\n",
       "      <td>1</td>\n",
       "      <td>64.960665</td>\n",
       "      <td>141.0944</td>\n",
       "      <td>130</td>\n",
       "      <td>70</td>\n",
       "      <td>3</td>\n",
       "      <td>1</td>\n",
       "      <td>0</td>\n",
       "      <td>0</td>\n",
       "      <td>0</td>\n",
       "      <td>1</td>\n",
       "      <td>52</td>\n",
       "      <td>23.507805</td>\n",
       "      <td>1.0</td>\n",
       "    </tr>\n",
       "    <tr>\n",
       "      <th>3</th>\n",
       "      <td>3</td>\n",
       "      <td>48.282192</td>\n",
       "      <td>2</td>\n",
       "      <td>66.535469</td>\n",
       "      <td>180.7772</td>\n",
       "      <td>150</td>\n",
       "      <td>100</td>\n",
       "      <td>1</td>\n",
       "      <td>1</td>\n",
       "      <td>0</td>\n",
       "      <td>0</td>\n",
       "      <td>1</td>\n",
       "      <td>1</td>\n",
       "      <td>48</td>\n",
       "      <td>28.710479</td>\n",
       "      <td>1.0</td>\n",
       "    </tr>\n",
       "    <tr>\n",
       "      <th>4</th>\n",
       "      <td>4</td>\n",
       "      <td>47.873973</td>\n",
       "      <td>1</td>\n",
       "      <td>61.417356</td>\n",
       "      <td>123.4576</td>\n",
       "      <td>100</td>\n",
       "      <td>60</td>\n",
       "      <td>1</td>\n",
       "      <td>1</td>\n",
       "      <td>0</td>\n",
       "      <td>0</td>\n",
       "      <td>0</td>\n",
       "      <td>0</td>\n",
       "      <td>48</td>\n",
       "      <td>23.011177</td>\n",
       "      <td>0.0</td>\n",
       "    </tr>\n",
       "  </tbody>\n",
       "</table>\n",
       "</div>"
      ],
      "text/plain": [
       "   id        age  gender     height    weight  ap_hi  ap_lo  cholesterol  \\\n",
       "0   0  50.391781       2  66.141768  136.6852    110     80            1   \n",
       "1   1  55.419178       1  61.417356  187.3910    140     90            3   \n",
       "2   2  51.663014       1  64.960665  141.0944    130     70            3   \n",
       "3   3  48.282192       2  66.535469  180.7772    150    100            1   \n",
       "4   4  47.873973       1  61.417356  123.4576    100     60            1   \n",
       "\n",
       "   gluc  smoke  alco  active  cardio  years        BMI  blood_pressure  \n",
       "0     1      0     0       1       0     50  21.967120             1.0  \n",
       "1     1      0     0       1       1     55  34.927679             1.0  \n",
       "2     1      0     0       0       1     52  23.507805             1.0  \n",
       "3     1      0     0       1       1     48  28.710479             1.0  \n",
       "4     1      0     0       0       0     48  23.011177             0.0  "
      ]
     },
<<<<<<< HEAD
     "execution_count": 53,
=======
     "execution_count": 23,
>>>>>>> b913abb076bb7b1db57ec361eecd60722a285e18
     "metadata": {},
     "output_type": "execute_result"
    }
   ],
   "source": [
    "# preview new column made\n",
    "print(df.blood_pressure.value_counts())\n",
    "df.head()"
   ]
  },
  {
   "cell_type": "markdown",
   "metadata": {},
   "source": [
    "## 1. Question: Body Mass Index (BMI)\n",
    "\n",
    "> Do people with cardiovasular disease have a higher BMI than people without cardiovascular disease?"
   ]
  },
  {
   "cell_type": "markdown",
   "metadata": {},
   "source": [
    "### 1.1 Hypothesis\n",
    "\n",
    "$H_0$: People with cardiovascular disease have the same BMI as the people without the disease.\n",
    "\n",
    "> $H_0: \\mu_d = \\mu_n$\n",
    "\n",
    "$H_1$: People with cardiovascular disease have higher BMI than the people without the disease.\n",
    "\n",
    "> $H_1:  \\mu_d > \\mu_n$\n",
    "\n",
    "I set my significance level: \n",
    "\n",
    "> **$\\alpha$ = 0.05**\n",
    "\n",
    "Since I specify the direction of the difference, it's a **one-tailed** test."
   ]
  },
  {
   "cell_type": "markdown",
   "metadata": {},
   "source": [
    "### 1.2 Statistical Analysis "
   ]
  },
  {
   "cell_type": "code",
<<<<<<< HEAD
   "execution_count": 54,
=======
   "execution_count": 24,
>>>>>>> b913abb076bb7b1db57ec361eecd60722a285e18
   "metadata": {},
   "outputs": [
    {
     "data": {
      "text/plain": [
       "(32412, 16)"
      ]
     },
<<<<<<< HEAD
     "execution_count": 54,
=======
     "execution_count": 24,
>>>>>>> b913abb076bb7b1db57ec361eecd60722a285e18
     "metadata": {},
     "output_type": "execute_result"
    }
   ],
   "source": [
<<<<<<< HEAD
    "#Creating a new dataframe that only has population with Cardiovascular Disease\n",
=======
    "# creating a new dataframe that only has population with Cardiovascular Disease\n",
>>>>>>> b913abb076bb7b1db57ec361eecd60722a285e18
    "df_cardio = df[(df.cardio == 1)]\n",
    "df_cardio.shape"
   ]
  },
  {
   "cell_type": "code",
<<<<<<< HEAD
   "execution_count": 55,
=======
   "execution_count": 25,
>>>>>>> b913abb076bb7b1db57ec361eecd60722a285e18
   "metadata": {},
   "outputs": [
    {
     "data": {
      "text/plain": [
       "(32030, 16)"
      ]
     },
<<<<<<< HEAD
     "execution_count": 55,
=======
     "execution_count": 25,
>>>>>>> b913abb076bb7b1db57ec361eecd60722a285e18
     "metadata": {},
     "output_type": "execute_result"
    }
   ],
   "source": [
<<<<<<< HEAD
    "#Creating a new dataframe that only has population without Cardiiovascular Disease\n",
=======
    "# creating a new dataframe that only has population without Cardiiovascular Disease\n",
>>>>>>> b913abb076bb7b1db57ec361eecd60722a285e18
    "df_ncardio = df[(df.cardio == 0)]\n",
    "df_ncardio.shape"
   ]
  },
  {
   "cell_type": "code",
<<<<<<< HEAD
   "execution_count": 56,
=======
   "execution_count": 26,
>>>>>>> b913abb076bb7b1db57ec361eecd60722a285e18
   "metadata": {},
   "outputs": [
    {
     "data": {
      "text/plain": [
       "28.561070535592556"
      ]
     },
<<<<<<< HEAD
     "execution_count": 56,
=======
     "execution_count": 26,
>>>>>>> b913abb076bb7b1db57ec361eecd60722a285e18
     "metadata": {},
     "output_type": "execute_result"
    }
   ],
   "source": [
<<<<<<< HEAD
    "#Creating a variable to hold the BMI mean of the population with Cardiovascular Disease\n",
    "mean_bmi_cardio = df_cardio['BMI'].mean()\n",
    "mean_bmi_cardio"
   ]
  },
  {
   "cell_type": "code",
   "execution_count": 57,
   "metadata": {
    "scrolled": true
   },
   "outputs": [
    {
     "data": {
      "text/plain": [
       "26.814270036817227"
      ]
     },
     "execution_count": 57,
     "metadata": {},
     "output_type": "execute_result"
    }
   ],
   "source": [
    "#Creating a variable to hold the BMI mean of the population without Cardiovascular Disease\n",
    "mean_bmi_ncardio = df_ncardio['BMI'].mean()\n",
    "mean_bmi_ncardio"
   ]
  },
  {
   "cell_type": "markdown",
   "metadata": {},
   "source": [
    "### 1.3 Test Statistics "
=======
    "# creating a variable to hold the BMI mean of the population with Cardiovascular Disease\n",
    "mean_bmi_cardio = df_cardio['BMI'].mean()\n",
    "mean_bmi_cardio"
>>>>>>> b913abb076bb7b1db57ec361eecd60722a285e18
   ]
  },
  {
   "cell_type": "code",
<<<<<<< HEAD
   "execution_count": 66,
=======
   "execution_count": 27,
>>>>>>> b913abb076bb7b1db57ec361eecd60722a285e18
   "metadata": {},
   "outputs": [
    {
     "data": {
      "text/plain": [
<<<<<<< HEAD
       "Ttest_indResult(statistic=45.927800031408694, pvalue=0.0)"
      ]
     },
     "execution_count": 66,
=======
       "26.814270036817227"
      ]
     },
     "execution_count": 27,
>>>>>>> b913abb076bb7b1db57ec361eecd60722a285e18
     "metadata": {},
     "output_type": "execute_result"
    }
   ],
   "source": [
<<<<<<< HEAD
    "#Perform t-test\n",
    "from scipy import stats\n",
    "t_test = stats.ttest_ind(df_cardio['BMI'], df_ncardio['BMI'])\n",
    "t_test"
=======
    "# creating a variable to hold the BMI mean of the population without Cardiovascular Disease\n",
    "mean_bmi_ncardio = df_ncardio['BMI'].mean()\n",
    "mean_bmi_ncardio"
>>>>>>> b913abb076bb7b1db57ec361eecd60722a285e18
   ]
  },
  {
   "cell_type": "markdown",
   "metadata": {},
   "source": [
<<<<<<< HEAD
    "### 1.4 Effect Size"
=======
    "### 1.3 Test Statistic"
>>>>>>> b913abb076bb7b1db57ec361eecd60722a285e18
   ]
  },
  {
   "cell_type": "code",
<<<<<<< HEAD
   "execution_count": 67,
=======
   "execution_count": 28,
>>>>>>> b913abb076bb7b1db57ec361eecd60722a285e18
   "metadata": {},
   "outputs": [],
   "source": [
    "#Calculate effect size using Cohen d\n",
    "def Cohen_d(group1, group2):\n",
    "\n",
    "    diff = group1.mean() - group2.mean()\n",
    "\n",
    "    n1, n2 = len(group1), len(group2)\n",
    "    var1 = group1.var()\n",
    "    var2 = group2.var()\n",
    "\n",
    "    # Calculate the pooled threshold as shown earlier\n",
    "    pooled_var = (n1 * var1 + n2 * var2) / (n1 + n2)\n",
    "    \n",
    "    # Calculate Cohen's d statistic\n",
    "    d = diff / np.sqrt(pooled_var)\n",
    "    \n",
    "    return d"
   ]
  },
  {
   "cell_type": "code",
   "execution_count": 65,
   "metadata": {
    "scrolled": true
   },
   "outputs": [
    {
     "data": {
      "text/plain": [
<<<<<<< HEAD
       "0.36185016033939754"
      ]
     },
     "execution_count": 65,
=======
       "Ttest_indResult(statistic=45.927800031408694, pvalue=0.0)"
      ]
     },
     "execution_count": 28,
>>>>>>> b913abb076bb7b1db57ec361eecd60722a285e18
     "metadata": {},
     "output_type": "execute_result"
    }
   ],
   "source": [
<<<<<<< HEAD
    "n = len(df_cardio)\n",
    "effect_size = Cohen_d(df_cardio['BMI'], df_ncardio['BMI'])\n",
    "effect_size"
=======
    "# perform t-test\n",
    "from scipy import stats\n",
    "t_test = stats.ttest_ind(df_cardio['BMI'], df_ncardio['BMI'])\n",
    "t_test"
>>>>>>> b913abb076bb7b1db57ec361eecd60722a285e18
   ]
  },
  {
   "cell_type": "markdown",
   "metadata": {},
   "source": [
<<<<<<< HEAD
    "### 1.5 Power Analysis "
   ]
  },
  {
   "cell_type": "code",
   "execution_count": 74,
   "metadata": {},
   "outputs": [
    {
     "data": {
      "text/plain": [
       "1.0"
      ]
     },
     "execution_count": 74,
     "metadata": {},
     "output_type": "execute_result"
    }
   ],
   "source": [
    "#Calculate power\n",
    "statsmodels.stats.power.tt_ind_solve_power(effect_size = effect_size, nobs1 = 32412, alpha = .05, power = None, ratio = (32030/32412))"
   ]
  },
  {
   "cell_type": "code",
   "execution_count": 77,
   "metadata": {},
   "outputs": [
    {
     "data": {
      "image/png": "iVBORw0KGgoAAAANSUhEUgAAAWIAAAJnCAYAAACteVlUAAAABHNCSVQICAgIfAhkiAAAAAlwSFlzAAALEgAACxIB0t1+/AAAADl0RVh0U29mdHdhcmUAbWF0cGxvdGxpYiB2ZXJzaW9uIDMuMC4zLCBodHRwOi8vbWF0cGxvdGxpYi5vcmcvnQurowAAIABJREFUeJzs3XlclXX+///HWdhkl01FQEXcBdQU1yxMLS1NyzLrW1NZONEyk+Uy1VTTNOY4bZ8ptV9mk1NOaWlmtrtvuGNqLqCAgrLv+1mu3x8HSAThAOdw4PC6324UnHOd63pfIE/e53W9r/dblZ+fryCEEMJm1LZugBBCdHQSxEIIYWMSxEIIYWMSxEIIYWMSxEIIYWMSxEIIYWMSxEJUKSwsZNGiRURERODr64uXlxe7d++2dbNEByBBbCe8vLxqfXTu3JmQkBBuvfVWPv74YwwGg62b2Oa9/PLLrFy5kqCgIP70pz+xcOFCgoODG3yNl5cXgwcPbtJxHn/88To/r4Y+pk+f3pLTMsuiRYvw8vLi22+/tfqxRF1aWzdAWNbChQsBMBgMJCUl8e233xIXF8eOHTv45JNPbNy6tu3HH3/Ezc2NjRs34uDgYLXj3H777fTs2bPWY8ePH+eHH34gPDyc2267rdZzPXr0sFpbRNsgQWxnFi9eXOvrU6dOccstt7Bp0yb27dvH6NGjbdSytu/KlSt0797dqiEMMG3aNKZNm1brsTVr1vDDDz8QERFR52co7J+UJuzcwIEDGTNmDABHjhyp9dzx48d56KGHCAsLw8/Pj4EDBxIbG0tycnKt7T7++GO8vLz46KOPaj2+cePGmjJIbm5ureceeOABvLy86uzrwoULPPXUUwwaNAh/f39CQ0O5//77iY+Pr9P2JUuW4OXlxWeffcb333/PrbfeSlBQECEhIWad+4ULF3jiiScYMGAAfn5+hIWF8Yc//IETJ07U2m7q1Kl4eXmhKAqXLl2qKQlMnTr1uvvevXs3Xl5eALVe4+XlxR//+Eez2tdcX3zxBVOnTiU4OJiAgACGDx/OkiVLKC0trbPtoUOH+H//7//V+n6PGzeOhQsXUl5eDsDYsWNZuXIl8PvPrfojPz/fquciTKRH3EH98MMPPPjggxiNRu644w569uzJqVOn+Oyzz/j222/55ptviIiIAOCmm24CYMeOHTz66KM1+9i5cycARqORXbt2ceedd9Z8vWfPHkJCQmq9rd65cyf3338/5eXlTJ48mdDQUK5cucLmzZv55ZdfWLt2LRMmTKjT1q+//ppt27YxadIkHn74YTIyMho9v2PHjjF9+nQKCwuZPHkyAwcOJCkpic2bN/P999/z6aefMnHiRADmzJnD2LFjWbp0KR4eHjVB2lB9ODg4mIULF9Z5DdDkmrG5FEUhJiaGdevWERISwp133ombmxtxcXEsXbqUrVu38u233+Ls7AzAvn37mDZtGs7OzjV/xIqKikhKSuLjjz9mwYIFODs788gjj7B27VoOHz7MzJkzCQsLqzlm9b6EdUkQ27nTp0+zd+9eAIYOHQpAcXExTzzxBDqdjk2bNnHjjTfWbL9mzRqefvpp5s2bx759+1CpVPTs2ZOgoCB2796N0WhErTa9kdq5cyejRo0iPj6enTt31gTx8ePHyc/Pr/X2u6CggIcffhgHBwd++eUX+vXrV/Pc2bNnmTBhArGxsRw/fhwnJ6da5/DLL7+wfv16brnlFrPOWVEU5s2bR2FhIcuXL2fOnDk1z+3YsYMZM2Ywb948Tpw4QadOnbj//vsBWLp0KZ6enmaVBkJCQli8eHGTXtNSH374IevWrWP27Nn83//9H46OjoDpfF966SXee+893n333ZrrBJ999hl6vZ61a9fW+hkD5Ofn4+bmBsAjjzzCuXPnaoL49ttvt/q5iNqkNGFnlixZwpIlS/j73//OY489xs0330xZWRm33357TYniu+++Izc3l+nTp9f5BX3wwQeJjIzk9OnTHDx4sObx8ePHk5+fz/HjxwG4ePEiSUlJTJw4kZEjR7Jjx46abat7yuPHj6957PPPPyc3N5eFCxfWCmGAvn378uCDD5Kenl5rP9Vuu+02s0MY4MCBA5w9e5ahQ4fWCmEw9e5vv/12cnJy2LJli9n7bAuWL1+Oq6srb7/9dk0IA6hUKl566SWcnZ354osvah6v/oPZqVOnOvvy8vJCq5V+WFshPwk7s3TpUsD0y+nu7k5ERASzZs3iD3/4Q8021WF6bQhXGz9+PPHx8Rw/fpyoqCjAFGCffvopO3bsYMiQITVhe9NNN6FWq9m+fTspKSmEhISwc+dOVCpVrf0fOHAAMF08XLJkSZ1jJiYmAnDu3DkmT55c67kbbrihSd+Dxs7vpptuYvPmzRw/fpxZs2Y1ad9NsXz5cgoKCmo9NnXqVMLDw5u8r4yMDJKTk+nWrRvvvPNOvdu4uLhw4cIF9Ho9Wq2WWbNm8emnnzJ9+vSaP7ojRoygV69ezTofYT0SxHbGnIsrhYWFAPj7+9f7fEBAQK3t4PdQ27lzJ3/+85/ZtWsXXl5eREZG1ipV3HvvvcTFxdVcIKtWfTHvv//9b4NtKykpqfPY9dp5Pc05P2tYsWIFly5dqvVYcHBws4K4+vt3+fLlmj+211NSUoKnpyc33ngjmzdv5t1332XDhg2sXbsWgN69e/Pcc88xe/bsJrdDWIcEcQfk4eEBQGZmZr3PV18Mq94OTKE2YMAA4uLiKC8vZ9euXYwbNw61Wk14eDje3t7s3LmTHj16UFZWVqsscfW+duzYQWRkZJPaq1KpmrR9c87PGq4dndES1W0dNWoU33//vdmvGzt2LGPHjqWiooJjx46xdetWPvzwQ+bNm4enp2edMcvCNqRG3AFVj4a43u27u3btAqgTmDfeeCPl5eV8/PHHZGRk1IymUKvVjBs3jl27dtVbHwYYPnw4APv377fYeVxPY+dX3cam/kGoj1qtxmg0tng/jQkMDKR79+6cOHGC4uLiJr/eycmJkSNH8sILL/D2228D1LqLTqPRAMgdmDYiQdwBTZ06lc6dO7Np06aaERXVPvvsM44dO0b//v1rwrNadfC+9dZbtb4GU/BmZWWxZs0atFptzYXBatXjU5ctW1brImA1RVHYv38/lZWVLT6/qKgo+vbty5EjR2pdvAJTCG/evBkfHx+mTJnS4mP5+PiQnZ1NWVlZi/fVmCeeeILi4mKeeeaZessq+fn5HDt2rObrXbt21Rva1e8Irh6a5uPjA0Bqaqqlmy3MIKWJDsjV1ZXly5fz4IMPcueddzJt2jR69OjByZMn+emnn/D09GTFihV1SgJjxoxBq9WSlZVF9+7dCQ0NrXmuOpSzsrIYOXJkzdCoat7e3qxZs4YHHniASZMmceONN9KvXz8cHBxIS0vj8OHDpKamkpycXGtEQHOoVCpWrFjBnXfeybx589i4cWPNOOJvvvkGR0dHVq5cWe9ogqa6+eabWbduHXfddRejR4/GycmJQYMGWeUt/x//+EdOnDjB//73P3bs2EF0dDSBgYHk5eWRkpLCvn37uOuuu1ixYgVgunAbHx/P2LFjCQ4OxtXVlTNnzvDzzz/j7u7O3Llza53H3/72N/71r39x6dKlmmB++umn6wwnFJYnQdxB3Xrrrfz000+89dZb7Ny5k02bNuHn58d9993HggUL6p3fwN3dnaFDh3Lw4MFavWGA0NBQunfvTmpq6nVHK9x4443s3buX9957j61bt3Lw4EG0Wm3N3WEvv/yyxeq2Q4cOZceOHSxbtowdO3awdetWPD09mTp1KvPnz2/WBbP6vPHGGzWjRg4cOIDBYOC+++6zShBX/4GZMmUKa9asYfv27RQUFODt7U1gYCCxsbHcc889NdvHxsayadMmjh49yr59+zAYDHTr1o1HHnmE2NjYWj/jIUOG8N5777Fy5Ur+85//1Nx199hjj0kQtwKVrOIshBC2JTViIYSwMQliIYSwMQliIYSwMQliIYSwMQliIYSwMQliIYSwMQliIYSwMQli0eGkpaXx5JNP0q9fP/z9/Rk8eDCLFi1q1rJATd3Xpk2beP7557ntttsICgrCy8uLRx55pKWnJNo5ubNOdCjJyclMmjSJzMxMpkyZQp8+fThy5AgrV65k69at/Pjjj3Tu3Nlq+1q2bBknT57Ezc2Nbt26UVRUZI3TFO2M9IhFh/Lss8+SmZnJ0qVLWbt2La+88gqbN2/miSeeICEhgddee82q+/rHP/7BkSNHuHTpEm+++aYlT020Y3KLs7AanU7H6tWrWbt2LWfPnq2Z//bvf/87Li4uREVFERgYyKZNm1qlPcnJyURGRhISEsKxY8dqJrQHKCoqol+/fiiKQkJCAq6urlbf1+7du7njjjuYOXMmq1evtsxJinZJesTCKvLz85kyZQoLFy7Ez8+PmJgY/P39+c9//sObb77Jl19+SWJiIi+99FKrtal6nuXo6OhawQmmCY2ioqIoLS3l8OHDrbovIaRGLKziscce49ChQ/ztb3/j6aefBuD5559n4MCB7Nixg82bN3Pbbbc1uB5dfWu+NSQ4OLhmReb6JCQkAFx3zbbQ0FC2bdtGYmJinYntrbkvISSIhcXt2rWLn3/+meHDh/PUU0/VPO7m5kb//v2Ji4tDpVLxn//8p8H91LfmW0PGjBnTYBBXT6bu6elZ7/PVU3CaE/6W3JcQEsTC4j7//HPAtKLEtZPLOzg4AHDXXXcxaNCgBvdjyTXfzKEopsslTV0jz9r7EvZPasTC4nbv3o1Go2HixIl1nlMUBa1Wy+LFi1u9XY31UquHkpkzOb0l9yWE9IiFRZWVlZGamkpQUFCd5ZLS09M5fvw4ffr0qbXM0vVYukYcFhYGwPnz5+t9vvrx3r17N3osS+5LCAliYVHl5eUoilLvW/KXXnqJoqIitFrz/tlZukY8btw4ALZt24bRaKwz5OzAgQO4uLg0eAHRGvsSQkoTwqK8vLzw8PDg4sWLxMfH1zz++eefs379eoB6VyCuz4kTJ8jPzzf7Y8uWLQ3ur2fPnkRHR3Px4kU+/PDDWs8tWbKEkpISZs+eXWvcb1JSEufOnaO0tLTF+xLieuSGDmFxixcvZsWKFXh7ezNjxgzy8/P5+uuvGTduHG5ubmzZsoV7772X+++//7oLjVpLUlISkyZNIisriylTptC3b18OHz7M7t276d27Nz/99FOt25IHDx7MpUuX2Lx5c00vuLn7Avj2229r/mBkZmaydetWgoODGTNmTM021aswi45DglhYXEVFBUuWLOHLL78kIyMDd3d3Zs6cyeuvv05ycjKPPvooJ0+eZOXKlcyePbvV25eWlsY//vEPfvnlF3JzcwkICGDq1KksWrQIb2/vWts2FMRN3ReYestLly5tsH3NmXxItG8SxEIIYWNSIxZCCBuTIBZCCBuTIBZCCBuTIBZCCBuTIBZCCBuTIBZCCBuTIBZCCBtrt0FcPTG3PZNztA/2fo72fn5g/XNst0EshBD2QoJYCCFsTIJYCCFszKwg3rt3L7Nnz6Z///54eXnx2WefNfqaU6dOMWXKFLp06UL//v1ZunRpzfIxQgghfmdWEJeUlDBgwADeeOMNXFxcGt2+sLCQGTNm4O/vz7Zt23jjjTf497//zXvvvdfiBgshhL0xa6mESZMmMWnSJMC0IGRj1q9fT1lZGStWrMDFxYUBAwZw7tw5li9fzpNPPikLKgohxFWsslTSwYMHGTVqVK3e84QJE3j99ddJSUmhR48e1jhsh6coCjqdjsrKypoPo9GIwWDAaDTW+vzqx6pLRoqi1Pr86v029v/mlp0yMzPJzc1t3glfTVHAoICx6v8GI4rR9P+axxQFFBr5f/Xn19+u3nO93ukrUFBYQLbHmeu3u7F91Pt8E15nZYWFhWR7/GbbRliRp19nHAZ1seoxrBLEmZmZdOvWrdZjfn5+Nc9JEJtPURRKS0vJyckhJyeH3NxcioqKKC4upri4mJKSEkpKSqisrESn00kdvq26bOsGWFmmrRtgPaHnvIkedLdVj2G1xUOvLT9UB0RDZYmmDpq2x4Hker2e9PR0MjIyyMrKIjs7m7KyMrNfr9FocHBwQKvVotVqUavVNR8qlarer6H2z6X682t/Vo1tU/O5UUFVYUBdpkdVZkBdYYAKA+pKI6oKA6pKIyqD5f9gKCpArYKq/ysqQHXV12D6/OrzUlV9cNXjKtN/FNVV21z1OOZU1hrZ5rpnr6rzSZP2KyzP29sLaHreVK/0bQ6rBLG/vz+ZmbX/RGZnZwO/94zr05SGJyQkNGn7tqy8vJwTJ07w66+/cv78efR6fa3nnZyc8PHxqfnw8PDAzc0NV1dX3Nzc6NSpE05OTjg6OtZaTdjaFKOCklqA8VwOyrkcjIk5KBcLUNKLwKACHKo+6uGoQeXtTIWTCmdfd/BwQuXhjMrdEdydULk6gosWlbMDOGurPtdWfe6AykkLjhrQqk0fGlWbvfZgT/9W62Pv5wfWP0erBPGIESN45ZVXKC8vx9nZGYDt27fTtWtXQkJCrHHIdikzM5OdO3cSHx+PTqereTwwMJDQ0FC0Wi3Dhw+nc+fObSJklDIdxhMZGOPTMcZfwXgmC8r0dTdUgaqLG6runqi6e5g+93VF5dcJlW8nVH6u4OaISqXiUgf4JRaiMWYFcXFxMRcuXADAaDSSmprKr7/+ire3N0FBQbz66qscOXKEb775BoC7776bpUuX8sQTT/Dcc8+RmJjIO++8w4IFC9pEoNhabm4u3333HSdOnKgp2fTs2ZOhQ4cyYMAA3N3dAdNfYR8fH5u1U1EUlOR8DHtTMO65iPFkhumi11VU/q6ownxQ9/FFHdYZVQ9vVN3cTT1WIYRZzPptOXbsGHfccUfN10uWLGHJkiXcd999rFixgvT0dJKSkmqe9/T0ZOPGjTz33HPcfPPNeHl5ERsby5NPPmn5M2hHDAYDO3bsYOvWrej1ejQaDcOGDWP8+PENlmxamzE5H8MP5zD8cgElrfD3JzQqVP390ER2QR3ZFfXgAFTejY8rF6I9a40L4GYF8bhx4xpc4nvFihV1Hhs4cCDff/9981tmZ/Ly8li7di0pKSkAREZGMmXKFLy8vGzcMhOlVIfhhwT0355FOZ31+xNezmhGBaEZG4I6qrupdiuEHakw6LlcWsDl0gLSSgu4XFLA5bIC0kpMjw31CWJe54FWbYO8f2wFSUlJfPLJJ5SWluLp6ck999zTZuqixitFGL48hf6bM1BcaXrQ1QFNdC80t4ahjuiCSiNTkoj2rURfycXiXFKK80i56v+pJflkV5Q0+NrU0nzobN32SRBb2cmTJ1m7di16vZ6+ffsye/ZsXF1dbd0sjBnF6D8+iuHbszV1X/XgADR3D0RzYw/TCAUh2hGjopBWmk9iYTYXinJIKcolpcQUulnlxdd9nUaloquLJ91cPenm4kGgqyfdOnkS2MmLbp088HdxJ/n8Bau2XX7brOi3337j008/xWg0MmrUKKZNm4ZGo7Fpm5TCCnQfHcGw8TfQGUGtQjOpN9p7B6Ee4G/TtglhDkVRuFJWSGJhFomF2VUfWVwoyqHMoKv3NQ5qDUGuXoS4dSbEzZsQ184Eu3kT7OaNv7M72lYc9lkfCWIruXDhQk0Ijx8/nilTpth0xIhiVDBsOYtu+UHILwdAc0svtI/egLpH26hTC3EtndHA+cJsTudncLognd/yMzhXkEmJvrLe7f2c3ejt4Uuouy893DrXBG+XTh5oVG23xCZBbAV5eXn897//Ra/XM2rUKJuHsPFSAbq/78D4awYA6iFdcfjzaNRhthsaJ8S1Ko0GzuRn8Ft+uil489M5V5iFzmios62PUydCPfzo7e5Lbw9fenv4Eerhi5dj+xzFI0FsYTqdjk8++YSSkhL69OnD9OnTbRbCiqJg+Po0uv+Lg3I9+Ljg8NQoNJNCZTy3sLn00kKO56ZxPPcyx3PT+C0/ncp6QjfY1ZsBXl3o5xXAAK8A+nkG4ONs++ssliRBbGE//PADly9fxsfHhzlz5rTqLcdXU4orqfzbdoy7TcPlNBNDcXhuLCoPJ5u0R3RseqORMwUZHM6+SHxOGr/mXiajvKjOdr3cfRjk3ZUBXl3oXxW6bg72/29WgtiCzp8/z549e1Cr1dx333106tTJJu0wJudRufAnlIsF4O6Iw/Nj0U7sbZO2iI5JbzRyOj+dQ9kXOZR1kaM5qRTrK2pt4+7gRLh3NyI6BxLhE8hg7654ttPSQktJEFuITqdj/fr1KIpCdHQ0wcHBNmmHYU8KlS9vg1IdqtDOOC6dhDrQwyZtER2HoigkFGaxNyOJg1kpHMm5VOeCWpCrF8N9gxni052IzoH0dPdBLSUyQILYYnbv3k1ubi4BAQFMmDDBJm3Qbz6D7o3dYFTQ3NILh7+MR+VyndnPhGih/IpS9mcl811qPCcTfiDzmrG6wa7eDPcLZrhvMDf4BtO1k3QIrkeC2ALy8/PZunUrANOnT0erbd1vq6Io6P97HP2KgwBoHx6K9rFhckFOWJSiKJzKT2fHlQT2ZFzgZN6VWvMq+zq5MiagF6P9ezDcL4QAF3ebtbW9kSC2gJ9++gmdTsfgwYPp3bv1a7H61UfRrzoCKnB4dgzau617X7zoOCqNBg5mpbDt8jl2XEmsdYHNQa1hmE8QfTXuTB84gj4efvLHv5kkiFsoJyeHo0ePolarmTJlSqsfX/ffeFMIq1U4/PVmtJPlopxomWJdBTvTE9l2OYHdGedr1XoDnN25uVsYNwaEMtwvmE5aR9Ok6Z5yV2ZLSBC30NatWzEajdxwww2tPnewfv1J9MsPmnrCL46XEBbNVqbXsTM9ke9TT7MrPbHWeN4+Hn5Ed+tDdNcwBnh1kV6vFUgQt8DVveHWvkBn2JGE7u19ADgsHIf2tj6tenzR/lUa9OzJuMB3qb+x40pizTwNKmCYTxC3BPYhumsfurvKLfDWJkHcAnv37sVoNDJs2LBW7Q0bT2VS+co2UEAbMxzt9P6tdmzRvimKQnxuGhtTfuWntDMU6X4f2xvu3Y1bu/dncmA/usgIh1YlQdxM5eXlHDp0CICxY8e22nGNV4qoeP5HqDCguaMv2ociW+3Yov1KLy1k86WTfJ1yguTi3JrH+3kGcFv3/tzavb/0fG1IgriZjhw5QkVFBT179iQwMLBVjqlUGqh84RfIK0M9PBCHBeOkXieuq9KgZ+uVc2xM/pX9mckYqwab+Tq5Mi1kMNODB9Pbw9fGrRQgQdwsiqKwd+9eAMaMGdNqx9W9ux/ldBaqru44vjYBlbbtTusnbCetJJ/1SfF8lXKc3IpSwDTU7JauYcwIGcxo/142n39X1CZB3AzJyclkZ2fj4eHBwIGtM2ZX/2MChg2/gYMax9dvQeXp3CrHFe2DQTGyN+MCn184xq70xJobLfp4+nN3jwimdh+Al5Nt5j4RjZMgboYjR44AMHTo0FZZccOYVojun3sATPMI9287Kz4L2yrSlfNl0nE+v3DUtLYapt7vrYH9uLfXUCI7B0r5qh2QIG6iyspKjh8/DsCwYcOsfjzFYET39x1QqjMt6HmnjJAQcLm0gP8mHuKr5OM1N1wEdvLknp5DmNkjgs7S+21XJIib6NSpU1RUVBAUFERAQIDVj6f//ATG+HTTpO4LxkrvpoM7mXeF/yQc4Ke0MxgUUwEiyi+EB3sPZ1yX0Da9HJC4PgniJjp69CjQOr1hbWoJ+g8OA+D4l/FSF+6gFEVhb2YSq87u51D2RQC0KjW3Bw3gD2Ej6O/VxcYtFC0lQdwEZWVlJCYmolKpCA8Pt+qxFKOC98dnQGdEM70fmtG2md9Y2I6iKOxMT2Tlmb2cyLsCgJvWiVk9I7k/9AaZVtKOSBA3wenTpzEYDISGhuLm5mbVYxm+PYtTQqGpJPHkSKseS7QtRkVh6+VzfHBmL6cLTAu+dnbqxEO9RzC719AOsXRQRyNB3AQnTpwAYNCgQVY9jpJXhu69AwA4PDMKlZujVY8n2gZFUfj58lmWn95DQmEWYLr54pE+I5nVM5JOWvl3YK8kiM1UUVHB2bNnAesHse69A1BUQfkgb5xvCbXqsUTbsD8zibdP7uBUfjoAXVzcebTPKO7qEYGTRn5N7Z38hM109uxZ9Ho9ISEheHp6Wu04xlOZGL47Bw5q8h/sg7eMkrBrv+Ze5p1TOziQZVpt29fJlT/2H8vMkHAcJYA7DPlJm+nMmTMADBgwwGrHUBQF3XtxAGhnD0bfRcaC2qvzhdn83287+eXyOQA8HJx5pM9I7g8dJiWIDkiC2AyKotSUJfr162e14xh3pZjGDHs5o31wCFxJsdqxhG3kV5Ty/uk9fJF0FIOi4KzR8kDocB7pE9Vhl5IXEsRmuXLlCkVFRXh6etKli3XGbCp6I7r3qy7QPTpMLtDZGZ3RwOcXjrL89B4KdeWoUXFPzyE80W8sfi7WHYEj2j4JYjNU94b79OljtTvbDF+fRrlUgCrYU25jtiOKonC48Ap//mUbSVXzAI/068HC8An0kXXeRBWz74dctWoV4eHhBAQEMH78ePbt29fg9uvXr2fs2LF07dqVPn368Pjjj5ORkdHiBttCdX3YWmUJpVyP7pNjADj8cYRMb2knLhbn8cd96/h7yl6SinMJcfPmvVF3s2rsbAlhUYtZv/EbNmxg0aJFzJ8/n127djFixAhmzZrFpUuX6t0+Li6OmJgY7rvvPvbv389nn33GmTNneOyxxyza+NZQXl5OSkoKarWa3r2tszin4ZszkF2KKswH9fgeVjmGaD2VBj0rTu/hzl9WsTvjAp3UDjw/eAJf3/IYN3cNk/lCRB1mBfH777/PnDlzeOihh+jbty/Lli0jICCA1atX17v9oUOH6NatG7GxsfTo0YPhw4fz+OOP10wf2Z4kJSVhNBoJCgrCxcXyF1OUcj26NVW94bnD5Je0nYvLTGbG1o947/RuKox67ggayPI+k/lD2Agc1dafMlW0T40GcWVlJfHx8URHR9d6PDo6mgMHDtT7mqioKDIyMvj+++9RFIWcnBw2bNjAxIkTLdPqVnThwgVuN/7lAAAgAElEQVQAQkOtc2OFYdNpyClD1ccH9bgQqxxDWF9WeTHPH9zEo3v+R3JxLr3cfVg9bg5vDJ+Gl4NM1iQa1ujFupycHAwGA35+tScj9/PzIzMzs97XjBgxglWrVvH4449TVlaGXq/n5ptvZsWKFQ0eKyEhoQlNb/r2zfHbb78B4OTkZPnjVRro+vERNEDWlG6UJybW2aQ1ztHW2vM5KorC9vwUPrp8nBKjDkeVhnv8+zPdtw8O+ZUk5JvOrT2fozns/fyg6ecYFhZm9rZmj5q49i2zoijXfRt95swZFi1axPPPP090dDQZGRm89NJL/OlPf+KDDz647jGa0vCEhIQmbd8c5eXlZGdno1arGTNmDI6Olh1Spv/6NLqCSlR9fOh+z8g638/WOEdba8/neLm0gFeP/cCeDNO7pnEBvXgxcnKd1ZDb8zmaw97PD6x/jo0GsY+PDxqNpk7vNzs7u04vudpbb73F0KFDefrppwHT3AydOnXitttu46WXXqJ79+4WaLr1JSUloSgKwcHBFg9hxaig/9+vAGgfiJDacDtiVBS+TIrnXye3UaKvxMPBmcURt3BH0CD5OYpmabRG7OjoSGRkJNu3b6/1+Pbt24mKiqr3NWVlZXXWcqv+WlGU+l7SJlXXh3v16mXxfRt3p6BcLEDVxQ3NzZbfv7CO1JJ8Ht3zP16N/4ESfSW3dOvDNxMfY1rwYAlh0WxmlSZiY2OJiYlh2LBhREVFsXr1atLT03n44YcBiImJAagpO9x6660888wzfPTRR0yYMIH09HQWL15MREQEQUFBVjoVy7NmEOvXmta9084eLOOG2wFFUfg65QT/+PVnSvWVeDu68GLkZCYH9pMAFi1mVhDPnDmT3Nxcli1bRkZGBv3792fdunUEB5tWjUhNTa21/f33309xcTEffvghL774Ih4eHowbN45XX33V8mdgJTqdjrS0NFQqFSEhlh3NYDiRgfHXDHB3RHOH9eauEJaRX1HKy8d+4JfLpjssJwX246XIybJAp7AYsy/WzZ07l7lz59b73JYtW+o8FhMTU9NTbo/S0tIwGo106dIFZ2fLDj+qqQ3PGICqk4NF9y0sa0/GBV48soWs8mJctY68EDGJacFSCxaWJXNNXEdKimnms+pev6UomSUYdyWDRoX2roEW3bewnHKDjrdP7uDT86bFW4f4dOeNG+6oMyJCCEuQIL6OixdNq+Vauiyh/+Y0GBTUN/dE5e9q0X0Ly7hQlMP8Axs5V5iFVqUmtv84Hu07UpaqF1YjQXwd1UFsyR6xojei32SaQEh7t/SG26LNF0/y6rEfKDPoCHHz5p/DpzPIu6utmyXsnARxPfLz8ykoKMDZ2fm6Y6Wbw7gz2TS5Tw8v1EPkl7stKdPrWHL8Z75KMY1mmdJ9AK8MuRVXWTFZtAIJ4npc3RtWqy33dlS/4RQA2pkD5GJPG3KhKIdnD2wkoTALR7WGv0RM4u4ecpONaD0SxPWwRlnCmJyH8egVcNGimdLHYvsVLfPtpVO8cvR7ygw6erh15s0Rd9LPK8DWzRIdjARxPawRxIbNpjGomkm9UbnKMki2pjcaefPkNtYkHgJgatAAXo6UUoSwDQniaxiNRi5fvgxgsTkxFL0R/Q+mmZs0U/taZJ+i+XIrSpl/8GsOZqWgValZFH4Ls3sNlVKEsBkJ4mtkZ2dTWVmJp6cnbm6WWdTRuP8S5JahCvZEPUiWyLGl3/LSeTruK66UFeLj5MrbUTMY5tt+brsX9kmC+BppaWkAdOvWzWL71G+pKkvc3ld6XTb0zcUTvHL0ByqMeiI6d+PtqJkEuLjbullCSBBfq7osERgYaJH9KXllGPekgFqF9lb7nrO1rTIoRt48sZ1PEg8CcHePSF6ImIijRv75i7ZB/iVeo7pHbKkgNvyYaLqTbnQQKj+5k661legqeP7QN+xMT0SrUvNC5CTu6TnE1s0SohYJ4qsoimLRHrGiKDVlCa1cpGt1l0sLiN3/JecKMvF0dObdqLsY7mfZuUOEsAQJ4qvk5+dTWlpKp06d8PT0bPH+lPN5KIm54O6EeqwsDNqafs29zJP7vySnooQebp1ZPnoWIW6dbd0sIeolQXyVq8sSlrioZvjZtBioJronKkdZSr21/Jh6msWHv6XCqGeEXwhvR83Ay9HF1s0S4rokiK9iyfqwoigYfjkPgGZi7xbvTzROURRWnYvjnVM7ALirRwQvRU7GQS1/BEXbJkF8ler6sCWGrim/ZaFcLgLfTqgju7R4f6JhBsXIkuM/878LR1EB8wdF84ewETJcULQLEsRXSU9PBywTxPqfqsoSE3qh0sg8ttZUYdCz8NA3/Hz5LA5qDW/ccAe3du9v62YJYTYJ4irl5eXk5eWh1Wrx8fFp0b4UgxHDNtPCo1opS1hVQWUZT8d9xeHsS7hpnfj3qLsY4ScXRkX7IkFcJSMjAwB/f380mpbVFI3x6aZ5hwPdUQ2w3HzGorb00kJi9n1BYmE2/s5urBxzL3095RZy0f5IEFepLkt06dLyem7NaIlbQqVGaSWJhdnE7P2c9LIiern78MGYe+nWqeVDDoWwBQniKtU94oCAls1Fq+iNGHYkAaC5RcoS1nAq7wqP7/2C/MoyIjsH8v7oWTI8TbRrEsRVLNUjNsZfgYIKVMGeqEK9LdE0cZUj2Zd4Yt96ivUV3BgQytsjZ+CscbB1s4RoEQniKpYKYsPOZAA043tKWcLC9mZc4Om4ryg36Jkc2I83hk/DUcYICzsgQQwUFxdTXFyMo6MjXl5ezd6PYlSuCuIelmmcAOCXtLM8d2gTOqOBmSHhvDL0NlneXtgNCWJq94Zb0otVTmdBVgkqf1dU/WW0hKV8c/EELx7ZgkFReCD0BhaG34Ja3m0IOyJBzO8X6lpeljBdpFPf2AOVWoLCEr64cJS/xf8IwLx+Y3iy/zgp+Qi7I0GMZerDiqJg2JEMgOamnpZoVoe39vwRXj/+EwDzB93MI31G2rhFQliHBDGWGbqmJOWhXCoATyfUETK3REt9dv4w/zj+MwB/iZjI/aE32LhFQliPXO0AMjMzAdNddc1Vc5FubAgqrXxbW0JCWHQ0Hb5HXFJSQmlpKY6Ojnh4eDR7P4ZdyYBp2Jpovk8TD7Hk118AeCFiEnNCh9m4RUJYX4cP4qysLAD8/PyafRFIyS5FOZMNjhrUwy2z1l1H9N/EQ7xRFcIvRkziPglh0UGY/R561apVhIeHExAQwPjx49m3b1+D21dWVvL6668THh6Ov78/gwYNYuXKlS1usKVVB3GLyhL7LwKgviEQlXOH/9vWLFeH8EuRkyWERYdiVmps2LCBRYsW8eabbzJy5EhWrVrFrFmziIuLIygoqN7XPProo6SlpfHuu+/Sq1cvsrKyKCsrs2jjLeHqHnFzGfaaglgzRhambI4vLhytFcKzew21cYuEaF1mBfH777/PnDlzeOihhwBYtmwZW7duZfXq1bz88st1tt+2bRs7d+7k2LFjNXP7hoS0zTliW3qhTqk0YDxkWmJJPVqCuKm256XwbuohwFQTlhAWHVGjpYnKykri4+OJjo6u9Xh0dDQHDhyo9zVbtmxhyJAhvP/++wwYMIChQ4eyYMECiouLLdNqC2ppj9gYfwVKdahCO6Pu4mbJptm9n9LO8O+qEJ4/6Ga5MCc6rEZ7xDk5ORgMhjpB5efnV9ObvFZycjJxcXE4OTmxZs0aCgoKWLBgAenp6axZs+a6x0pISGhS45u6/bWMRiPZ2dkA5OfnN+sPheeWBNyBgv5uXGphe+rT0nNsqw4XXuGNi/swAvf692ecysduzxXs9+dYzd7PD5p+jmFhYWZva/aVpWtHFCiKct1RBkajEZVKxYcffoinp2my7mXLljFz5kwyMzOvWwZoSsMTEhKatH19MjMzURQFb29v+vdv+hpniqJQceoICuB7eyQBYZa9kcMS59gWxWUm889TcegVhem+Ybw0Zrpd37Zsrz/HavZ+fmD9c2y0NOHj44NGo6nT+83Ozr7u2/mAgAC6du1aE8IAffr0ASA1NbUl7bWolpYllIsFKGmF4OGEeqAs0WOO+JxUntz/JZVGA/f2HMIfuoTbdQgLYY5Gg9jR0ZHIyEi2b99e6/Ht27cTFRVV72tGjhxJenp6rbf658+fB7juKAtbaOnQNcO+qtESI4PkbjoznM5PZ96+dZQZdEwLHsSLkZMlhIXAzHHEsbGxrF27ljVr1nD27FkWLlxIeno6Dz/8MAAxMTHExMTUbH/33XfTuXNnYmNjOX36NHFxcSxatIjp06e3aJiYpbX4Ql3VsDUZLdG4lOJcYvZ+QZGugkmB/Xht6FSZylKIKmbViGfOnElubi7Lli0jIyOD/v37s27dOoKDTQF0bbnBzc2Nr7/+mgULFhAdHY2XlxdTp06td6ibLVWXW5oTxEqZDuPxdFCBZmR3SzfNrmSVFxOz9wtyKkoZ7d+DpcOnoVXLOwghqpl9sW7u3LnMnTu33ue2bNlS57GwsDA2btzY/Ja1gpb0iI3HroDeiGqAHypPZ0s3zW4U6cqJ2fsFl0ryGejVhXeiZsryRkJco8N2S0pLS1s02Y/hgOldgGaE9Iavp8Kg56n9X3G2IJMebp1ZOeZeXB2cbN0sIdqcDhvE1eOHfX19m3XByHjQFMTqKAni+hgUIwsObeJQ9kX8nd34/8bcS2enTrZulhBtUocN4pycHICaW7CbwphRjJKcD50cUA9q/mTy9kpRFP527Ed+uXwODwdnPhhzL4GuzV+UVQh7J0HcnCCu7g0P7SrD1urx79928WVyPE5qLe+Nups+njLGWoiGdNgUaVEQV03yI/Xhuj6/cJQPzu5Do1LxrxF3Msy37YwbF6KtkiBuYhArRgWD1IfrteNKAq/Hmxb7fHnIbUR3s+/bXoWwlA4bxFdfrGsK5Vw2FFSg6uKGKsiz8Rd0EKfyrvDcwU0YUZjXbwx39YiwdZOEaDc6ZBCXl5dTXFyMVqtt8tC16mFr6qjucntulculBTyxb33NrctP9h9n6yYJ0a50yCDOzc0FoHPnzqibeIdX9YU6qQ+bFFaWM2/vOrIrShjhF8KrQ6fIHyghmqhDBnGz68OlOoy/ZoBahXpYN2s0rV2pNBp45sAGzhdlE+ruy7ty15wQzdKhg7ip9WHj8arbmvv5dvjbmhVF4eWj33EwKwVfJ1dWjrkHD8eO/T0Rork6ZBBXX6hrao/YePgyAJobAi3epvZm+ek9fHPxJC4aB5aPnkW3TnLhUojm6pBB3NzShOGoKYg7elliU8oJlp/ZgxoV/xoxnYHeXW3dJCHatQ4dxE0pTSiFFShns0GrRh1u2SWR2pMj2Zd4+dj3APwlYiI3dZWxwkK0VIcLYp1OR0FBAWq1Gi8v8+c/MMZfAQXUg/xROZs9e6hdSSvJ55m4r9AZDTwQegP3yarLQlhEhwvi3NzcmgVDNRrzr/AbjlSVJYZ2zLJEsa6C2P1fkldZxhj/njw/eIKtmySE3ehwQdzc+rCxA9eHq6e0TCjMope7D29G3SkrbAhhQR3ut6k5QazklaEk5oKjpkOu1vzmie3sTD+Pp6Mz74+ahbuDDFMTwpIkiM1gPHYFAPXgAFROHas+/GVSPJ8kHkSrUvNu1F0Eu3nbuklC2J0OF8RX395srpr6cAcrSxzMSuG1+B8B+OuQWxnuJ6tVC2ENHS6I8/LygKYFsbEDBvHF4jz+dGADesXIQ71HyGxqQlhRhwpiRVFqesTe3ua9xVayS1FS8sFFi3pAx6gPF+nKid2/noLKcsZ3CWX+4Jtt3SQh7FqHCuKSkhJ0Oh0uLi64uLiY9Zqau+nCu3SIZZGMisLCQ5u5UJRDbw9f/jl8OhqV/Z+3ELbUoX7Dmtobho5Xlnj/9G52pifi4eDMv0fejZuDk62bJITd65BB3Jz6sKYDBPHPaWdZeWYvalS8OeJOGSEhRCvpUEFcfaHO3B6xMaMYJa0QXB1Q9WnalJntTUJBFosPbwZg/uCbGR3Q08YtEqLj6FBB3NQecc344Yiudl0fzq8s46m4Lykz6JgaNICHeo+wdZOE6FDsN13q0eQecXxVEA+x39nW9EYjzx/cxKWSfPp7BvDqEFnqSIjW1qGCuMk94vh0ADSR9jvf7jundrAvM4nOTp34v1F34aJ1sHWThOhwOkwQG43GJvWIlbwy0/hhJw2qvvZZH/720ik+TjiARqXirREzZJUNIWykwwRxUVERBoMBV1dXnJwaH5JlPG7qDasHBaBysL8FMX/LS+evR74DYGH4LXL7shA21GGCuKm3Nhuq68OR9lcfzq0o5em4r6gw6pkZEs6cXjLBuxC2ZHYQr1q1ivDwcAICAhg/fjz79u0z63X79+/Hx8eHUaNGNbuRltDUmzlqesQR9lUf1hkNPHtgI1fKCgn37sZLkZPl4pwQNmZWEG/YsIFFixYxf/58du3axYgRI5g1axaXLl1q8HX5+fnMmzeP8ePHW6SxLdGUHrFSUolyLgc0KtSD7Gt+ibdP7uBQ9kV8nVx5d+RMHDUda1pPIdois4L4/fffZ86cOTz00EP07duXZcuWERAQwOrVqxt83ZNPPsl9993H8OHDLdLYlmhKj9h4IgOMCqp+fqhc7GcUwY+pp2vmFn575Ez8Xdxt3SQhBGYEcWVlJfHx8URHR9d6PDo6mgMHDlz3datWrSIzM5Pnn3++5a20gKb0iKvLEpoI+6kPny/M5oUjWwB4bnA0Q32627hFQohqjb4vzcnJwWAw4OfnV+txPz8/MjMz633NqVOnWLp0KT///HOTFuhMSEgwe9umbp+RkQFAYWFho6/z238BJyA9QKG8iW2ytKZ+T+pTZtDx/PltlBl0jPMMIsroaZH9Wkpbaou12Ps52vv5QdPPMSwszOxtzS4QXntBR1GUei/yVFRU8Oijj/Laa6/Ro0cPsxsCTWt4QkKC2dsbDAZKSkoAiIyMxMHh+uUGpUJPedIuALpPHoLK03brszXlHK9HURTmH/ya1IoiQt19eXP8PbhqHS3UwpazxDm2dfZ+jvZ+fmD9c2w0iH18fNBoNHV6v9nZ2XV6yQDp6emcOXOG2NhYYmNjAdPNFIqi4OPjw/r16+uUOaytsLAQo9GIh4dHgyEMYDydBZUGVL28bRrClrIm8RA/pp3BVevIuyNntqkQFkKYNBrEjo6OREZGsn37du68886ax7dv3860adPqbN+tW7c6Q9s++ugjtm/fzqeffkpwcOvfONCkC3VVtzWr7eC25sPZF3nz5DYA/j5sKj3dzV8wVQjReswqTcTGxhITE8OwYcOIiopi9erVpKen8/DDDwMQExMDwAcffICDgwMDBgyo9XpfX1+cnJzqPN5amnOhrr3fyJFVVsz8A19jUBQeDotiUmA/WzdJCHEdZgXxzJkzyc3NZdmyZWRkZNC/f3/WrVtX07tNTU21aiNbytwesWIwYvy1esRE++0R64wGnj24keyKEob7BvOngTfZuklCiAaYfbFu7ty5zJ07t97ntmzZ0uBrFy9ezOLFi5vWMgsyt0esJOZCqQ5VoDsqf9fWaJpVvHVyO0dzUvF3duNfI+5Eq+4wd7IL0S51iN9Qc3vEV08E3179kHqaNYmH0KrUvBU1A1/n9vsHRYiOokMFcWM9YsPx9j3RT2JhNi9W3bSxIHwCQ+SmDSHaBbsPYr1eT2FhISqVCi8vr+tupyjKVRfq2l+PuERXwZ8PbKDMoGNK9wEyo5oQ7YjdB3F+fj6KouDp6dngXX5KSgHklYOPC6ruHq3YwpZTFIUXj37HhaIcenv48urQ22RGNSHaEbsPYnMv1BmryhKaiK7tLsQ+STzET9U3bUTNpJPctCFEu2L3QWz2hbp2OhH84eyLvFV108Y/ht1OD7lpQ4h2x+6D2Nx16trjHXWZZUU8W3XTxiN9RnJLYF9bN0kI0Qx2H8TmjJgwphejpBeDmyOqXuat4GFrpps2vianooQRfiE8M8D2k+8LIZrH7oPYnB5xdX1YHd4FlaZ9fEvePLmdY1U3bSwbPl1u2hCiHbP7316zesTx7Wt+ie8u/cZ/q27aeFtu2hCi3bPrINbpdBQVFaFWq/HwuP6QtN8XCm37QZxYmM1fj34HmG7aiJSbNoRo9+w6iPPz8wHw8vK67hhiJb8cJSkPHDWo+9edX7ktKdZV8Ke4rygz6JgaJDdtCGEv7DqIzasPV/WGB/mjcjB/WafWpigKLx7ZQlJxLmEefrwyRG7aEMJe2HUQmzOGuOZCXRuf6Oc/CQf5+fJZ3LROvBM1Q27aEMKO2HUQm9MjNrSDC3WHsi7y9qntAPzjBrlpQwh70yGC+HojJpRSHcq5bNCoUA8KaM2mmS2jrIj5BzdiUBQe7TOSCd362LpJQggL6xBBfL0esfFkBhgUVH18UXVqeFFRW9AZjTx7YCM5FaVE+YXwtNy0IYRdsusgbqxG3NaHrX2S/ivxuWkEOLvLTRtC2DG7/c02ZwxxdRBr2mAQb7l0im9zEk03bYycgY/ctCGE3bLbIG5sDLGiM5hKE7S9HnFCQRYvH/0egMURE4noHGjjFgkhrMlug7ix+rByNhsqDKhCvFB5u7Rm0xpUpCvnmQOmmzZu8grm3p5DbN0kIYSV2W0QN1YfbovD1hRF4YXDW0gpzqOPpz9/DBwqN20I0QHYbRA3OmKi5kaOthPEH52LY+uVc7g7OPFu1Eyc1FpbN0kI0QrsPojrG0OsGBWMx6vqw21kIvi4zGTePbUTgCU33EGwW/uYF1kI0XJ2H8T19YiVpDwoqkDl74qqi1trN62OK6WFPH9oE0YUYvqO5uauYbZukhCiFdltEDdUI756/LCta7CVBj3PHthIbkUpo/17EjtgnE3bI4RofXYZxI2NIf59oVDblyWWntjKr3mX6eriwT+HT0OjsssfiRCiAXb5W9/QGGJFUdrMiIlvLp7g8wtHcVBreDtqBt5OnWzaHiGEbdhlEDdYH75SBFkl4OGEqoftLoidzs/g1WM/APBCxCQGd+5ms7YIIWzLLoO4wfpw/FX1YbVt6sN5FaU8HfcV5QY9M0PCubtHhE3aIYRoG+wyiBvqEdt6oh+90cj8g19zubSAwd5deTFyss0vGAohbMuug7i+McTVF+o0NrpQ9+bJbRzISsHHyZV3ombipJGbNoTo6Ow6iK/tESu5ZSgXC8BZi6qvb6u3a/PFk6xJPGSaUS1qBl06XX9laSFEx2F2EK9atYrw8HACAgIYP348+/btu+6233zzDTNmzCA0NJTu3bszYcIEvvvuO4s02BzXqxHXDFsbFIBK27p/g37LS6+ZUe0vERMZ5hvUqscXQrRdZqXRhg0bWLRoEfPnz2fXrl2MGDGCWbNmcenSpXq337t3LzfeeCPr1q1j165dTJw4kQceeKDB8LaUhsYQG45eBkA9rHXLEjnlJTwV9xUVRj139YjgHplRTQhxFbOC+P3332fOnDk89NBD9O3bl2XLlhEQEMDq1avr3X7p0qX8+c9/ZtiwYfTq1YtFixYRGRnJli1bLNr4+lSXJeobQ2w8WtUjHtJ6Q8V0RgPzD35NelkhEZ278WLEJLk4J4SopdEgrqysJD4+nujo6FqPR0dHc+DAAbMPVFxcjJeXV9Nb2EQN1oeT8sBZi3qAn9XbUe1fJ7ZxKPsivlUX5xzl4pwQ4hqNpkJOTg4GgwE/v9rh5efnR2ZmplkH+fDDD7l8+TL33ntvg9slJCSYtb+Gtj99+jQAWq221vMuBzPxAcp7u5OafKFJx2mubXnJfJp6GK1KxXOBIyhITaeA9Cbto6nfk/ZIzrH9s/fzg6afY1iY+ZN3md09u/bttKIoZr3F3rRpE3/961/56KOPCA4ObnDbpjQ8ISGh3u3PnDkDQK9evWo9X/l1BgbAbUxvvJtwnOaKz0llxaljALwYeSt39Ixs8j6ud472RM6x/bP38wPrn2OjpQkfHx80Gk2d3m92dnadXvK1Nm3axLx581i5ciVTpkxpWUvNVD1i4toxxMbqC3VDrX+h7nJpAU/HfYXOaGB2r6HMakYICyE6jkaD2NHRkcjISLZv317r8e3btxMVFXXd123cuJGYmBiWL1/O9OnTW95SM+Xk5ACmPyDVlNxSlOT8qvqwv1WPX6KrIHbfenIqShnl34NF4bdY9XhCiPbPrNJEbGwsMTExDBs2jKioKFavXk16ejoPP/wwADExMQB88MEHAHz11VfExMTw2muvMXr0aDIyTKthODo6XnfpIktQFKXeHrHh6O/LIllz/LBBMbLw8GbOFWbRw60zb464Ewd13RWkhRDiamYF8cyZM8nNzWXZsmVkZGTQv39/1q1bV1PzTU1NrbX96tWr0ev1LF68mMWLF9c8PmbMGKsOYSsuLqayshIXFxc6dfp9SsmassQQ65Yl3jm1k+1XEvBwcGb56Fl4Orad1aGFEG2X2Rfr5s6dy9y5c+t97tpwbY3xwvWprywBV40fHmq98cMbU35l9bk4NCoVb0fNIMSt7jwXQghRH7uaa6I6iK8uSyg5pSgp+eCiRd3fOuOHj2Rf4pWq25dfiJjESP8eVjmOEMI+2VUQV9eHr+4RGw5XlSXCrVMfvlicxzNxX6FXjNwfOox7ew21+DGEEPbNroK4vh6x8ZCpfq0e0d3ix8urKGXevi/IqyxjjH9PFgyWERJCiKazqyC+tkesKAqGA6Yg1owItOixyg06ntz/JSnFefT19OetqBlo1Xb17RRCtBK7So5rL9YpyfmQXQqdXVCFWu7imVFRWHz4W+Jz0+ji4s6K0ffg5uBksf0LIToWuwniyspKioqK0Gg0eHp6AmA8WNUbHh5o0RnP/nViGz+lncFN68SK0fcQ4OJusX0LIToeuwniqyeDV1eVCAwH0wBQD7dcffjTxEN8kngQrUrNuyNn0sfTunfqCTCAjmcAACAASURBVCHsn90EcVZWFgC+vqYlkBSdAeMx04gJS9WHf047yxu//gLAa8OmyDA1IYRF2E0QZ2dnA9RMRGQ8mQllelS9vFH5ubZ4/3GZyTx/aBMK8NSAG5kWPLjF+xRCCLCjIL62R1xdH1YPb3lv+ETuZZ6qmk1tTq9hxPQd3eJ9CiFENbsL4uoe8e/D1lpWHz5fmM28feso1Vdye9BAFkdMlKWOhBAWZZdBrOSWopzOAkdNiyb6uVxawON7Pye/sozxXUL5+7CpqCWEhRAWZhdBXFJSQmlpKY6Ojnh4eGDYZ1pdWn1DN1QuDs3aZ055CY/t+Zz0siKG+nTnzREzZEpLIYRV2EUQX90bVqlUGPamAKAZE9Ks/eVWlPLInrUkF+fS19Of90fNwkXbvEAXQojG2F0QK5UGjNXjh0c3vEZeffIqSnl091oSC7MJdfflwzGz8XB0tmh7hRDianYXxMb4K1CqQxXaGXUXtybtJ7+yjLl7PudcYRa93H1YPW4OPs4tH/omhBANsYsgvnoMsWHvRQA0Y5rWGy6oLOOxPZ9zpiCDHm6dWT12Dr4SwkKIVmAXQXz1GGLjHlN9WN2EIM6rKOWxPZ/zW346Qa5erB43Bz+XpvWmhRCiucxeKqmt0uv1ZGdno1Kp8C3SolwuAk8n1APNmwMis6yIuXs+53xRNkGuXnw87n6ZxEcI0arafRBnZWVhMBjw8fFBszsVPaAZ3xOVpvHOfmpJPnP3/I9LJfmEuvuyauxs/CWEhRCtrN0HcXp6OgBdunTB8P0FADQTejX6ugtFOczd/T8yyosY6NWFD8bci7dTp0ZfJ4QQltbug/jKFdMKzV2cvFBSMkxliUZWa/41N40n9q0nr7KMYT5BLB89SyZ2F0LYTLsP4uoesf9lBagqSzSwSOgvaWdZePgbyg16xgX04u2omXKzhhDCptp9EFf3iP2PFgINlyXWJB7kn79uRQHu6hHBS5GT5bZlIYTNtesgLi0tpaCgAAeNFq/zZeDpXG9ZQm80suzEVj49fxiApwfcyON9R8ssakKINqFdB3FNWULlhhoVmslhdcoSeRWlPHdwE3FZyWhVal4fNpXbgwfZorlCCFGvdh3EqammOYcDMkxfa2/vW+v53/LSeebABi6XFuDj1Im3omZwg2/T558QQghratdBfPGi6Xbm7jmOqPr4oA7zAUBRFDZdPMHfjv1IhVHPYO+uvBM1ky6dPGzZXCGEqJd9BHGRE9r7Tb3hIl05r8X/yJZLvwFwV0gEL0ROwknTrk9VCGHH2m06lZaWkp+fj5NehZ+xE5pJvTmem8aCg9+QWpqPi8aBv0RMZEZIuFyUE0K0ae02iDMzMwHoVuyM+tYw3rq0n08SDmBQFAZ4deGfw6fR093Hxq0UQojGtdsgTk8xTf7evdCZJ7v/Rty5PFTAw2FRPD1wPI4yPlgI0U6YPQ3mqlWrCA8PJyAggPHjx7Nv374Gt9+zZw/jx48nICCAiIgIVq9e3eLGXi0tIRmAYlcH4lzyCPPwY+1ND/Lc4GgJYSFEu2JWEG/YsIFFixYxf/58du3axYgRI5g1axaXLl2qd/vk5GTuueceRowYwa5du3j22WdZsGABmzZtsljDw7uEMSTDky+jFGL7j2Nd9MOEdw602P6FEKK1mFWaeP/995kzZw4PPfQQAMuWLWPr1q2sXr2al19+uc72H3/8MV26dGHZsmUA9P3/2bvzuCir/YHjn1nY9x0XQEVRUNxQMNPM5VpmZu6atpimllZWmtp2Lbu5VVdTs5KsvOY1NbfymvpLFNw19x1F3AFZBYSBmXl+f4xMjAww4LDNnPfrxWvgec7zzDkDfOfM9znPOc2bc+TIERYvXkz//v3NUvFmT0dy8KlmLGjYjAAnD7OcUxAEoSaU2yMuKCjg+PHj9OjRw2B7jx49OHjwoNFjDh06VKJ8z549OXbsGIWFhQ9RXUOjmkeKICwIQp1Xbo84LS0NjUaDj4+PwXYfHx/9yIUHpaSk8Pjjj5cor1arSUtLw9/f3+hx8fHxJla7cuXrItFGy2DpbbT09kHF29isWTOTy5o8auLBsbiSJJU5PtdYeWPbi6tIxePj4ytUvi4SbbQMlt5GS28fVH0by01NeHl5oVAoSvR+U1NTS/SSi/j6+hotr1Qq8fT0fIjqCoIgWJ5yA7GtrS1t27YlJibGYHtMTAxRUVFGj4mMjGTXrl0lyrdr1w4bGzEJuyAIQnEmDV+bOHEiq1atYsWKFVy4cIFp06aRlJTE6NGjARg/fjzjx4/Xlx89ejS3bt1i+vTpXLhwgRUrVrBq1SomTZpUNa0QBEGow0zKEQ8cOJD09HTmz59PcnIyoaGhrFmzhsBA3ZSSRdNRFmnUqBFr1qzhvffeY/ny5fj7+zN37lyzDV0TBEGwJCZfrBs7dixjx441um/Lli0ltnXp0oXY2NjK10wQBMFKmHyLsyAIglA1ZJmZmVJNV0IQBMGaiR6xIAhCDROBWBAEoYaJQCwIglDDRCAWBEGoYXUyEFd0kvra4ssvv6R79+4EBAQQHBzMsGHDOHv2rEEZSZKYPXs2LVq0wN/fn759+3Lu3DmDMpmZmYwbN47AwEACAwMZN24cmZmZ1dkUk3zxxRe4u7szdepU/TZLaF9SUhITJkwgODgYPz8/oqKi2LNnj35/XW+jRqPh008/1f+PtW7dmk8//RS1Wq0vU9fauHfvXoYPH05oaCju7u78/PPPBvvN1Z4zZ87w1FNP4e/vT2hoKHPnztXPs1OWOheIKzpJfW2yZ88exowZw7Zt29i8eTNKpZJnn32WjIwMfZmFCxeyZMkS5s6dy86dO/Hx8WHAgAFkZ2fry4wdO5aTJ0+ydu1a1q1bx8mTJw3ubKwNDh8+zE8//UTLli0Nttf19mVmZvLEE08gSRJr1qzh4MGDzJs3z2DelbrexgULFhAdHc3cuXM5dOgQc+bMYdmyZXz55Zf6MnWtjbm5uYSFhTFnzhwcHBxK7DdHe+7evcuAAQPw9fVl586dzJkzh0WLFrF48eJy61fnhq/17NmTli1b8tVXX+m3tW/fnv79+xudpL42y8nJITAwkJ9//pk+ffogSRItWrTglVdeYcqUKQDk5eXRrFkzZs2axejRo7lw4QJRUVH88ccfdOrUCYD9+/fTp08fDh8+XCtmwcrKyqJbt24sXLiQefPmERYWxvz58y2ifZ988gl79+5l27ZtRvdbQhuHDRuGh4cH33zzjX7bhAkTyMjI4JdffqnzbWzQoAHz5s1j5MiRgPl+Z99//z0zZ87k4sWL+mA/f/58li9fztmzZ8ucebJO9YgrM0l9bZaTk4NWq8Xd3R2Aq1evkpycbNA+BwcHOnfurG/foUOHcHZ2NphwqVOnTjg5OdWa12Dy5Mn079+fbt26GWy3hPZt2bKFiIgIRo8eTdOmTenSpQvfffed/uOnJbSxU6dO7Nmzh4sXLwJw/vx54uLi+Mc//gFYRhuLM1d7Dh06xCOPPGLQ4+7Zsye3b9/m6tWrZdahTq3iXJlJ6muz6dOnEx4eTmRkJADJyckARtt3+/ZtQDfpvpeXl8G7q0wmw9vbu1a8Bj/99BMJCQl8++23JfZZQvsSExP5/vvvee2115g8eTKnTp1i2rRpAIwbN84i2jh58mRycnKIiopCoVCgVquZMmWKfooDS2hjceZqT0pKCvXr1y9xjqJ9jRo1KrUOdSoQF6noJPW10XvvvceBAwf4448/UCgMV50ur33G2lobXoP4+Hg++eQTtm7diq2tbanl6mr7ALRaLe3atdOnwdq0aUNCQgLR0dGMGzdOX64ut3H9+vWsXr2a6OhoWrRowalTp5g+fTqBgYG88MIL+nJ1uY3GmKM9lVkQA+pYaqIyk9TXRjNmzODXX39l8+bNBu+Sfn5+AGW2z9fXl9TUVIMrsZIkkZaWVuOvwaFDh0hLS+ORRx7By8sLLy8v9u7dS3R0NF5eXvpFAepq+0D3O2revLnBtpCQEP0MhHX9dwjw0UcfMWnSJAYNGkTLli0ZPnw4EydO5N///jdgGW0szlztKW1BDCjZ235QnQrElZmkvraZNm0a69atY/PmzYSEhBjsCwoKws/Pz6B9+fn57N+/X9++yMhIcnJyOHTokL7MoUOHyM3NrfHXoG/fvuzbt4+4uDj9V7t27Rg0aBBxcXE0bdq0TrcPdHnBS5cuGWy7dOkSAQEBQN3/HQLcu3evxKc0hUKBVqsFLKONxZmrPZGRkezfv5/8/Hx9mZiYGOrVq0dQUFCZdVBMnz59phnbVOVcXFyYPXs2/v7+2NvbM3/+fPbt28fixYtxc3Or6eqVacqUKaxevZoff/yRhg0bkpubS25uLqB7k5HJZGg0Gv7973/TtGlTNBoN77//PsnJySxYsAA7Ozu8vb05cuQI69ato3Xr1ty8eZO33nqL9u3b1/jwJ3t7e3x8fAy+1q5dS2BgICNHjqzz7QNo2LAhc+fORS6X4+/vz+7du/n000956623iIiIsIg2XrhwgV9++YWmTZtiY2NDXFwcs2bNYuDAgfTs2bNOtjEnJ4fz58+TnJzMf/7zH8LCwnB1daWgoAA3NzeztCc4OJgffviBU6dO0axZM/bv389HH33E5MmTy33zqXPD10B3Q8fChQv1k9R/9tlnPProozVdrXIVjY540LRp05gxYwag+7gzZ84cfvzxRzIzM4mIiODzzz8nLCxMXz4jI4Np06axdetWAPr06cO8efNKPX9N6tu3r374GlhG+7Zt28Ynn3zCpUuXaNiwIa+88grjx4/X5wHrehuzs7P517/+xe+//05qaip+fn4MGjSId999F3t7e6DutTEuLo5+/fqV2D5ixAiWLl1qtvacOXOGKVOmcPToUdzd3Rk9ejTTpk0rN0dcJwOxIAiCJalTOWJBEARLJAKxIAhCDROBWBAEoYaJQCwIglDDRCAWBEGoYSIQC4Ig1DARiK2Uu7s7b731Vk1Xw2RXrlxh8ODBBAUFGZ3Y+2G9+uqr+ltdrVF4eDivvvpqTVfDaolAXEV+/vln3N3d8fX11c9DUNygQYMIDw+vgZrVTa+//jpHjx5l+vTpfPvttybdwPPrr7/y9NNPExQUhL+/Px07dmTmzJm1ZiWM6vbHH38we/bsmq6GYIQIxFWsoKDAYGUDoeI0Gg379+9n6NChvPrqqwwbNqzMKQW1Wi3jxo1jzJgxqFQqpk6dyty5c+ncuTNLliyhS5cuXL58ufoaUEts27aNuXPnGt135MgRg8UWhOolAnEVCw8PZ+XKlUZ7xZZOkiSDCVAqKz09HY1GY/JcIosWLWLNmjVMmDCB7du3M2nSJF588UUWLlzI77//TlpaGi+88ILBGmy1SV5eXrU/p52dHTY2NtX+vIKOCMRV7O233wYot1d89erVUnOfD+bvitIee/bs4b333qNp06YEBgYyceJE8vPzyc3NZfLkyTRp0oTAwECmTJlSatBZv349UVFR+Pn50blzZ6NLAN29e5cPPviA8PBwfH19adWqFTNnzkSlUhmUK8o7b9y4kc6dO+Pr68uvv/5aZrv3799Pv379aNCgAQ0bNuTZZ5/lyJEj+v2zZ8/WL6szd+5c3N3dy5yrIC8vjwULFtCkSRNmzZpV4h7/qKgoXn/9dc6cOcNvv/1W4vhr164xdOhQGjRoQLNmzfjoo48oLCw0KLN792769OlDUFAQDRo0oEOHDrzzzjsGZQoKCpg3bx4dOnTA19eXkJAQ3nrrrRJpkfDwcAYNGkRsbCy9evXCz8+PBQsWMGzYMFq1amV04ckH9/3vf/9j2LBhhIaG6n8///znPw1+P6+++io//PADgP41dHd3168cYSxHnJGRwdtvv03z5s3x9fUlMjKSxYsXl6hT0e99x44ddO3aFT8/P9q3b8+6desMyqnVaubPn09ERAT+/v40adKE3r17s2nTphJttDZ1cmL4uqRhw4Y899xzrFy5krfffpuGDRua7dwzZszA29ubadOmcfz4cX7++WccHR1JTEzEwcGB999/n9jYWKKjo2nSpAmvvfaawfEHDx5kw4YNjB8/HmdnZ3766SdGjhzJpk2b9DnYvLw8nn76aa5evcpLL71E48aNOXXqFIsXL+bixYusWrXK4Jz79+9n06ZNvPLKK/j5+ZWY6rO4vXv3MmDAAOrXr8+UKVPQarX88MMP9O3bly1bttChQwf69euHt7c3U6dO5emnnzY6cUtxBw4cICMjg3HjxpXaw3vuueeYN28eW7duZcCAAfrtWq2WwYMHEx4ezsyZM9mzZw9fffUVWVlZLFy4ENAtGzR06FDCwsKYPn26/vUu/gYmSRKjRo0iNjaW559/npYtW3LlyhWWLVvG8ePH2b59u0HdEhISeOGFF3jhhRcYNWoUDRs2pEmTJmzbto2DBw/q10gD3eKlO3fuZMKECfo3mZUrV6JQKBg3bhzu7u4cPHiQRYsWcfPmTaKjowEYPXo0N2/eJDY21mD1FG9vb6OvkUqlol+/fpw7d46XX36ZkJAQtm/fzgcffMDNmzdL5JoPHz7Mli1bGD16NM8//zwrVqxg3LhxhIeH6+dvnjNnDl988QXPP/88ERER5ObmcvLkSY4cOUL//v3L/L1aOhGIq8E777zDqlWr+PLLL82aL/by8mL9+vX6f8hr164RHR3NkCFD+O677wAYM2YMUVFRrFy5skQgPnv2LNu2bdNP0Tdy5Ejat2/Pxx9/zPbt2wH4+uuviY+PZ9euXQYTooeGhjJlyhT27dtH586d9dsvXLjA7t27ad26dbn1f//993FycuL//u//9AFhxIgRREZG8sEHH/DHH3/QqlUrfHx8mDp1Ki1btmTYsGFlnvP8+fMAtGrVqtQyNjY22NjYsH79ejZu3Iifnx8ODg4UFhbSuXNnFixYAMArr7zChAkTWLFiBZMmTaJZs2bExMSgUqlYt24dXl5e+qCUnp6Or6+v/s3nzz//ZPPmzTz22GP653300UcZOnRoqZOEr169Wr9OXE5ODg4ODvz6668GgXjz5s0UFhYyaNAg/bbo6GgcHR31P48ePZrg4GA+++wzPv74Yxo0aEBkZCTBwcHExsaW+xqCbsmr06dP89VXX+lX5Rg7dizPP/8833zzDWPHjiU4ONjgdd+7d6/+b+TZZ5+lVatWrFy5klmzZgG6HHXv3r1FLtoIkZqoBgEBAfpesTlzxaNGjTL46N2hQwckSeL55583KBcREcGVK1dKHN+uXTuDeVI9PT0ZMmQIhw4d0n+E3rBhA1FRUXh7e5OWlqb/evzxxwGIjY01OGdUVJRJQTg5OZnjx48zYsQIg15Z/fr1GTx4MAcPHqzU6IacnBwAXF1dje5PTEyke/fuFBYWYmtry2uvvUajRo30AXD48OEG5cePH48kSezYsQPQzYcNukVEExIS6N69OytXrqR9+/b6c/3555/Y2NhQv359g9esaL5i0E19Om3aNFxdXXFxcWHatGm8/vrr+ud1dnamd+/ebN68WT8hO+hSSU2aNKFt27b6bUVBWKvVkpWVRVpaGp07d0aSJE6cOFHh1xB0QdPLy0u/0jHolvt54403kCRJ/0ZdpGvXrgZv1L6+vjRr1ozExET9NhcXF86dO1diYn1B9IirTVX0ih9McxQFH2Pb8/LyUKlU2NnZ6bcX79E8uO369eu4u7tz+fJlTp8+bbQs/L0UTJGyRjMUd+3aNQCjqYvmzZsjSZK+DhXh7OwM6PLaxrz99tukpKRgb29P06ZNmTlzJqB7A7lw4QKrVq0y6IEWfz1AN+zwP//5D2+88QZKpRK1Ws3w4cNZtGiRPt3QuHFjMjIy6NChQ6n1LJp/etWqVQQEBOh/Lm7gwIFs2rSJuLg4unXrxp07d4iLiysx/vvcuXN89NFH7Nmzp8SFvqysrFLrUJZr164RHBxcYqWOomBb9PsrUrRCSXHu7u5kZGTof54xYwajRo2iQ4cOtGjRgh49ejB48GDat29fqTpaEtEjribl9YrLmji6eI+ouAf/SYrI5cZ/rQ9eZCltMcQHn/uxxx5j48aNRr+KL5gJGCwlXlhYyLfffku3bt3w9/enefPm+hWCNRoNoEt9lFeHiigKFKdPny6xLzExkZ07d9KgQQPy8/Np0aKFfl/RmO61a9fqV00xxsHBga1bt/Ldd9+hVquxsbFh9erV9OzZUx8EPT09kclk2NnZsXr1aoPXy1haovhrVtwTTzyBq6sr69evB2Djxo1oNBqDtERWVhb9+vXj/PnzfPjhh/z3v/9l48aN+te1tL8dcyvtb7H477Jr166cOHGCpUuX0rp1a/3rJoZ3ih5xtSreK36Qh4cHULIHo1KpSEpKqpL6GPuImJCQAPzdw2ncuDE5OTn6VISpMjMzGTJkCIcPH6ZXr148/vjj7Ny5kx9//BEPDw/q1asHYPSmlvj4eGQymdFeVnk6deqEm5sb69atY+rUqSiVf/+JF6VRfHx8uHnzJn369NHvK+rN5uXlceTIEbp16wagH29cvC5yuVw/LG/UqFG0atWKd955h99++42hQ4cSHBzM9evXUalUODg46M8F6Fe4WL9+PYmJiWRnZ5OWlkZhYWGJi4v29vb06dOH3377jc8//5z169cTFhZGaGiovkxcXBypqan8/vvvdOnSRb/9wXUdofyVhIsLDAzkxIkTaDQagyBblMIJDAw0+VzFubu7M2LECEaMGEFeXh6DBw9m7ty5vPnmm6UGc2sgesTVqHiv+ObNmwb7XFxc8Pb2Ji4uzmD78uXL9b1Hczt27JjBYojp6emsXbuWjh076lMCAwcO5OjRo/zvf/8rcXxeXp4+J/ugV155hcOHD/PJJ5+wbt06Pv74Y7Zu3Yqbmxu7du3iu+++w9XVlZiYGNLS0vTH3b59m7Vr1xIVFcWqVauYPXs2ixYtAmDPnj3Mnj271K+iUSNvvvkmly9f1i95XyQ+Ph7QLWfTsmXLUkdgFH+DKhph0KtXL/1rVPxcTZo0oU2bNgD6nPbAgQMpKCgoca7iXn75ZT755BMyMzM5fvw47dq1Y9euXSXKDR48mPT0dFatWsWBAwcYOHCgwf6i4FW856nValmyZEmJcxXlkk3JvT/xxBOkpqby3//+V79NkiQWLVqETCajd+/e5Z7jQUWvXREHBweaN2+OSqXi3r17FT6fJRE94mpW1Cs+f/58iR7fSy+9xOeff85rr71Gx44dOXbsGLt378bLy6tK6hIWFsawYcMYN26cfvhadnY2H330kb7M66+/zvbt23n++ecZOnQoERERqFQqLl26xIYNG/SBu7jY2Fh27NhBx44dS1yACg0N5cCBA8hkMhYtWsRbb71Fr169ePHFF5Ekie+//57CwkJmzZrFyy+/rM/Ngm642969e0ttz6OPPsrIkSN58803OXPmDEuWLOHIkSM888wzuLi46IeYOTs7s2LFCoPeMuh6ukVD6CRJIi4ujk2bNjFq1Ch9LnvevHns2bNH37s8fPgw0dHRODk58eSTTwIwdOhQ5s+fz+XLl1m2bBmFhYXIZDISEhLIyMhgypQp+te8Xbt2KJVKbt68ybBhw9i2bZvBhbju3bvj6enJBx98gCRJBmkJ0H0C8PT05NVXX2X8+PEolUo2b95s9A2yXbt2AEydOpVevXqhVCp58skncXJyKlH2hRdeYMWKFUyePJlTp07RtGlTduzYwfbt25kwYUKp1wzKEhkZSefOnWnfvj2enp6cPn2aFStW8MQTT+gvglorEYirWUBAACNHjtQPri9uypQppKen64dVdenShU2bNpU7drayoqKi6Nq1K3PmzCExMZHg4GBWrlxJ165d9WUcHBzYvHkzCxcuZP369fz66684OTnRqFEjXn31Vf3NFsWtXr0agNdee63Ex+Gij9+DBg1i1KhRNGnShM8++4x58+Yhk8no0KEDP/zwAx07duTUqVOAboRF8+bNDRZZLYtCoSA6Oponn3ySH3/8kblz5xpcqHz33XeNBpKiuqpUKv75z39ib2/PpEmTDN6YnnrqKW7cuMHOnTsB2LVrF926dePdd9/Vf1yXy+X069ePBQsWkJGRwcyZM7G1tSUgIIAxY8bw8ssv4+vrC+hW7w4JCWHAgAEsXryYuXPnGvRClUol/fv354cffqBdu3Y0btzYoM4eHh6sWbOGDz74gNmzZ+Pk5MQzzzzDyy+/XGI+jmeffZZDhw6xYcMG1q1bpx9VYSwQ29vbs3nzZmbNmsWGDRvIyMggKCiIWbNmMWnSpHJ/B8a8+uqrbN26ldjYWPLz82nQoAGTJ09m8uTJlTqfJRGLhwpmFx4ezq1bt7h69ap+FEORp59+mgMHDnDw4MFK9aoexocffsiiRYuYNWuWQU+9yNSpU1m2bBlffPEFY8aMqbZzgS433759ezw8PIwONRQsm+gRC2aVl5fHjRs3CAgIKBGEk5KSOHHiBCEhISYF4a+//rpCw68CAwMNxr0+qKj3XtqEP0XbmzZtWu5zmfNc8PcdbtaeK7VWIhALZpWfn48kSUav0H/44YdkZ2eXyM2WZunSpQY54vIU5YhLU5Ry2blzJ1qt1mCYX3Z2NgcPHsTBwaHM8b9VcS6Av/76CzB9HLZgWcSoCcGs3N3dcXV15dq1axw/fly/ffXq1axduxYo/WaLB506dYrMzEyTv7Zs2VLm+Ro3bkyPHj24du0ay5YtM9g3e/ZscnNzGT58uEHO9MqVK1y8eLFET7Uy5zp37pzBDQ5Fbty4wdSpUwHdhT7B+ogcsWB2M2bMYOnSpXh4eDBgwAAyMzPZuHEjXbt2xdnZmS1btjBs2DBGjhxpMBdDdbhy5Qq9e/fmzp07PPXUUzRv3pwjR44QFxdH06ZN2b59O56envry4eHhXL9+nd9++83gImZlzjV79mwWLFhA165d5cagawAAIABJREFUCQoKwtnZWT9hUH5+Pr1792blypXY2tpW2+sh1A6K6dOnz6zpSgiWpWvXrqjVai5dusS+ffu4ffs2zz33HN988w1t2rThwIEDxMTE0K1btzIn56kKHh4eDBo0iKysLPbu3cvu3bspLCxkxIgRfPfddwaBE3Tpkbt37/Lcc88RFBT0UOeSyWTcu3ePixcvcujQIfbt20dKSgoRERFMmzaNjz/+2OS0jWBZRI9YEAShhokcsSAIQg0TgVgQBKGGiUAsCIJQw0QgFgRBqGEiEAuCINQwEYgFQRBqmAjEgiAINazOBuKiibktmWijZbD0Nlp6+6Dq21hnA7EgCIKlEIFYEAShholALAiCUMNMCsR79+5l+PDhhIaG4u7uzs8//1zuMWfOnOGpp57C39+f0NBQ5s6d+1DLpAuCIFgqkwJxbm4uYWFhzJkzBwcHh3LL3717lwEDBuDr68vOnTuZM2cOixYtYvHixQ9dYUEQBEtj0px7vXv31i+f/dprr5Vbfu3ateTl5bF06VIcHBwICwvj4sWLfP3110yaNMno6g2CIAjWqkomPz106BCPPPKIQe+5Z8+e/Otf/+Lq1atiOZgHaLVa7t27R15eHvn5+ahUKlQqFVevXiU9PR2NRlPql1arBdCnfYo/Fn2Vtf+hSRJoJFBrkTRa3fdaSbdd+8CXxAM/S+Tn53PEzh64v1+6/wj3H4u2F/ueB8pRvLzRSlZos7nPWVhYyJH7q1dbIktvn5+3LwH9TFvyqrKqJBCnpKRQv359g20+Pj76faUF4oqO1atL4xe1Wi2ZmZmkp6frl/bJycnh3r173Lt3z7rz55a+XqYMUNd0JaqQhbcv8NpdAuhQ4XhTtMCsKapsOYAH0w9FgaastERFKh4fH1+h8jUhIyOD06dPc/HiRa5evUp+fn6pZR0cHHB0dMTOzg57e3vs7OwoKCjA09MTpVKJXC5HoVCU+CpatFImk+lf2we/L/5InhrS8yDtHqTlIaXeg8x8pGwVqDQVb6QMsFWArQKZrQKUclDIQSF74FGOTC67v18Gct3Xvbx7ODk5684jA2Qy3Zf8/vdw/0rG/WOKlyk6pkSFSn5bZv3135dyQKnbTTgncDfrLq5uriZUpm6q1vZJoJa0qLVa1JKGAo0GtaSlUKtBrdVQqNWikbSopfuP93/W6I/RopEkNFrN39/f319q+xp6ARWLTxVVJYHY19eXlJQUg22pqanA3z1jS6VWqzlx4gT79+/n2rVrBvs8PDxo0KABvr6++Pr64unpiaurKy4uLtgY+Wj3sG82kkqN9kwK2rN30J5NQTp3Bykpx0hJpe7LQYnM1xmZnxMyL0dk7vbgZo/MzV73vasdMlc7cLRB5mADDjZgp3ionH9deEN9WJbexoq2TytJZBfmk1WQT2ZBHln3v3Tf67ZlFuSRU6giR626/1hATqGKXLUKjdk/PcqQocBeYYO9QomdwgY7hUL3KFfg4dnAzM9XUpUE4sjISGbOnEl+fj729vYAxMTEUK9evRLrflkKrVbLkSNH2L59u36VYltbW1q0aEHLli1p3Lgx7u7uVV+PxAw0+66jPXQD7bHbUPBAL9dBiayRB/IgN2RBHsgbuSNr6IrM1xlcbMWFVKFS8tSFpKlydV/5uaTm55KqyiU1P4c01T1S83P0AfZuQT5akxL0xtkrlDgp7XCxscNJaYuzTdH3up8dlbbYK5Q4KG1xUChxUNpgr7DBQWGDg1L3aF/sewelDXZyZZl/+1WdBjUpEOfk5JCQkADoAs6NGzc4efIkHh4eBAQE8PHHH/PXX3+xefNmAAYPHszcuXN57bXXmDJlCpcuXWLBggW8++67FvmPfuvWLX755Rdu374NgL+/P126dKFt27bVsiKv9noWmh2X0fx5GSnBcLl2WVNP5OF+yMN8kbf0RRbohkwh7uMRTCNJElmF+STdu0tS3l2S8rINvk/JzyblXjZ5pyqWJHZW2uFu64CbrT1u9x/dbR3ub9P97Gpjj7ONHc5Ku/uPtjjZ2GEjV1RRa2uOSYH42LFj9OvXT//z7NmzmT17NiNGjGDp0qUkJSVx5coV/X43Nzc2bNjAlClT6N69O+7u7kycOJFJkyaZvwU1SJIk9u7dy5YtW9BoNHh4ePDkk0/Spk0bfe62yp5brUUbl4h6/Tm0R27+vcPFDkWXQORRASg61kfm6Vil9RDqvrsF+dzIzeR6bgbX7j/eupd1P+Bmk6cpLPccNnIFXnZOeNs7lXj0tnPCy94JD1tH3G0dcLW1t8hg+jBMCsRdu3YlMzOz1P1Lly4tsa1ly5Zs3bq18jWr5TQaDZs3b2b//v0APPLII/Tt27fKe8CSSo1m83kK/3MC7uTqNtorUfRogqJXE+QdGiCzEX/kgqFcdQFXstO4fDeVxJx0rudmcP1+0M0qKP0iMoCT0hZ/B1f8HVzwd3TF38GVeg6u+Du64Gvvwt1bybRtHmaRn3arS5WNmrBkWq2WNWvWcOzYMZRKJUOHDqVt27ZV+pySWotm0zkKfzwGqbrxXrIgd5SDwlD0CUHmXPUpEKH2yyzI4/LdVBKy07icnUrC/e9v590t9Rh7hZIAJw8CnNxp6OSu/97/frB1sbEv8znjkzNEEH5IIhBXkCRJbNiwgWPHjmFra8vYsWOr/AYVzdFbFH65D+lyOgCyZl7YjIlA3jVINyRMsDqSJHHrXhbns1I4l5l0/zGZpFICro1cQSNnT5q4eNHYxYuA+wE30MkDb3snEUhrmAjEFbR3714OHjyIUqlk9OjRVRqEZXlqCj7bjea3C7qf67tgMykKebfGIgBbEUmSSMrL5mT6TU6k3+JcVjLnM5O5W1gypeCgsKGJixfBrt66RxfdY0MnD5RVfN1CqDwRiCsgMTGR33//HYBhw4YRHBxcZc+lOZGE34eH0dzJB1sFyhfaohzZBpm9+JVZujx1IWczkzhxP/CeTL9JSn7J8d+edo60cPOjhbsfofcfg5w9UMhEwK1rxH+1ifLz81m1ahVarZauXbvSpk2bKnkeSZLQ/HKawkUHUGolZCFe2M7sgbyxR5U8n1DzctUFHE29zuHUaxy+c40zmbdL3LTgamNPG8/6tPasT0v3eoS6++Fj7yxSChZCBGIT/fHHH2RmZtKgQQOeeuqpKnkOSaWmcN4eNP+7CEB230B8pv1DjIKwMHnqQo6mXefQnWscTr3K6QzDwCtHRgs3P33gbePZgEbOniLoWjARiE1w/fp19u/fj1wuZ8iQISgU5g+MUm4BBVO2oT1+G+yV2H7wOFmBGnxFEK7zJEniSnYaccmXiUtK4EjqNQq0f9/xqJDJCPeoR0efICK9A2nv1RAnG7sarLFQ3UQgLockSWzZsgVJknjsscdKzCpnlufIzEf11v+QzqeCjxN2nz+BPMQb6tDscoIhlUbNgZREYpMvE3P9Asmnc/X7ZEBLd38ifYKI9AmkvVcAziLwWjURiMtx7tw5EhIScHR0pEePHmY/v5SVj2rib0gJGcgauGK7qC/yei5mfx6h6uUUqohNusyfty4Sm3yZe+oC/T53Wwce9WtMV79gOvs2xsveqQZrKtQ2IhCXQZIktm/fDkCvXr1MWiaqQufPLUD19lZdEG7sgd1XfZF5i1uS65Ksgjz+vHWR/7t1gX0piRQWSzmEufvzuH9TGhXa8GTrSDGaQSiVCMRliI+P59atWzg7OxMVFWXWc0sFGgqmbUc6ewdZfRfsFj4lgnAdodKo2ZV0iS3XzhCbfFkffGVAhFcAvRqE0LNeCA2cdLPtxcfHiyAslEkE4jLExMQAurk2jM0XXFmSJFH4+R60f90CLwdsF/ZF5iM+qtZmWknicOo1fr92mh23LpBdqAJ0Ixwe8W1E7wYt6FEvBG+RchAqQQTiUty+fZvLly9jZ2dHp06dzHpuzbozurvlbBXYff4k8oaWu3pDXXcnL4cNV0/ya+IJbtz7e+KrMHd/ng5oyVMNw/BxcK7BGgqWQATiUhw8eBCAiIgIs+aGNUdvUbhQN2ObzXvdkLew7BVL6iKNpGVf8hXWXjnOrqR4/RhffwdXnglsxdMBLQl29a7hWgqWRARiIwoKCjh69CiAWXPDUlY+BTNjQCOhHNka5RNNzXZu4eFlFuSx7spxVicc1c9WppDJ6FU/hMGN2tLZr7HI9QpVQgRiI06ePEl+fj6BgYHUq1fPLOeUJImCObFwJxd5Kz+UEyLNcl7h4SVkp7Hy0mE2XTtFvka30kRDR3cGN27Ds4GtRepBqHIiEBtx7NgxADp27Gi2c2p+u4B2VyI42mDzcXdkStGzqkmSJLE/JZEVlw4Rl5yg397ZtzHPN+1AF79g5OKWYqGaiED8gOzsbC5duoRCoSA8PNws55RScv/OC0/tgry+uDhXU7SSRMzteL49v5czmUkA2MmVPBPYilFNO9DUVeTsheonAvEDTp06hSRJhISE4OhonnG9Bf/eC/cKkXcNQiHywjVCI2n548Y5ll3YT/zdO4BuGslRwR0Y2rgdHnZiDLdQc0QgfsCJEycAzDbNpSYuUZeScFBi886jYgataqaRtPzv+lmWnt/D1RzdCtd+9i6MDolicKO2OCjNNz5cECpLBOJicnJySExMRKFQEBYW9tDnk/LVFH6xFwCbcR2R+4mLPtVFkiR2JV1i4Znd+h5wQ0d3xjTvxLOB4dgqxJ++UHuIv8ZiLly4gCRJBAcHY29f9oKJplD/9yRSci6yEC8UQ1qaoYaCKQ7fucaCM7s4nn4T0I3/nRjahWcCw8VyQUKtJAJxMefOnQMgNDT0oc8lpd1D/Z/jANi88QgyhQgAVS0hO435J/8kNvkyAB62Doxr0ZlhjdtjJ3rAQi0m/jrv02g0XLyoWxmjRYsWD32+wmVHIE+NvEsgigjzz2Es/C2rII+vz+1hdcJR1JIWJ6UtLzWL4sWmHcUE60KdIALxfYmJieTn5+Pr64uXl9dDnUt7JUM3l4RChs1E885TIfxNrdXya+JxvjobS2ZBHjJgSKO2vB72mJjvV6hTRCC+L/7+ahjNmzd/6HOpfzgKWgnFgFDkjdwf+nxCSSfSb/LxsT+4kJUCQEfvQKa17kWou18N10wQKk4E4vsuX9blFYODgx/qPNrETDT/dxmUcpQvtjNH1YRisgvzWXBmN78kHEUC6ju6MTW8B/+o31wMDRTqLBGIAZVKxfXr15HL5TRp0uShzqX+6RhIoOgbIoarmZEkSWy/eZ7PTuwgVZWLUibnpWZRTGjxqBgLLNR5IhCjyw9rtVoCAgIeatia9noWmu2XQCETvWEzSs7L5uNjW9mdpPvU0tazAf9s9yQhbr41XDNBMA8RiIFLly4B0LTpw91+rF55Qpcbfrq5WADUDCRJ4vfrZ/jsxA7uFubjYmPH2y27M7hxWzEhj2BRRCAGEhJ0s289TFpCyshD84fugp9ylHluj7Zmafm5fHL8D/7vlm5IYTf/YGa264Ovg3iDEyyP1QfiwsJCbt26hUwmIygoqNLnUW86BwUa5J0DkAeJkRIPY8fNC3x8bCsZBXk4KW2Z3roXA4Jai4txgsWy+kB869YtNBoN/v7+lc4PS4Ua1L+eBUA5zDxTZ1qjPHUhs0/u4NdE3cRLUT5BfBrRl/qObjVcM0GoWlYfiK9evQpAYGBgpc+h2XkFUu8ha+yBvGMDc1XNqlzMSmHKoU1czk7FVq5gSngPRjSJELlgwSqYPAFCdHQ0rVu3xs/Pj27durFv374yy69du5YuXbpQr149QkJCGDduHMnJyQ9dYXO7du0a8HCBWL3mFADKYa3Ex+cKkiSJXxKOMjzmJy5np9LExYvV3V9iZHAHEYQFq2FSIF6/fj3Tp0/nnXfeITY2lsjISIYMGcL169eNlj9w4ADjx49nxIgR7N+/n59//pnz58/zyiuvmLXy5vCwgVgbn4Z09g642KJ4opk5q2bxcgpVzL92gE+Ob0OlVTMoqA2/dH+J5mJYmmBlTArES5Ys4bnnnuPFF1+kefPmzJ8/Hz8/P5YvX260/OHDh6lfvz4TJ06kUaNGdOzYkXHjxvHXX3+ZtfIPKysri8zMTOzt7fH1rdw/v/q38wAoejdFZm/1mR6TJWSnMWLXT+y7exMnpS3zO/bnk4incFTa1nTVBKHalRuICwoKOH78OD169DDY3qNHDw4ePGj0mKioKJKTk9m6dSuSJJGWlsb69ev5xz/+YZ5am0lRbzggIAB5JeaplVRqNH/oxiArn3n4Gdusxf/dvMDwmB9JyE4j0M6VNd1f4qmAh5+IXxDqqnK7cGlpaWg0Gnx8DBdV9PHxISUlxegxkZGRREdHM27cOPLy8lCr1XTv3p2lS5eap9ZmcuPGDUAXiCtDszsRslXIWngjD/E2Y80sk0bSsuhMLMsu6hZSfbJBKC+6NaeRy8PNdicIdZ3Jn6UfvAglSVKpF6bOnz/P9OnTmTp1Kj169CA5OZkPP/yQyZMn8+2335b6HEUzoJmqouUfVHRHnUwmq9S5vH85hj2Q3smT3IesS2keto21Ra6mkC+uHeBoTjJyZLzgH05/j2aVfu3rGktvo6W3DyrexmbNTL9mVG4g9vLyQqFQlOj9pqamluglF/nyyy9p3749b7zxBgCtWrXC0dGRPn368OGHH9KwYcOHrnh8fHyFyhuzevVqACIiIvD2rliPVns7G9XZTLBTUG9kZ2TO5s9tmqONtcGN3Eze2beWyzmpeNg68EXUAKJ8dDfPWEoby2LpbbT09kHVt7HcxKitrS1t27YlJibGYHtMTAxRUVFGj8nLy0OhUBhsK/pZkqTK1tWscnJyyM7OxtbWFk9Pzwofr9mu600rHmtUJUHYUhxPu8GIXbqhacEu3qzu/pI+CAuCoGNSamLixImMHz+eiIgIoqKiWL58OUlJSYwePRqA8ePHA+jTDk8++SRvvvkm33//PT179iQpKYkZM2bQpk2bSudjze3WrVsA1K9fv1IX6jQ7dDOBKXo/3ERBlmzL9TN88NcWCrQaOvs25suoZ3GxefhFWQXB0pgUiAcOHEh6ejrz588nOTmZ0NBQ1qxZox97W3TRq8jIkSPJyclh2bJlfPDBB7i6utK1a1c+/vhj87egkooCcb169Sp8rPZyOtLldHCxQx5lPM1izSRJ4rsL+/jqbCwAwxq34702vcUKyoJQCpMv1o0dO5axY8ca3bdly5YS28aPH6/vKddGxXvEFaXZcT8t0aMxMhtFOaWti1aS+OzEdv6bcBQZMK11L0YFdxB3HApCGaz2DoTbt28DFQ/EkiSJtEQpCjRq3vvrd7beOIeNXMG8js/Qu4EYXy0I5bHKQFxYWMidO3eQyWT4+/tX6FjpTArSrWzwdkTepmLHWrLcQhVvHlzP/pREnJS2LHpksLgoJwgmsspAnJycjFarxdfXFxubiq13ptl5BQBFzybIFCLnCZCuuseEvb9wJjMJLztHvn10GKHu4k1KEExllYG4aEx0ReeXkCQJTWwiAIrHG5u7WnXSnfwcxsT9l8vZqQQ4ufPto8MIcq74cEBBsGYiEFeAlJCBdPMueNgjD/eriqrVKcl52bwct4rEnHSCXbz5vssIfBzEytWCUFEiEFeAZnciAIouQVaflrh1L4uX41ZxPTeT5m6+RHcZgaedY01XSxDqJKsOxH5+FevV6tMSjzUyc43qlhu5mbwct4qb97Jo6e7Pd12G427rUNPVEoQ6y+oCsUajITU1FZlMVupcGcZok3KQLqSCg9Kql0O6npvBS7E/k5SXTWuP+nz76DBcbcXdcoLwMKwuEKelpaHVavHw8MDW1vQ5IrT3e8PyTgHI7KzuZQPg9r27vBz3X5Lysmnn1ZBvOg/F2caupqslCHWe1UWUSueH9+gWGVV0a2TuKtUJd/JyeDluFbfuZdHGsz7fdh6KkwjCgmAWVnfFqTKBWLpXiPb4bZDLUHSqHZMWVad01T3G7Pkv13IzCHXz45vOw0QQFgQzEoHYBNq/bkGhFlmYDzI368qHZhXk8cqe1fppLJd1GS5ywoJgZlYXiJOTk4GKjZjQHNCtVm1tveFcdQGv7lvD+axkgpw9+L7LCDzEEDVBMDurCsRFC5kCJo+YkCQJrRUG4kKthrcPbuBE+i3qO7rxfZfnxM0aglBFrCoQ5+bmkp+fj729PY6OpvXspOtZukl+3OyQtbCOBUIlSeKjo/9jT3ICHrYOLHt0GPUcXWu6WoJgsawqEBf1hr28vEyeH1e7/35vOCrAau6m+/eZXWy+dhoHhQ1LOw8VqywLQhWzjshyX/FAbCrN/UAs72QdK3H859Jhvr94AKVMzr+jBhDuWfGJ8wVBqBirCsSpqakAJq/YLKnUaI/pJpBXRFl+fnjrjbPMPfl/AHzS/im6+gfXcI0EwTpYVSBOT08HTO8Ra8+kQIEGWVNPZJ6WPZfC0bQbzDjyOxLwdqvu9A8Kr+kqCYLVsKpAXNQjNjkQH9GtayePsOyP59dzM3hj/zoKtRpGNGnPy82iarpKgmBVrCoQVzRHrD2qC8SKCMud5Ce7MJ+J+9aRUZBHF78mTG/9D7HQpyBUM6sJxHl5eeTm5mJjY4OLi0u55aW8QrSnk0EuQ96uXjXUsPqptVrePriRy9mpNHX15vPI/mLJe0GoAVbzX1e8Nyw3IdhoTySBRkLWwhuZs+mztNUVkiQx++QO9qVcwdPOkSWPDMHFRty6LAg1wSoDsSm0fxWlJSwzP7wq4S9WJxzFVq7gq06DaOjkXtNVEgSrJQJxKTR/FV2os7z88KE7V/XD1Ga1f4p2XtYxRloQaiurCcRFQ9c8PctfYVjKVulW41DKkbe2rEVCb93L4p1DG9FIEmNCOvF0YKuarpIgWD2rCcQZGRkAeHh4lFtWeyIJtBLylr7IHGyqumrVRqVRM/nAetJV9+js25g3W3ar6SoJgoAIxEZpT+qmypS38a/SOlUnSZL45NgfnMlMoqGjO/Mj+6OQWc2vXxBqNav4T9RqtWRmZgKmBuIkAOStLScQr044ysZrp7BXKFnYaaBYdVkQahGrCMS5ubmo1WocHR2xsyt7iR9JpUZ7VreKhzzcMvLDf6VeZ06xOSRauFtGuwTBUlhFIC5KS7i7lz9ES3s+VbcsUhMPZK51f122dNU9phzaiFrS8mLTSPoGtKzpKgmC8ACrCsQVSktYQH5YK0lMP7yZlPwc2nk15O1W3Wu6SoIgGCEC8QMsKT8cfWE/e1Ou4GHrwOcdxe3LglBbWcV/pqmBWNJKFjNi4kjqNRadjQVgdod++IuljgSh1hKBuBjpaibcVYGPEzL/urtQZlp+LlMPbUKLxCshj4gJ3gWhljM5EEdHR9O6dWv8/Pzo1q0b+/btK7N8QUEB//rXv2jdujW+vr60atWKb7755qErXBlFQ9fKu1inPaFLSyja+NXZqSC1ksT0I7+Rkp9DhFcAk8Ieq+kqCYJQDqUphdavX8/06dP54osv6NSpE9HR0QwZMoQDBw4QEGB8CaExY8Zw8+ZNFi5cSJMmTbhz5w55eXlmrbwpJEkyuUdcFIjrcn54+cUD7LufF54vprUUhDrBpEC8ZMkSnnvuOV588UUA5s+fz59//sny5cv55z//WaL8zp072b17N8eOHdNPshMUFGTGapsuLy8PlUqFra0tjo6OZZbVnr6fH66jgfhMxm2DvLCfQ/nzLguCUPPK7S4VFBRw/PhxevToYbC9R48eHDx40OgxW7ZsoV27dixZsoSwsDDat2/Pu+++S05OjnlqXQHFe8NlpRukrHykG3fBVoEsuPyJgWqbe+oC3j28GbWkZVRwB5EXFoQ6pNwecVpaGhqNBh8fH4PtPj4+pKSkGD0mMTGRAwcOYGdnx4oVK8jKyuLdd98lKSmJFStWlPpc8fHxFaq8KeWvXr0KgK2tbZnl7U6m4QOogpy5ceVyhepRlUx9Tb6++ReJOekE2rnyjH1AhV/LmlSX6lpZlt5GS28fVLyNzZo1M7msSakJoERvUpKkUnuYWq0WmUzGsmXLcHNzA3TpjIEDB5KSkoKvr6/R4ypS8fj4eJPK37lzB4B69eqVWb4w9i5qwDEisEL1qEqmtvHPWxfZnn4FW7mChV2GEOJm/PWtjUxtY11m6W209PZB1bex3NSEl5cXCoWiRO83NTW1RC+5iJ+fH/Xq1dMHYYCQkBAAbty48TD1rbC7d+8CGNTFGO1ZXcCWhxlvU22VkpfNR0f/B8DbrbrXqSAsCIJOuYHY1taWtm3bEhMTY7A9JiaGqCjjy6536tSJpKQkg5zw5cu6j/uljbKoKllZWUDZgViSJLTn7k/007LuBDKtJPH+X7+TWZDHo76NGRncoaarJAhCJZg0tmnixImsWrWKFStWcOHCBaZNm0ZSUhKjR48GYPz48YwfP15ffvDgwXh6ejJx4kTOnTvHgQMHmD59Ov379y+1F11VTArEt7MhIx/c7ZHVqzsjDX6+fIR9KYl42Drwr4inkdfRsc+CYO1MyhEPHDiQ9PR05s+fT3JyMqGhoaxZs4bAwECgZLrB2dmZjRs38u6779KjRw/c3d3p27ev0aFuVc2U1MTfaQnfOnMjR2J2Gv8+vQvQTW3p41B37wQUBGtn8sW6sWPHMnbsWKP7tmzZUmJbs2bN2LBhQ+VrZiZFd9W5upY+14JUNP9wHckPayQt7/+1BZVWzTOBrehRP6SmqyQIwkOw6Nuu8vPzKSgowMbGBgeH0lek0J6pW/nhFfGHOZ5+E197Z6a37lXT1REE4SFZdCAunh8uLeUgqbVoL6QCIA+t/T3iS3dT+ersbgA+bt8HN7HkkSDUeVYRiMtMSySkg0qDrKErMjf76qpapai1Wt7/63cKtBoGBrXmMf+mNV0lQRDMwKIDcdGFurJmXdOeu3+hrg70hn+IP8DpjNv4O7jwbuueNV0dQRDM8Y8UAAAgAElEQVTMxKIDsSk9Yu3FNABkLWp3IL6YlcLis3GAbpSEi03t7r0LgmA6qwjEZQ5dK8oPN/euljpVhkbS8sFfW1BLWoY2bsejfk1qukqCIJiRVQdiSa1Fitf1iOXNvKqtXhW18tIRzmQm4e/gwjtiAVBBsDjWHYivZUKBBll9F2SudtVZNZPdzM3UzzH8QdsncLapnfUUBKHyLDoQF12sKy1HXJSWkNXStIQkSXxyfBt5mkKebBBK93qWPcOVIFgriw3EarWanJwc5HI5Li7G54/Q54dDamdaIjbrOnuSE3C1sWd6G3HjhiBYKosNxEW9YRcXF+SlrNsm3R8xURsv1GWq7rH81gkApob3wMdezCUhCJbK4gNxqflhrYT2Yu0dMTHv1E6yNCoifYIYENS6pqsjCEIVsvhAXFp+WLp5F3ILwdsRmWfZi4pWt33JV9h07RQ2Mjkz2z1ZZ2aEEwShciw2EGdnZwOUmh/WpyVCaldvOF9TyCfH/wBguG8YQc51byFTQRAqxmoDcW29kWPZhf1cz80kxNWH/j5iektBsAYWG4iLX6wzpjbmh6/mpPP9xQMAfNjuSZQyi/31CIJQjMX+p5fVI5Yk6e8xxLVk6JokSXx6fDuFWg0DglrT3qthTVdJEIRqYpWBmDu5kJkPrnbI/GvHsLDtty6wL+UKrjb2vC1uYxYEq2KVgVgbnw7o5peoDSMScgtVzD3xfwBMbtkNT7vaNYpDEISqZZGBWKvVkpOTA5QSiC/rArEsuHaMSFh6fi/J+dm0dPdncOO2NV0dQRCqmUUG4tzcXCRJwsnJCYVCUWK/dOn+0LWmNR+I47Pu8J9Lh5EBH7V7EoW4QCcIVsci/+vLHbp2v0csr+EesSRJfHpim36e4VYe9Wq0PoIg1AyLDMRlDV2TCjRIVzNBBrImNRuIf79+hiOp1/G0c+TNlt1qtC6CINQciwzEZQ5du5oJGglZgBsye2V1V00vV13Al6djAHi7ZXexGrMgWDGLDsTG5pmoLRfqoi/sJyU/h5bu/vQPCq/RugiCULMsOhA7O5ccI6y/UFeDgfh6bgY/xh8E4L02/0BeC4bQCYJQcyw6EBvtEV+q+Qt1n5+KoUCroV9AS9qKO+gEwepZZCAu62KdPjXRtGZubT6Qksj/3bqAg8KGt8QddIIgYKGBuLSLdVJWPqTeAwclsvrGh7ZVJbVWy5yTujvoXmn+CH4O1V8HQRBqH6sKxPrecBNPZPLqz8uuvXKM+Lt3aODoxkvNoqr9+QVBqJ0sLhCrVCoKCgpQKpXY29sb7JOK8sM1cEddZkEei87FAjA1vCd2ipobOicIQu1icYG4+IW6Byf00dbgiImvz8WRVZBPpE8QveqLCd8FQfibxQZiY0PXamoM8eW7qaxOOIocGTNa96oVM74JglB7WFwgLpp17cFALGm0SAkZQPX3iL88HYNGkhjcuC0hbr7V+tyCINR+Jgfi6OhoWrdujZ+fH926dWPfvn0mHbd//368vLx45JFHKl3JisjNzQWMBOJb2ZCvBh8nZG72xg6tEgfvXGVX0iUclbZMDO1abc8rCELdYVIgXr9+PdOnT+edd94hNjaWyMhIhgwZwvXr18s8LjMzkwkTJtCtW/VNaFPUI3ZycjLYLhXNuNbEo9rqopUkPj+1E4CxIZ3wtncq5whBEKyRSYF4yZIlPPfcc7z44os0b96c+fPn4+fnx/Lly8s8btKkSYwYMYKOHTuapbKmKOoRPxiItVczAZA1rr5A/Pv105zNTMLP3oUXmkZW2/MKglC3lBuICwoKOH78OD169DDY3qNHDw4ePFjqcdHR0aSkpDB16tSHr2UFlJojTtQFYnkj92qpR76mkIVndgPwRsvHcFDaVMvzCoJQ95Q7mDUtLQ2NRoOPj4/Bdh8fH1JSUowec+bMGebOncuOHTuMrpBRmvj4eJPLllb+zp07AGRlZRns972QhC1wU5FDQQWfpzLWpZwnKS+bxvbutFDZV7htRSp7XF0i2lj3WXr7oOJtbNasmcllTb6r4MEhV5IkGR2GpVKpGDNmDLNmzaJRo0YmVwQqVvH4+Hij5bVaLQAhISE0aNBAX9f85D0ABHYJR+ZetRfr0vJz2XBuMwAfdOhDC99GlTpPaW20JKKNdZ+ltw+qvo3lBmIvLy8UCkWJ3m9qamqJXjJAUlIS58+fZ+LEiUycOBHQBUdJkvDy8mLt2rUl0hzmZDRHfCcX7hWCu32VB2GAr8/vIVddwGN+wXSqZBAWBMF6lBuIbW1tadu2LTExMTz77LP67TExMTzzzDMlytevX7/E0Lbvv/+emJgYVq5cSWBgoBmqbZwkSUaHr2mrMT+ckJ3G2ivHkCPjnXAxu5ogCOUzKTUxceJExo8fT0REBFFRUSxfvpykpCRGjx4NwPjx4wH49ttvsbGxISwszOB4b29v7OzsSmw3t7y8PLRaLfb29iiVfzet6EKdLKjqA3HRzRtDGrWlqWvJTwyCIAgPMikQDxw4kPT0dObPn09ycjKhoaGsWbNG37u9ceNGlVbSVKWNIS4auiav4kB8JPUaMbfjcVDYMDFM3LwhCIJpTL5YN3bsWMaOHWt035YtW8o8dsaMGcyYMaNiNauE0sYQS4m6W5tljapuDLEkSfrFQF8OicLHvuRcF4IgCMZY1FwTpd3eXJQjllVhjjjmdjwn0m/haefIi2KuYUEQKsCiArGx1IR0VwXpeWCvROZXNb1UjaRlwf2bNya0eBQnpW2VPI8gCJbJogKx0RETRbc2B7pV2aocm6+d5nJ2Kg0c3RjSuF2VPIcgCJbLogKx0R7x/fywvIrywyqNmsVn4wB4PewxbOWm30koCIIAFhaIjfWIpatVO3RtdcJRkvLuEuLmS9+AllXyHIIgWDaLCsTGesRVeTNHdmE+313Q3bwyOawbcrHyhiAIlWBRgdjY8DWpCkdM/Bh/iMyCPNp7NeQx/2Czn18QBOtgUYH4wSkwJZUa6XY2yGXIGrqZ9blS83P5Kf4QAG+16i7WoRMEodIsZk13Y/NMSNfvglZCFuCGzNa8F9G+Pb+XPE0hj/s3pb1XQ7OeW7BuarVa/7dcF9jb25OVlVXT1ahSpbXRycnJYDqFyrKYQFw0z4SdnZ3+hdHq76gzb1riem4Ga64cQwZMbvm4Wc8tWDe1Wk12djbu7u515lOWnZ0d9vbVtw5kTTDWRkmSyMzMxMXF5aGDscWkJozmh6tojonFZ+NQS1r6BbaimZuY2Ecwn9zc3DoVhK2ZTCbD3d3dLJ9eLC4QGx26ZsYe8fnMZLZcP4ONXMEksSqzUAVEEK47zPW7sphAXPbQNfPdzLHobCwSMKxxOxo4Vc/6d4IgWDaLC8T6C3Vayew3c5xMv8WupEs4KGx4pXlns5xTEATBYgLxgzliKSkbCjTg7YjM2TyT8Cw6GwvAc8EReNs7lVNaEATBNBYTiEv0iBPNe6Hur9Tr7Eu5gpPSlpfFNJeCUGNUKhVTp06lSZMm1K9fn+HDh3Pz5s0yj/nyyy/p3r07AQEBBAcHM2zYMM6ePWtQRpIkZs+eTYsWLfD396dv376cO3euKpuiZzGB+MEesTnnIJYkia/O6qa5fPH/27v3uBzv/4Hjr7uTUhEd7kYHOqpkUcpCfR2b05w1c9hsRBuTyeQwM3xHOUyWYQub04ZkxUbsJyoSvtaGOeRsZlEUpZK6f3/07fp2d1JJudvn+Xj0eOi6Ptd1fz7Xnff9uT/X5/q8bdwxaNT4uc8pCELNzJo1iz179rB+/Xp+/vlnHj16hK+vLwUFBRUek5CQwHvvvUdMTAzR0dFoaGgwaNAgHjx4IJUJDQ1l9erVBAcHc+jQIYyNjRk8eDCPHj164W1qcIFY6hHX4tS14/eucyrtFk00tRlr2/G5zycIDY1CoSA0NBQXFxdMTU3x9PRk+/bt0v7g4GDatm2LiYkJdnZ2Up7L6srMzGTz5s0sWLCAbt264eLiwrp16zh37hyHDx+u8LjIyEhGjx6No6MjTk5OrFu3jrS0NI4fPy7Vf82aNQQEBDBw4EAcHR1Zs2YNWVlZRERE1Kiu1dFgHugoPWuittIjKRQKVp0rGht+184Dfc2GPXFdEGpi0aJFREVFsWzZMmxsbDh58iRTp07FwMCA3NxcwsLCCA8Px9HRkbS0NE6ePCkdu3z5clasWFHp+Xfu3ImnpyfJycnk5+fTvXt3aZ+ZmRn29vYkJSXRo0ePKtU3KyuLwsJCDAyKOmo3btwgNTVV6bw6Ojp4enqSlJTEyJEjq3M5qq3BBWI9PT0UCkWtrbp25O/L/P6gKAXSW9Zuz11PQagup8jFdfp654ZUL79kdnY2q1evJjIyEk/PotlErVq14j//+Q/h4eF4e3sjl8vp3r07mpqamJub0779/xIovPvuuwwePLjS13jllVcAuHv3Lurq6hgaGirtNzY25u7du1Wuc1BQEM7Ozri7uwOQmpoqnaf0ee/cuVPl89ZUgwjECoWCx48fA//tEWfkwsM8aKwJRjUfzy1UKKRF38fbvSZSIAlCOS5dukRubi7Dhg1TesAhPz8fCwsLvvjiC9auXcurr75K9+7d6dmzJ3369KFRo0YANGvWjGbNnv+ba1Ufrpg9ezbHjx9n//79qKsrr0FT+hzVOe/zaBCBODc3l4KCArS0tNDU1KTgehpQdKPueS7iL39d5HxmKibaevhaiRRIQv2obg+1rikUCgC+//57zM3NlfZpaGhgZmbGqVOnOHLkCIcPH2bu3LkEBwfzyy+/oKurW62hCRMTEwoKCkhPT8fIyEjan5aWJvXGKzNr1iwiIyPZs2cPrVq1krbL5XKgqMdtZva/RbzS0tLK9JJfhAYRiMtOXXv+9EgFikKpNzyxTWe01TWfs5aC0DDZ2dnRqFEjbt26hbe3d7lltLW18fHxwcfHh2nTpmFnZ0dSUhLdu3ev1tCEi4sLmpqaxMbGMnz4cABu377NxYsX8fCofFrpzJkziYyMZO/evdjZ2Snts7S0RC6XExsbS4cOHYCiDl5iYiILFiyo0nV4Hg0iEJeeMVFYC0/U7bv1B1cepdGicVOGtHr1+SspCA2Unp4eU6ZM4ZNPPkGhUNC5c2eysrI4deoUampqRd9SCwpwdXVFV1eX3bt3o6mpiZWVFVC9oYmmTZsyZswY5s2bh7GxMc2aNWPOnDk4OTnxr3/9SyrXsWNHJkyYgJ+fHwCBgYFs376dLVu2YGBgII0J6+rqoqenh0wmw9/fn+XLl2Nra4uNjQ3Lli1DV1eXYcOG1e4FK0eDCMRlZ0w83426p4WFrD6fAIB/m84iIaggPMOcOXMwNjYmLCyM6dOno6+vj7OzM1OnTiU7O5vQ0FDmzp3L06dPsbe3Z/PmzUpDA9Xx+eefo66uzrhx48jNzcXLy4u1a9cqjfempKSQnp4u/R4eHg7AwIEDlc41c+ZMZs0qGvqZOnUqOTk5zJgxg4yMDFxdXYmMjERfX5/c3Nwa1bWqGkQgLvN483OuuhZ98ww3sx9goduMNyyca6WOgtCQyWQyJk6cWOH84P79+9faa2lra7N06VKWLl1aYZmMjIxKfy+PTCZj1qxZUmCuSw3igQ6lqWs5+Sj+zgINNWQtmlT7XE8KC1hz4SgAHzh2RUOtQVwiQRBeYg0iypTsEStuFqUzkZk3RaZR/eZFXv+Nvx5nYq1vRB8zh1qtpyAIQnkaRCAu2SN+nvRIuQX5rPtvb3iyY1fUZQ3i8giC8JJrEJGm5KyJ51l1bfvVX7mbm4VDUzk9W9jXah0FQRAq0iACcclZE4U1vFGX/fQJ4ZcSAZji6IWaSFcjCEIdaRCBWGmMuIbpkbZd+Q/38x7zavMWeJla13odBUEQKqLygVihUPwvEGs3RnHrvzfrLJpW+RyP8nPZcKloObwpjl4ieaMgCHVK5QNxyXUmNO7lwNNCZKZ6yHSq/kjyppSTPMzPxc3InE7GrV5cZQVBEMpR5UAcHh5Ou3btkMvleHt7c+zYsQrLRkdHM3jwYKytrTEzM6NHjx78/PPPtVLh0pTmEF+v/qPNGXmP+e7yCQA+dPQWvWFBEOpclQJxZGQkQUFBTJ8+nbi4ONzd3Rk+fDi3bt0qt/zRo0fx8vJix44dxMXF0atXL0aPHl1p8K6pkuPDNUmPtD4lieynT+git8LVyPzZBwiCINSyKgXi1atX89Zbb/H2229jb2/P0qVLkcvlbNiwodzywcHBTJs2DVdXV6ysrAgKCsLFxYWffvqpVisPpW7UVTM90r3cLLZdOQUUjQ0LgvDyq0ny0G+++QZPT0/Mzc0xNzenV69exMTElCl3+fJlRo8ejYWFBa+88gpeXl5cvHjxRTVF8sxA/OTJE5KTk5VSiAB0796dpKSkKr9QVlaWlJakNpX/MEfVZkyEX0wkt+ApPV6xo22zV2q9boIg1L6aJA9t0aIFn332GUeOHCE2NhYvLy9GjRrF2bNnpTLXr1/Hx8cHS0tLoqOjSUxMZO7cudIaNi/SMxf9SU9Pp6CgoNwUIlVNTfLNN9/w119/4evrW2m5lJSUKp2vZPkbN24ARR8YBVcfoQZcL7xPYUpWpcfee/KYH66eRgYM0LOs9mvXlZe1XrVJtPF/tLW1pcwVqiQnJ4fVq1ezefNmUlNTadWqFZMnT5aWkFy+fDnbtm3j3r17NG3aFG9vb8LCwqr9Og8fPmTz5s2sXLmS1157DYBVq1bh5ubGgQMH6NatW7nHlc5lN2PGDNavX8+xY8ewsbEB4LPPPsPb25tPPvlEKmdqair9u6IV2B4+fFhuLLS1ta1yu6q8+lpNU4hERUUxb9481q9fj4WFRaVlq1PxlJQUbG1tOX/+PABmzeSo5V6Dpo2wdnV65vFbT+/jqaKQPmYO9HJ+OXPRFbexIRNtVJaZmYm2tmolqM3NzWXZsmVERUWxfPlypeShxsbG5Obmsnbt2jLJQ4vbWZ0MHUlJSeTn5+Pj4yMdb21tjb29Pb/++it9+vR5Zn0LCgr48ccfyc7OpnPnzmhra1NYWMjBgwcJCAhg1KhRJCcnY2FhwZQpUxgyZAi5ubkVvi9NmjQpk5mkup4ZiA0NDVFXVy8T8auSQiQqKopJkyaxdu1a+vbt+1wVrUjxGHHjopR1VRofvpn1gN03fkcNGR84dH0h9RKE2pLz2td1+no6iX7VKq8qyUPPnTtH7969yc3NRVdXly1btuDkVNRpu3fvHllZWaxYsYLZs2fz6aefEhcXx4QJE2jcuLHSovMvwjMDsZaWFi4uLsTGxjJo0CBpe2xsLG+88UaFx+3evRt/f3/WrFlTZjHm2iQ93pxRCFRtfHjNhQSeKgoZbNmO1vqGzywvCELFVCV5qK2tLfHx8WRmZhIdHY2/vz979+7F0dGRwsKi+NG3b18mT54MQLt27UhOTiY8PLz+AzHABx98wMSJE3F1dcXDw4MNGzbw999/M27cOABpMeh169YBsGvXLiZOnMjChQvx9PSU0pJoaWk99wUvTeoRp+UDz566dvlhGntunkVDpoZ/m861WhdBeBGq20Ota6qSPFRLS0tKz9S+fXtOnz7NV199RVhYGIaGhmhoaGBvr7zYl52dHZGRkVW+FjVVpUA8ZMgQ7t+/z9KlS0lNTcXBwYEdO3ZIY75//vmnUvkNGzbw9OnTMqvdd+7cudansEmB+K+igfRnDU18dT4eBTC01au01K39WRyC8E+jKslDSyssLOTJkydAUZDu0KFDmZuqly9ffu7x36qo8s268ePHM378+HL3lQ6uL2K+cHkUCoU0NKF9o2iQuLIe8fmMVGJuX0BLTZ2JojcsCLVCFZKHzp8/n969e9OyZUuysrKIiIggISGBHTt2SMd8+OGHjBs3Dk9PT7y8vIiPjycyMpKtW7fW3sWqgErnrJPWmdDUQuteLmipIzPVr7B82B9xALxp1QG5TsXlBEGonpc9eWhqaip+fn7cvXuXJk2a4OTkREREhNK0tv79+7Ny5UpWrFhBUFAQVlZWrF27Fh8fnxeePFSWkZGheKGv8IKkpKTQrFkzQkJCaKbXhIB9JshsDdHeNLTc8r/fv83Iw5vQUdckxscfQ+0XP0n7eYmpXQ1DdaevNW1a9ZUDXwaVTe1qKCprY228Zyq9+pr0eLNMCwC1SoYlVv23Nzza2k0lgrAgCP8cKh2IpalrT4tGWCpade3EvRsk3r2OvmYjxtlVb0BfEAThRWsQgbhxTtH8wfICsUKh4Mv/9obftnGnqZZO3VVQEAShClQ6EEtT1zKLJmOXlx7p6N1rnE7/EwMtHcbYdKzT+gmCIFSFSgdiqUf8oADUZGXSIykUCladOwLAe3ad0NNUvcVUBEFo+FQ6EBf3iPXy1JC10Eempa60P/ZOCucy/sawkS4jrVzro4qCIAjP1CACceN89TLjw4UlxoYntvFER6PqOewEQRDqkkoHYmnWRL56malr+/88z6WH9zDVacLwVi71UT1BEIQqUelALM0jzlen5KprTwsLWX0+HgD/Np3RUlfpBwgFQWjgVDYQl1xnovTQxJ5bZ7medR9zXQMGWjrXVxUFQRCqRGUDcX5+PgUFBWgWyNAqVJOGJp4UFrDmfAIAHzh0RVNNvbLTCIKgYmqSPHTx4sUYGBgo/djZ2SmVUSgULF68mDZt2mBqakq/fv2kDEAvmsoG4pycHKBoWAJDHWT6RVPTdl//jduPM7HSN6SvuWN9VlEQhBegJslDoWhh+IsXL0o/x44dU9ofGhrK6tWrCQ4O5tChQxgbGzN48GAePXr0IpsDqHAgLl4NSTdfXVqDOLcgn7UXjgIw2dELdZnKNk8QVIpCoSA0NBQXFxdMTU3x9PRk+/bt0v7g4GDatm2LiYkJdnZ2UjKJ6srMzGTz5s0sWLCAbt264eLiwrp16zh37hyHDx+u9FgNDQ3kcrn0U3JheYVCwZo1awgICGDgwIE4OjqyZs0aacnMF01l72IVB+LG+erI7Itu1G2/+it3c7No01ROrxb2lR0uCEItWrRoEVFRUSxbtkwpeaiBgQG5ubmEhYWVSR5arDoZOpKTk8nPz6d79+7SPjMzM+zt7UlKSiqTrbmk69ev4+DggKamJm5ubsybN09aivPGjRukpqYqnVdHR0dKWDpy5MgaXpmqUdlAXHJoQq2VAdlPnxB+KRGADx29UKtChmlBUAUff/xxnb5eSEhItcqrQvJQNzc3vvrqK2xtbUlLS2Pp0qX07t2b48eP07x5cymdW+mEyMbGxty5c6fqF6OGVDYQK/WILQ3YduUU9/Me82rzFniZWtdz7QThn0MVkof26tVL6Xc3NzdcXFzYtm2blCwUKHOOqiQlrQ0qG4ilHvETdbJb6LDh1yQAPnT0rpMLJwh1pbo91LqmKslDS9LT06NNmzZcvXoVALlcDhT1uM3MzJTOW7qX/CKobCDOe1SUo05XTYtNmWd5mJ9LRyMLPIwt67lmgvDPoorJQ3Nzc0lJSaFr164AWFpaIpfLiY2NpUOHDlKZxMREFixYUOXz1pTqBuKHRU/V6TTT57srpwCY4uglesOCUMdUIXno3Llzef311zEzM5PGiB8/fizdhJPJZPj7+7N8+XJsbW2xsbFh2bJl6OrqMmzYsNq9YOVQ2UCc87hoaCJdFx4/fUIXuRWuRi8+7bUgCGW97MlD//rrL8aPHy8Nabi5uXHw4EEsLCykMlOnTiUnJ4cZM2aQkZGBq6srkZGR6Ovri+ShFVk48xMeKfIwlpnyrUceO7q9g1OzV+q7WrVKJNZsGETyUNUnkoeWQ6FQ8LjwCQDXmhXQs4VdgwvCgiD8c6hsIO57pwU+Vw25YVjIBw5d67tKgiAINaaSgVgmk5Fr2hQ0dWnb1h67pib1XSVBEIQaU8mbdTKZjD99LYjMuMyXbUVvWBAE1aaSgRigi4E577h1E9PVBEFQeSo5NFFMBGFBEBoClQ7EgtDQaGhokJ2dLT02LLy8FAoF2dnZaGg8/8CCyg5NCEJDpKurS15eHg8fPqzvqlTZw4cPadKkSX1X44WqqI3a2trS4kXPQwRiQXjJNGrUqFb+c9eVu3fvllnsp6F50W0UQxOCIAj1TARiQRCEeiYCsSAIQj0TgVgQBKGeqezqa4IgCA2F6BELgiDUMxGIBUEQ6pkIxIIgCPVMBGJBEIR6JgKxIAhCPVPJQBweHk67du2Qy+V4e3tz7Nix+q5SlaxYsYJu3bphbm6OtbU1vr6+/PHHH0plFAoFixcvpk2bNpiamtKvXz/Onz+vVCYjIwM/Pz8sLCywsLDAz8+PjIyMumxKlSxfvhwDAwNmzJghbWsI7fv777+ZNGkS1tbWyOVyPDw8SEhIkParehsLCgpYtGiR9H+sXbt2LFq0iKdPn0plVK2NR48e5c0338TBwQEDAwO2bt2qtL+22nPu3Dn69u2LqakpDg4OBAcHV2kBJ5ULxJGRkQQFBTF9+nTi4uJwd3dn+PDh3Lp1q76r9kwJCQm89957xMTEEB0djYaGBoMGDeLBgwdSmdDQUFavXk1wcDCHDh3C2NiYwYMH8+jRI6nM+PHj+f3339m5cycRERH8/vvvTJw4sT6aVKGTJ0/y3Xff4eTkpLRd1duXkZGBj48PCoWCHTt2kJSUREhICMbGxlIZVW/jypUrCQ8PJzg4mBMnTrBkyRK++eYbVqxYIZVRtTZmZ2fj6OjIkiVL0NHRKbO/Ntrz8OFDBg8ejImJCYcOHWLJkiV8+eWXhIWFPbN+KjePuEePHjg5ObFq1SppW4cOHRg4cCCffvppPdas+rKysrCwsGDr1q306dMHhUJBmzZtmDBhAoGBgQDk5ORga2vLwoULGTduHBcvXsTDw4P9+/fTqVMnABITE+nTpw8nT558KTIiZ2Zm4u3tTWhoKCEhITg6OrJ06dIG0b4FCxZw9OhRYmJiyimGWqQAABP8SURBVN3fENro6+tLs2bNWLt2rbRt0qRJPHjwgO3bt6t8G1u2bElISAijRo0Cau89W79+PfPnz+fSpUtSsF+6dCkbNmzgjz/+qHT9dJXqET958oTk5GS6d++utL179+4kJSXVU61qLisri8LCQgwMDAC4ceMGqampSu3T0dHB09NTat+JEyfQ09PDw8NDKtOpUyd0dXVfmmsQEBDAwIED8fb2VtreENr3008/4erqyrhx47CxsaFLly58/fXX0tfPhtDGTp06kZCQwKVLlwC4cOEC8fHx9OrVC2gYbSypttpz4sQJXnvtNaUed48ePbhz5w43btyotA4qtQxmeno6BQUFSl8DAYyNjbl792491armgoKCcHZ2xt3dHYDU1FSActt3584doGg5PkNDQ6VPV5lMhpGR0UtxDb777juuXr3KunXryuxrCO27fv0669ev5/333ycgIIAzZ84wc+ZMAPz8/BpEGwMCAsjKysLDwwN1dXWePn1KYGAg48ePBxrG+1hSbbXn7t27tGjRosw5ive1atWqwjqoVCAuVrqLr1AoVC5t0uzZszl+/Dj79+9HXV1dad+z2ldeW1+Ga5CSksKCBQvYt28fWlpaFZZT1fYBFBYW0r59e2kY7NVXX+Xq1auEh4fj5+cnlVPlNkZGRvLDDz8QHh5OmzZtOHPmDEFBQVhYWDB27FipnCq3sTy10Z7yzlHRsSWp1NCEoaEh6urqZT5R09LSynyavcxmzZrFrl27iI6OVvqUlMvlAJW2z8TEhLS0NKU7sQqFgvT09Hq/BidOnCA9PZ3XXnsNQ0NDDA0NOXr0KOHh4RgaGtK8eXNAddsHRe+Rvb290jY7Ozv+/PNPaT+odhvnzZvH5MmTGTp0KE5OTrz55pt88MEHfPHFF0DDaGNJtdUeExOTcs8BZXvbpalUINbS0sLFxYXY2Fil7bGxsUpjNy+zmTNnEhERQXR0NHZ2dkr7LC0tkcvlSu3Lzc0lMTFRap+7uztZWVmcOHFCKnPixAmys7Pr/Rr069ePY8eOER8fL/20b9+eoUOHEh8fj42NjUq3D4rGBS9fvqy07fLly1L2BlV/DwEeP35c5luauro6hYWFQMNoY0m11R53d3cSExPJzc2VysTGxvLKK69gaWlZaR3Ug4KC5tdim144fX19Fi9ejKmpKdra2ixdupRjx44RFhZG06ZN67t6lQoMDOSHH37g22+/xczMjOzsbLKzs4GiDxmZTEZBQQFffPEFNjY2FBQUMGfOHFJTU1m5ciWNGjXCyMiIU6dOERERQbt27bh9+zbTpk2jQ4cO9T79SVtbG2NjY6WfnTt3YmFhwahRo1S+fQBmZmYEBwejpqaGqakpR44cYdGiRUybNg1XV9cG0caLFy+yfft2bGxs0NTUJD4+noULFzJkyBB69Oihkm3MysriwoULpKamsnnzZhwdHWnSpAlPnjyhadOmtdIea2trNm7cyJkzZ7C1tSUxMZF58+YREBDwzA8flZu+BkUPdISGhpKamoqDgwOff/45nTt3ru9qPVPx7IjSZs6cyaxZs4CirztLlizh22+/JSMjA1dXV5YtW4ajo6NU/sGDB8ycOZN9+/YB0KdPH0JCQio8f33q16+fNH0NGkb7YmJiWLBgAZcvX8bMzIwJEyYwceJEaRxQ1dv46NEj/v3vf7N3717S0tKQy+UMHTqUjz/+GG1tbUD12hgfH8+AAQPKbB85ciRr1qyptfacO3eOwMBATp8+jYGBAePGjWPmzJnPHCNWyUAsCILQkKjUGLEgCEJDJAKxIAhCPROBWBAEoZ6JQCwIglDPRCAWBEGoZyIQC4Ig1DMRiP+hDAwMmDZtWn1Xo8quXbvGsGHDsLS0LHdh7+fl7+8vPer6T+Ts7Iy/v399V+MfSwTiF2Tr1q0YGBhgYmIirUNQ0tChQ3F2dq6HmqmmKVOmcPr0aYKCgli3bl2VHuDZtWsX/fv3x9LSElNTUzp27Mj8+fNfmkwYdW3//v0sXry4vqshlEME4hfsyZMnSpkNhOorKCggMTGRESNG4O/vj6+vb6VLChYWFuLn58d7771HXl4eM2bMIDg4GE9PT1avXk2XLl24cuVK3TXgJRETE0NwcHC5+06dOqWUbEGoWyIQv2DOzs5s2bKl3F5xQ6dQKJQWQKmp+/fvU1BQUOW1RL788kt27NjBpEmTOHDgAJMnT+btt98mNDSUvXv3kp6eztixY5VysL1McnJy6vw1GzVqhKamZp2/rlBEBOIX7KOPPgJ4Zq/4xo0bFY59lh6/Kx72SEhIYPbs2djY2GBhYcEHH3xAbm4u2dnZBAQEYGVlhYWFBYGBgRUGncjISDw8PJDL5Xh6epabAujhw4fMnTsXZ2dnTExMaNu2LfPnzycvL0+pXPG4848//oinpycmJibs2rWr0nYnJiYyYMAAWrZsiZmZGYMGDeLUqVPS/sWLF0tpdYKDgzEwMKh0rYKcnBxWrlyJlZUVCxcuLPOMv4eHB1OmTOHcuXPs2bOnzPE3b95kxIgRtGzZEltbW+bNm0d+fr5SmSNHjtCnTx8sLS1p2bIlbm5uTJ8+XanMkydPCAkJwc3NDRMTE+zs7Jg2bVqZYRFnZ2eGDh1KXFwcPXv2RC6Xs3LlSnx9fWnbtm25iSdL7/v555/x9fXFwcFBen8+/fRTpffH39+fjRs3AkjX0MDAQMocUd4Y8YMHD/joo4+wt7fHxMQEd3d3wsLCytSp+H0/ePAgXbt2RS6X06FDByIiIpTKPX36lKVLl+Lq6oqpqSlWVlb07t2bqKioMm38p1HJheFViZmZGW+99RZbtmzho48+wszMrNbOPWvWLIyMjJg5cybJycls3bqVxo0bc/36dXR0dJgzZw5xcXGEh4djZWXF+++/r3R8UlISu3fvZuLEiejp6fHdd98xatQooqKipDHYnJwc+vfvz40bN3jnnXdo3bo1Z86cISwsjEuXLrFt2zalcyYmJhIVFcWECROQy+Vllvos6ejRowwePJgWLVoQGBhIYWEhGzdupF+/fvz000+4ubkxYMAAjIyMmDFjBv379y934ZaSjh8/zoMHD/Dz86uwh/fWW28REhLCvn37GDx4sLS9sLCQYcOG4ezszPz580lISGDVqlVkZmYSGhoKFKUNGjFiBI6OjgQFBUnXu+QHmEKhYPTo0cTFxTFmzBicnJy4du0a33zzDcnJyRw4cECpblevXmXs2LGMHTuW0aNHY2ZmhpWVFTExMSQlJUk50qAoeemhQ4eYNGmS9CGzZcsW1NXV8fPzw8DAgKSkJL788ktu375NeHg4AOPGjeP27dvExcUpZU8xMjIq9xrl5eUxYMAAzp8/z7vvvoudnR0HDhxg7ty53L59u8xY88mTJ/npp58YN24cY8aMYdOmTfj5+eHs7Cyt37xkyRKWL1/OmDFjcHV1JTs7m99//51Tp04xcODASt/Xhk4E4jowffp0tm3bxooVK2p1vNjQ0JDIyEjpP+TNmzcJDw9n+PDhfP311wC89957eHh4sGXLljKB+I8//iAmJkZaom/UqFF06NCBzz77jAMHDgDw1VdfkZKSwuHDh5UWRHdwcCAwMJBjx47h6ekpbb948SJHjhyhXbt2z6z/nDlz0NXV5ZdffpECwsiRI3F3d2fu3Lns37+ftm3bYmxszIwZM3BycsLX17fSc164cAGAtm3bVlimVatWNGnShIsXLyptz8/Px9PTk5UrVwIwYcIEJk2axKZNm5g8eTK2trbExsaSl5dHREQEhoaG0rElE9dGRERw8OBBoqKi8PLykrZ37tyZESNGsGvXLt58801p+7Vr19i2bRt9+/aVtmVlZaGjo8OuXbuUAnF0dDT5+fkMHTpU2hYeHk7jxo2l38eNG4e1tTWff/45n332GS1btsTd3R1ra2vi4uKeeQ2hKOXV2bNnWbVqlZSVY/z48YwZM4a1a9cyfvx4rK2tpfIXLlzg6NGj0t/IoEGDaNu2LVu2bGHhwoVA0Rh17969xVh0OcTQRB0wNzeXesW1OVY8evRopa/ebm5uKBQKxowZo1TO1dWVa9eulTm+ffv2SuukNm/enOHDh3PixAnpK/Tu3bvx8PDAyMiI9PR06edf//oXAHFxcUrn9PDwqFIQTk1NJTk5mZEjRyr1ylq0aMGwYcNISkqq0eyGrKwsAJo0aVJpOT09PaVU6cVKr5U7ceJEFAoFBw8eBIrWw4aiJKLFC6WXtnv3bmxsbHByclK6Zq6urujp6ZW5Zi1btlQKwsX16927N9HR0UqvExkZiZWVFS4uLtK24iBcWFhIZmYm6enpeHp6olAo+O233yq9DhWJiYnB0NBQynQMRel+PvzwQxQKhfRBXaxr165KH9QmJibY2tpy/fp1aZu+vj7nz58vs7C+IAJxnSkeQ6zNHnHpYY7i4FPe9pycnDJjuiV7NKW33bp1C4ArV65w+PBhrK2tlX7c3NyA/6WCKVbZbIaSbt68CVDu0IW9vT0KhUKqQ3Xo6ekBRePalcnKypLKFpPJZFhZWSltK309hg4dioeHBx9++CE2Nja888477NixQ2kc+cqVK6SkpJS5ZtbW1mRlZZW5ZhVlbxgyZAipqanEx8cDcO/ePeLj4xkyZIhSufPnzzN8+HBatmyJpaUl1tbW9OvXD4DMzMxKr0NFbt68ibW1dZlMHcXBtvj9K1acoaQkAwMDHjx4IP0+a9YsMjMzcXNzo1OnTsyePZvTp0/XqH4NjRiaqCMle8XFN/BKqmzh6Ip6XqX/kxRTUyv/87X0TZaKkiGWfm0vL69y6wyUyVpbMpV4TZV3g6qqigPF2bNnKxxPvnHjBg8fPqRNmzbVPr+Ojg779u0jISGBX375hf/7v//Dz8+PsLAwYmJi0NHRobCwkDZt2rBkyZJyz1Gcu6/kOcvj4+NDkyZNiIyMxNvbmx9//JGCggKlYYnMzEwGDBiAjo4On3zyCa1bt0ZHR4e//vqL999/v8K/ndpW0d9iyfeya9eu/Pbbb+zbt4/Y2Fh++OEH1qxZwyeffFLh39c/hQjEdajkWHFpzZo1A8r2YPLy8vj7779fSH3K+4p49epV4H89nNatW5OVlSUNRdQWCwsLAC5dulRmX0pKCjKZrNxe1rN06tSJpk2bEhERwYwZM9DQKPsn/v333wNFGRZKUigUXL16FQcHB2lb8XzjknVRU1PDy8sLLy8vFixYwPr165k+fTp79uxhxIgRtG7dmuTkZLy8vCr8UKwKbW1t+vTpw549e1i2bBmRkZE4Ojoq1S8+Pp60tDT27t1Lly5dpO2l8zrCszMJl2RhYcFvv/1GQUGBUpAtfr+K37/qMjAwYOTIkYwcOZKcnByGDRtGcHAwU6dOrTCY/xOIoYk6VLJXfPv2baV9+vr6GBkZSV9Di23YsIGCgoIXUp9ff/1VKRni/fv32blzJx07dpSmiA0ZMoTTp0/z888/lzk+JydHGpOtLrlcjouLCz/88APp6enS9jt37rBz5048PDxqlFKncePGTJ06lStXrijdQCtW/OCCk5NTuT3mkjMKSv7es2dPoOgalfbqq68CSGPaQ4YM4e7du9IN05KePn1arbHvYcOGcf/+fbZt28bx48fLDEsUB6+SPc/CwkJWr15d5lzFY8lVeX0fHx/S0tKkD63i1/jyyy+RyWT07t27ym0oVvra6ejoYG9vT15eHo8fP672+RoS0SOuY8W94gsXLpTp8b3zzjssW7aM999/n44dO/Lrr79y5MgRpbvztcnR0RFfX1/8/Pyk6WuPHj1i3rx5UpkpU6Zw4MABxowZw4gRI3B1dSUvL4/Lly+ze/duKXDXxL///W8GDRpEz549efvtt1EoFKxfv578/HzpTntNTJ06lXPnzrF69WpOnTrFG2+8gb6+PqdPn2bbtm2YmJiwadOmMr1lTU1Njh07xvjx4+nUqRPx8fFERUUxevRoaSw7JCSEhIQEfHx8sLCwICMjgw0bNqCrq8vrr78OwIgRI9izZw9BQUEcPXqUzp07I5PJuHr1KtHR0SxatEhpeKEy3bp1o3nz5sydOxeFQlHmuE6dOtG8eXP8/f2ZOHEiGhoaREdHl/sB2b59ewBmzJhBz5490dDQ4PXXX0dXV7dM2bFjx7Jp0yYCAgI4c+YMNjY2HDx4kAMHDjBp0qRy7y88i7u7O56ennTo0IHmzZtz9uxZNm3ahI+Pj3QT9J9KBOI6Zm5uzqhRo6TJ9SUFBgZy//59IiMj+fHHH+nSpQtRUVHPnDtbUx4eHnTt2pUlS5Zw/fp1rK2t2bJlC127dpXK6OjoEB0dTWhoKJGRkezatQtdXV1atWqFv7+/9LBFTXTu3JmoqCg+//xzQkJCkMlkuLm5sXHjxhoHdyjqJYaHh/P666/z7bffEhwcTF5eHubm5vj7+xMQECANBZWkpqZGREQEgYGBfPrpp2hrazN58mSlD6a+ffvy559/8v3335OWlkbz5s3p2LEjH3/8sfR1XU1NjU2bNrFu3Tq2bdvGwYMH0dLSwtzcnBEjRvDaa69VuS0aGhoMHDiQjRs30r59e1q3bq20v1mzZuzYsYO5c+eyePFidHV1eeONN3j33XfLrMcxaNAgTpw4we7du4mIiJBmVZQXiLW1tYmOjmbhwoXs3r2bBw8eYGlpycKFC5k8eXKV61+Sv78/+/btIy4ujtzcXFq2bElAQAABAQE1Ol9DIpKHCoIg1DMxRiwIglDPRCAWBEGoZyIQC4Ig1DMRiAVBEOqZCMSCIAj1TARiQRCEeiYCsSAIQj0TgVgQBKGeiUAsCIJQz0QgFgRBqGf/D2LdYNju7+bpAAAAAElFTkSuQmCC\n",
      "text/plain": [
       "<Figure size 432x288 with 2 Axes>"
      ]
     },
     "metadata": {},
     "output_type": "display_data"
    }
   ],
   "source": [
    "fig = plt.figure()\n",
    "ax = fig.add_subplot(2, 1, 1)\n",
    "fig = TTestIndPower().plot_power(dep_var='nobs',\n",
    "                                 nobs=np.arange(2, 1000),\n",
    "                                 effect_size= np.array([0.2, 0.36185016033939754, 0.5]),\n",
    "                                 alpha=0.01,\n",
    "                                 ax=ax, title='Power of t-Test' + '\\n' + r'$\\alpha = 0.01$')\n",
    "plt.subplots_adjust(bottom=0.2, right=0.8, top=2.0)\n",
    "ax.get_legend().remove()\n",
    "ax = fig.add_subplot(2, 1, 2)\n",
    "fig = TTestIndPower().plot_power(dep_var='nobs',\n",
    "                                 nobs=np.arange(2, 1000),\n",
    "                                 effect_size= np.array([0.2, 0.36185016033939754, 0.5]),\n",
    "                                 alpha=0.05,\n",
    "                                 ax=ax, title=r'$\\alpha = 0.05$')"
=======
    "Based on our calculations, we get a t-score of **45.927** and a p-value of **0.000**. Our p-value is less than our alpha of **0.05** which means we can **reject our null hypothesis** and support the alternative."
>>>>>>> b913abb076bb7b1db57ec361eecd60722a285e18
   ]
  },
  {
   "cell_type": "markdown",
   "metadata": {},
   "source": [
<<<<<<< HEAD
    "## Question 2: Gender and Blood Pressure\n",
    "> Given high blood pressure, do the proportion of males equal to the proportin of females with cardiovascular disease?"
   ]
  },
  {
   "cell_type": "markdown",
   "metadata": {},
   "source": [
    "### Hypothesis\n",
    "\n",
    "$H_0$: Males with high blood pressure are equally likely to be diagnosed with cardiovascular disease as women.\n",
    "\n",
    "> $H_0: p_m = p_w$\n",
    "\n",
    "$H_1$: There is a difference in proportion between males with high blood pressure and cardiovascular disease and the proportion of females with high blood pressure and cardiovascular disease.\n",
    "\n",
    "> $H_1:  p_m \\neq p_w$\n",
    "\n",
    "I set my significance level: \n",
    "\n",
    "> **$\\alpha$ = 0.05**\n",
    "\n",
    "Since I specify the direction of the difference, it's a **two tail z-test**."
   ]
  },
  {
   "cell_type": "code",
   "execution_count": null,
   "metadata": {},
   "outputs": [],
   "source": [
    "# creating a new dataframe that only has males with high blood pressure and cardiovascular disease\n",
    "df_males = df[(df.gender == 2) & (df.blood_pressure == 1) & (df.cardio == 1)]\n",
    "df_males.shape"
   ]
  },
  {
   "cell_type": "code",
   "execution_count": null,
   "metadata": {},
   "outputs": [],
   "source": [
    "# creating a new dataframe that only has females with high blood pressure and cardiovascular disease\n",
    "df_females = df[(df.gender == 1) & (df.blood_pressure == 1) & (df.cardio == 1)]\n",
    "df_females.shape"
   ]
  },
  {
   "cell_type": "code",
   "execution_count": null,
   "metadata": {},
   "outputs": [],
   "source": [
    "# counting the total population based on gender\n",
    "# 1 = female, 2 = male\n",
    "df.gender.value_counts()"
   ]
  },
  {
   "cell_type": "code",
   "execution_count": null,
   "metadata": {},
   "outputs": [],
   "source": [
    "# create a function for the two proportions z-test\n",
    "\n",
    "def two_z_test (p1, p2, p, n1, n2):\n",
    "    return (((p1-p2)-0) / (math.sqrt(p*(1-p)*((1/n1)+(1/n2)))))\n",
=======
    "### 1.4 Effect Size\n",
    "As an effect size, Cohen's d is typically used to represent the magnitude of differences between two (or more) groups on a given variable, with larger values representing a greater differentiation between the two groups on that variable.\n",
>>>>>>> b913abb076bb7b1db57ec361eecd60722a285e18
    "\n",
    "Cohen provides the following descriptive interpretations of d as a rule of thumb:\n",
    "* h = 0.20: \"small effect size\"\n",
    "* h = 0.50: \"medium effect size\"\n",
    "* h = 0.80: \"large effect size\""
   ]
  },
  {
   "cell_type": "code",
   "execution_count": 29,
   "metadata": {},
   "outputs": [],
   "source": [
    "# create a function that calculates Cohen's D value\n",
    "def Cohen_d(group1, group2):\n",
    "\n",
    "    diff = group1.mean() - group2.mean()\n",
    "\n",
    "    n1, n2 = len(group1), len(group2)\n",
    "    var1 = group1.var()\n",
    "    var2 = group2.var()\n",
    "    \n",
    "    # Calculate the pooled threshold as shown earlier\n",
    "    pooled_var = (n1 * var1 + n2 * var2) / (n1 + n2)\n",
    "    \n",
    "    # Calculate Cohen's d statistic\n",
    "    d = diff / np.sqrt(pooled_var)\n",
    "    \n",
    "    return d"
   ]
  },
  {
   "cell_type": "code",
<<<<<<< HEAD
   "execution_count": null,
   "metadata": {},
   "outputs": [],
=======
   "execution_count": 30,
   "metadata": {},
   "outputs": [
    {
     "data": {
      "text/plain": [
       "0.36185016033939754"
      ]
     },
     "execution_count": 30,
     "metadata": {},
     "output_type": "execute_result"
    }
   ],
>>>>>>> b913abb076bb7b1db57ec361eecd60722a285e18
   "source": [
    "# calculate effect size using the Cohen's D function\n",
    "n = len(df_cardio)\n",
    "effect_size = Cohen_d(df_cardio['BMI'], df_ncardio['BMI'])\n",
    "effect_size"
   ]
  },
  {
   "cell_type": "markdown",
   "metadata": {},
   "source": [
    "### 1.5 Power Analysis"
   ]
  },
  {
   "cell_type": "code",
   "execution_count": 31,
   "metadata": {},
   "outputs": [
    {
     "data": {
      "text/plain": [
       "1.0"
      ]
     },
     "execution_count": 31,
     "metadata": {},
     "output_type": "execute_result"
    }
   ],
   "source": [
    "# calculate power value\n",
    "statsmodels.stats.power.tt_ind_solve_power(effect_size = effect_size, nobs1 = 32412, alpha = .05, power = None, ratio = (32030/32412))"
   ]
  },
  {
   "cell_type": "code",
   "execution_count": 32,
   "metadata": {},
   "outputs": [
    {
     "data": {
      "image/png": "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\n",
      "text/plain": [
       "<Figure size 792x576 with 1 Axes>"
      ]
     },
     "metadata": {
      "needs_background": "light"
     },
     "output_type": "display_data"
    }
   ],
   "source": [
    "fig = plt.figure()\n",
    "ax = fig.add_subplot(2, 1, 1)\n",
    "fig = TTestIndPower().plot_power(dep_var='nobs',\n",
    "                                 nobs=np.arange(2, 1000),\n",
    "                                 effect_size= np.array([0.2, 0.36185016033939754, 0.5]),\n",
    "                                 alpha=0.05,\n",
    "                                 ax=ax, title='Power of t-Test' + '\\n' + r'$\\alpha = 0.05$')\n",
    "plt.subplots_adjust(bottom=0.2, right=0.8, top=2.0)\n",
    "# ax.get_legend().remove()\n",
    "# ax = fig.add_subplot(2, 1, 2)\n",
    "# fig = TTestIndPower().plot_power(dep_var='nobs',\n",
    "#                                  nobs=np.arange(2, 1000),\n",
    "#                                  effect_size= np.array([0.2, 0.36185016033939754, 0.5]),\n",
    "#                                  alpha=0.01,\n",
    "#                                  ax=ax, title=r'$\\alpha = 0.01$')"
   ]
  },
  {
   "cell_type": "markdown",
   "metadata": {},
   "source": [
    "### 1.6 Conclusion\n",
    "\n",
    "**A one tail t-test with $\\alpha$ = 0.05 was used to analyze if people with cardiovasular disease have a higher BMI than people without cardiovascular disease:**\n",
    "\n",
    "* BMI was calculated using the patient's height and weight. Groups were divided by people with the disease and people without.\n",
    "\n",
    "* The mean BMI of the people who have Cardiovascular disease is 28.561.\n",
    "\n",
    "* The mean BMI of the people who don’t have Cardiovascular disease is 26.814.\n",
    "\n",
    "* There was a **statistically significant difference** between both groups' expenditures with t= \n",
    "45.927 and p = 0.000.\n",
    "\n",
    "* I can therefore reject the null hypothesis in support of the alternative: People with cardiovasular disease have higher BMI than the people without the disease.\n",
    "\n",
    "* Moreover, the calculated effect size is extremely high, pointing to a **large practical significance**.\n",
    "\n",
    "* My $\\alpha$ = 0.05 is effectively the probability that I might mistakenly reject the null hypothesis when it is actually true. This is called a \"Type 1 Error\". <br> With a significance level set to 5%, I am saying that only a small probability of a Type 1 error occurring is acceptable. The opposite is a \"Type 2 Error\" where I may mistakenly support the null hypothesis when the alternative is actually true."
   ]
  },
  {
   "cell_type": "markdown",
   "metadata": {},
   "source": [
    "## 2. Question: Gender and Blood Pressure\n",
    "> Given high blood pressure, do the proportion of males equal to the proportion of females with cardiovascular disease?"
   ]
  },
  {
   "cell_type": "markdown",
   "metadata": {},
   "source": [
    "### 2.1 Hypothesis\n",
    "\n",
    "$H_0$: Males with high blood pressure are equally likely to be diagnosed with cardiovascular disease as women.\n",
    "\n",
    "> $H_0: p_m = p_w$\n",
    "\n",
    "$H_1$: There is a difference in proportion between males with high blood pressure and cardiovascular disease and the proportion of females with high blood pressure and cardiovascular disease.\n",
    "> $H_0: p_m = p_w$\n",
    "\n",
    "> $H_1:  p_m \\neq p_w$\n",
    "\n",
    "I set my significance level: \n",
    "\n",
    "> **$\\alpha$ = 0.05**\n",
    "\n",
    "Since I specify the direction of the difference, it's a **two proportion z-test**."
   ]
  },
  {
   "cell_type": "markdown",
   "metadata": {},
   "source": [
    "### 2.2 Statistical Analysis"
   ]
  },
  {
   "cell_type": "code",
   "execution_count": 33,
   "metadata": {},
   "outputs": [
    {
     "data": {
      "text/plain": [
       "(10789, 16)"
      ]
     },
     "execution_count": 33,
     "metadata": {},
     "output_type": "execute_result"
    }
   ],
   "source": [
    "# creating a new dataframe that only has males with high blood pressure and cardiovascular disease\n",
    "df_males = df[(df.gender == 2) & (df.blood_pressure == 1) & (df.cardio == 1)]\n",
    "df_males.shape"
   ]
  },
  {
   "cell_type": "code",
   "execution_count": 34,
   "metadata": {},
   "outputs": [
    {
     "data": {
      "text/plain": [
       "(18759, 16)"
      ]
     },
     "execution_count": 34,
     "metadata": {},
     "output_type": "execute_result"
    }
   ],
   "source": [
    "# creating a new dataframe that only has females with high blood pressure and cardiovascular disease\n",
    "df_females = df[(df.gender == 1) & (df.blood_pressure == 1) & (df.cardio == 1)]\n",
    "df_females.shape"
   ]
  },
  {
   "cell_type": "code",
   "execution_count": 35,
   "metadata": {},
   "outputs": [
    {
     "data": {
      "text/plain": [
       "1    41214\n",
       "2    23228\n",
       "Name: gender, dtype: int64"
      ]
     },
     "execution_count": 35,
     "metadata": {},
     "output_type": "execute_result"
    }
   ],
   "source": [
    "# counting the total population based on gender\n",
    "# 1 = female, 2 = male\n",
    "df.gender.value_counts()"
   ]
  },
  {
   "cell_type": "code",
   "execution_count": 36,
   "metadata": {},
   "outputs": [
    {
     "data": {
      "image/png": "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\n",
      "text/plain": [
       "<Figure size 792x576 with 1 Axes>"
      ]
     },
     "metadata": {
      "needs_background": "light"
     },
     "output_type": "display_data"
    }
   ],
   "source": [
    "# visualize relationship between cardio with gender\n",
    "sns.countplot(x='cardio',data=df,hue='gender',palette='rainbow');"
   ]
  },
  {
   "cell_type": "code",
   "execution_count": 37,
   "metadata": {},
   "outputs": [
    {
     "data": {
      "image/png": "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\n",
      "text/plain": [
       "<Figure size 792x576 with 1 Axes>"
      ]
     },
     "metadata": {
      "needs_background": "light"
     },
     "output_type": "display_data"
    }
   ],
   "source": [
    "# visualize relationship between cardio with gender\n",
    "sns.countplot(x='cardio',data=df,hue='blood_pressure',palette='RdBu');"
   ]
  },
  {
   "cell_type": "markdown",
   "metadata": {},
   "source": [
    "### 2.3 Test Statistic"
   ]
  },
  {
   "cell_type": "code",
   "execution_count": 38,
   "metadata": {},
   "outputs": [
    {
     "data": {
      "text/plain": [
       "4.203606592372722"
      ]
     },
     "execution_count": 38,
     "metadata": {},
     "output_type": "execute_result"
    }
   ],
   "source": [
    "# create a function for the two proportions z-test\n",
    "\n",
    "def two_z_test (p1, p2, p, n1, n2):\n",
    "    return (((p1-p2)-0) / (math.sqrt(p*(1-p)*((1/n1)+(1/n2)))))\n",
    "\n",
    "# assign variables\n",
    "\n",
    "p1 = 7470/23228 # male proportion\n",
    "p2 = 12596/41214 # female proportion\n",
    "p = (7470+12596) / (23228+41214) # total combined proportion\n",
    "n1 = 23228 # total male population\n",
    "n2 = 41214 # total female population\n",
    "\n",
    "z = two_z_test (p1, p2, p, n1, n2)\n",
    "z"
   ]
  },
  {
   "cell_type": "code",
   "execution_count": 39,
   "metadata": {},
   "outputs": [
    {
     "name": "stdout",
     "output_type": "stream",
     "text": [
      "0.3215946271741002 0.30562430242150723\n"
     ]
    }
   ],
   "source": [
    "print(p1, p2)"
   ]
  },
  {
   "cell_type": "code",
   "execution_count": 40,
   "metadata": {},
   "outputs": [
    {
     "data": {
      "text/plain": [
       "2.6269535658318688e-05"
      ]
     },
     "execution_count": 40,
     "metadata": {},
     "output_type": "execute_result"
    }
   ],
   "source": [
    "# calculate p-value\n",
    "\n",
    "p_val = 1 - stats.norm.cdf(z)\n",
    "p_val*2"
   ]
  },
  {
   "cell_type": "markdown",
   "metadata": {},
   "source": [
    "Based on our calculations, we get a z-score of **4.203** and a p-value of approximately **0.000026**. Our p-value is less than our alpha of **0.05** which means we can **reject our null hypothesis** and support the alternative."
   ]
  },
  {
   "cell_type": "markdown",
   "metadata": {},
   "source": [
    "### 2.4 Effect Size\n",
    "\n",
    "For proportional z-tests, we use the Cohen's h formula to measure effect size. To calculate Cohen's h, the function below will take in the two samples we are comparing. By calculating the difference of two proportions.\n",
    "\n",
    "Cohen provides the following descriptive interpretations of h as a rule of thumb:\n",
    "* h = 0.20: \"small effect size\"\n",
    "* h = 0.50: \"medium effect size\"\n",
    "* h = 0.80: \"large effect size\""
   ]
  },
  {
   "cell_type": "code",
   "execution_count": 41,
   "metadata": {
    "scrolled": true
   },
   "outputs": [
    {
     "data": {
      "text/plain": [
       "0.03442431862626405"
      ]
     },
     "execution_count": 41,
     "metadata": {},
     "output_type": "execute_result"
    }
   ],
   "source": [
    "# create a function for Cohen's h formula\n",
    "\n",
    "def cohensh (p1,p2):\n",
    "    phi1 = 2*np.arcsin(np.sqrt(p1))\n",
    "    phi2 = 2*np.arcsin(np.sqrt(p2))\n",
    "    h = np.absolute(phi1-phi2)\n",
    "    return h\n",
    "\n",
    "cohensh (p1, p2)"
   ]
  },
  {
   "cell_type": "markdown",
   "metadata": {},
   "source": [
    "### 2.5 Power Analysis"
   ]
  },
  {
   "cell_type": "code",
   "execution_count": 42,
   "metadata": {},
   "outputs": [
    {
     "data": {
      "text/plain": [
       "0.6544414890477017"
      ]
     },
     "execution_count": 42,
     "metadata": {},
     "output_type": "execute_result"
    }
   ],
   "source": [
    "# calculate the power value\n",
    "statsmodels.stats.power.zt_ind_solve_power(effect_size = cohensh (p1, p2), nobs1 = 7470, alpha = .05, power = None, ratio = (12596/7470))"
   ]
  },
  {
   "cell_type": "code",
   "execution_count": 43,
   "metadata": {},
   "outputs": [
    {
     "data": {
      "image/png": "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\n",
      "text/plain": [
       "<Figure size 792x576 with 1 Axes>"
      ]
     },
     "metadata": {
      "needs_background": "light"
     },
     "output_type": "display_data"
    }
   ],
   "source": [
    "fig = plt.figure()\n",
    "ax = fig.add_subplot(2, 1, 1)\n",
    "fig = TTestIndPower().plot_power(dep_var='nobs',\n",
    "                                 nobs=np.arange(2, 40000),\n",
    "                                 effect_size= np.array([0.03442431862626405, 0.2, .3]),\n",
    "                                 alpha=0.05,\n",
    "                                 ax=ax, title='Power of t-Test' + '\\n' + r'$\\alpha = 0.05$')\n",
    "plt.subplots_adjust(bottom=0.2, right=0.8, top=2.0)\n",
    "# ax.get_legend().remove()\n",
    "# ax = fig.add_subplot(2, 1, 2)\n",
    "# fig = TTestIndPower().plot_power(dep_var='nobs',\n",
    "#                                  nobs=np.arange(2, 40000),\n",
    "#                                  effect_size= np.array([0.03442431862626405, 0.2, 0.3]),\n",
    "#                                  alpha=0.01,\n",
    "#                                  ax=ax, title=r'$\\alpha = 0.01$')"
   ]
  },
  {
   "cell_type": "markdown",
   "metadata": {},
   "source": [
    "### 2.6 Conclusion\n",
    "\n",
    "**A two proportion z-test with $\\alpha$ = 0.05 was used to analyze whether the proportion of males with high blood pressure and cardiovascular disease are equal to the proportion of females with high blood pressure and cardiovascular disease:**\n",
    "\n",
    "* Patients who have a systolic blood pressure levels less than 130 AND diastolic blood pressure levels less than 80 were classified as not having high blood pressure.\n",
    "\n",
    "* Patients who have either a systolic blood pressure levels greater than or equal to 130 OR diastolic blood pressure levels greater than or equal to 80 were classified as having high blood pressure.\n",
    "\n",
    "* There was a **statistically significant difference** between both groups' expenditures with t= \n",
    "4.2036 and p = 0.000026.\n",
    "\n",
    "* I can therefore reject the null hypothesis in support of the alternative: There is a difference in proportion between males with high blood pressure and cardiovascular disease and the proportion of females with high blood pressure and cardiovascular disease.\n",
    "\n",
    "* Moreover, the calculated effect size is extremely low, pointing to a **small practical significance**.\n",
    "\n",
    "* My $\\alpha$ = 0.05 is effectively the probability that I might mistakenly reject the null hypothesis when it is actually true. This is called a \"Type 1 Error\". <br> With a significance level set to 5%, I am saying that only a small probability of a Type 1 error occurring is acceptable. The opposite is a \"Type 2 Error\" where I may mistakenly support the null hypothesis when the alternative is actually true."
   ]
  },
  {
   "cell_type": "markdown",
   "metadata": {},
   "source": [
    "## 3. Question: Cholesterol\n",
    "\n",
    "> Does the proportion of people with high cholesterol levels equal to the proportion of people who have normal cholesterol levels with the disease?"
   ]
  },
  {
   "cell_type": "markdown",
   "metadata": {},
   "source": [
    "### 3.1 Hypothesis\n",
    "\n",
    "$H_0$: People with high levels of cholesterol are equally likely to be diagnosed with cardiovascular disease as people with normal levels of cholesterol.\n",
    "\n",
    "> $H_0: p_h = p_n$\n",
    "\n",
    "$H_1$: People with high levels of cholesterol are more likely to be diagnosed with cardiovascular disease as people with normal levels of cholesterol.\n",
    "\n",
    "> $H_1:  p_h > p_n$\n",
    "\n",
    "I set my significance level: \n",
    "\n",
    "> **$\\alpha$ = 0.05**\n",
    "\n",
    "Since I specify the direction of the difference, it's a **one-tailed t-test**."
   ]
  },
  {
   "cell_type": "markdown",
   "metadata": {},
   "source": [
    "### 3.2 Statistical Analysis"
   ]
  },
  {
   "cell_type": "code",
   "execution_count": 44,
   "metadata": {},
   "outputs": [
    {
     "data": {
      "text/plain": [
       "(21419, 16)"
      ]
     },
     "execution_count": 44,
     "metadata": {},
     "output_type": "execute_result"
    }
   ],
   "source": [
    "# creating a new dataframe that only has people with normal cholesterol levels and cardiovascular disease\n",
    "df_norm_chol = df[(df.cholesterol == 1) & (df.cardio == 1)]\n",
    "df_norm_chol.shape"
   ]
  },
  {
   "cell_type": "code",
   "execution_count": 45,
   "metadata": {},
   "outputs": [
    {
     "data": {
      "text/plain": [
       "(10993, 16)"
      ]
     },
     "execution_count": 45,
     "metadata": {},
     "output_type": "execute_result"
    }
   ],
   "source": [
    "# creating a new dataframe that only has people with high cholesterol levels and cardiovascular disease\n",
    "df_hi_chol = df[((df.cholesterol == 2) | (df.cholesterol == 3)) & (df.cardio == 1)]\n",
    "df_hi_chol.shape"
   ]
  },
  {
   "cell_type": "code",
   "execution_count": 46,
   "metadata": {},
   "outputs": [
    {
     "data": {
      "text/plain": [
       "1    48257\n",
       "2     8700\n",
       "3     7485\n",
       "Name: cholesterol, dtype: int64"
      ]
     },
     "execution_count": 46,
     "metadata": {},
     "output_type": "execute_result"
    }
   ],
   "source": [
    "# counting the total population \n",
    "df.cholesterol.value_counts()"
   ]
  },
  {
   "cell_type": "code",
   "execution_count": 47,
   "metadata": {},
   "outputs": [
    {
     "data": {
      "image/png": "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\n",
      "text/plain": [
       "<Figure size 792x576 with 1 Axes>"
      ]
     },
     "metadata": {
      "needs_background": "light"
     },
     "output_type": "display_data"
    }
   ],
   "source": [
    "# shows categorical variables and their respective distribution\n",
    "df_categorical = df.loc[:,['cholesterol']]\n",
    "sns.countplot(x=\"variable\", hue=\"value\",data= pd.melt(df_categorical));"
   ]
  },
  {
   "cell_type": "code",
   "execution_count": 48,
   "metadata": {},
   "outputs": [
    {
     "data": {
      "image/png": "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\n",
      "text/plain": [
       "<Figure size 792x576 with 1 Axes>"
      ]
     },
     "metadata": {
      "needs_background": "light"
     },
     "output_type": "display_data"
    }
   ],
   "source": [
    "# visualize relationship between cardio with gender\n",
    "sns.countplot(x='cardio',data=df,hue='cholesterol',palette='rainbow');"
   ]
  },
  {
   "cell_type": "markdown",
   "metadata": {},
   "source": [
    "### 3.3 Test Statistic"
   ]
  },
  {
   "cell_type": "code",
   "execution_count": 49,
   "metadata": {},
   "outputs": [
    {
     "data": {
      "text/plain": [
       "51.82218458219327"
      ]
     },
     "execution_count": 49,
     "metadata": {},
     "output_type": "execute_result"
    }
   ],
   "source": [
    "# create a function for the two proportions z-test\n",
    "\n",
    "def two_z_test (p1, p2, p, n1, n2):\n",
    "    return (((p1-p2)-0) / (math.sqrt(p*(1-p)*((1/n1)+(1/n2)))))\n",
    "\n",
    "# assign variables\n",
    "p1_ = 10993/16185 # high cholesterol proportion\n",
    "p2_ = 21419/48257 # normal cholesterol proportion\n",
    "p_ = (21419+10993) / (64442) # total combine proportion\n",
    "n1_ = 16185 #total population\n",
    "n2_ = 48257 # total population\n",
    "\n",
    "z = two_z_test (p1_, p2_, p_, n1_, n2_)\n",
    "z"
   ]
  },
  {
   "cell_type": "code",
   "execution_count": 50,
   "metadata": {},
   "outputs": [
    {
     "data": {
      "text/plain": [
       "0.0"
      ]
     },
     "execution_count": 50,
     "metadata": {},
     "output_type": "execute_result"
    }
   ],
   "source": [
    "# calculate p-value\n",
    "\n",
    "p_val_ = 1 - stats.norm.cdf(z)\n",
    "p_val_"
   ]
  },
  {
   "cell_type": "markdown",
   "metadata": {},
   "source": [
    "Based on our calculations, we get a z-score of **51.822** and a p-value of approximately **0.000**. Our p-value is less than our alpha of **0.05** which means we can **reject our null hypothesis** and support the alternative."
   ]
  },
  {
   "cell_type": "markdown",
   "metadata": {},
   "source": [
    "### 3.4 Effect Size\n",
    "\n",
    "For proportional z-tests, we use the Cohen's h formula to measure effect size. To calculate Cohen's h, the function below will take in the two samples we are comparing. By calculating the difference of two proportions.\n",
    "\n",
    "Cohen provides the following descriptive interpretations of h as a rule of thumb:\n",
    "* h = 0.20: \"small effect size\"\n",
    "* h = 0.50: \"medium effect size\"\n",
    "* h = 0.80: \"large effect size\""
   ]
  },
  {
   "cell_type": "code",
   "execution_count": 51,
   "metadata": {},
   "outputs": [
    {
     "data": {
      "text/plain": [
       "0.4791050097892193"
      ]
     },
     "execution_count": 51,
     "metadata": {},
     "output_type": "execute_result"
    }
   ],
   "source": [
    "# create a function for Cohen's h formula\n",
    "\n",
    "def cohensh (p1,p2):\n",
    "    phi1 = 2*np.arcsin(np.sqrt(p1))\n",
    "    phi2 = 2*np.arcsin(np.sqrt(p2))\n",
    "    h = np.absolute(phi1-phi2)\n",
    "    return h\n",
    "\n",
    "cohensh (p1_, p2_)"
   ]
  },
  {
   "cell_type": "markdown",
   "metadata": {},
   "source": [
    "### 3.5 Power Analysis"
   ]
  },
  {
   "cell_type": "code",
   "execution_count": 52,
   "metadata": {},
   "outputs": [
    {
     "data": {
      "text/plain": [
       "1.0"
      ]
     },
     "execution_count": 52,
     "metadata": {},
     "output_type": "execute_result"
    }
   ],
   "source": [
    "# \n",
    "statsmodels.stats.power.zt_ind_solve_power(effect_size = cohensh (p1_, p2_), nobs1 = 10993, alpha = .05, power = None, ratio = (21419/10993))"
   ]
  },
  {
   "cell_type": "code",
   "execution_count": 53,
   "metadata": {},
   "outputs": [
    {
     "data": {
      "image/png": "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\n",
      "text/plain": [
       "<Figure size 792x576 with 1 Axes>"
      ]
     },
     "metadata": {
      "needs_background": "light"
     },
     "output_type": "display_data"
    }
   ],
   "source": [
    "fig = plt.figure()\n",
    "ax = fig.add_subplot(2, 1, 1)\n",
    "fig = TTestIndPower().plot_power(dep_var='nobs',\n",
    "                                 nobs=np.arange(2, 200),\n",
    "                                 effect_size= np.array([0.4791050097892193, 0.5, 0.8]),\n",
    "                                 alpha=0.05,\n",
    "                                 ax=ax, title='Power of t-Test' + '\\n' + r'$\\alpha = 0.05$')\n",
    "plt.subplots_adjust(bottom=0.2, right=0.8, top=2.0)\n",
    "# ax.get_legend().remove()\n",
    "# ax = fig.add_subplot(2, 1, 2)\n",
    "# fig = TTestIndPower().plot_power(dep_var='nobs',\n",
    "#                                  nobs=np.arange(2, 200),\n",
    "#                                  effect_size= np.array([0.2, 0.4791050097892193, 0.5, 0.8]),\n",
    "#                                  alpha=0.01,\n",
    "#                                  ax=ax, title=r'$\\alpha = 0.01$')"
   ]
  },
  {
   "cell_type": "markdown",
   "metadata": {},
   "source": [
    "### 3.6 Conclusion\n",
    "\n",
    "**A two proportion z-test with $\\alpha$ = 0.05 was used to analyze whether the proportion of people with high cholesterol levels equal to the proportion of people who have normal cholesterol levels with the disease?**\n",
    "\n",
    "* Patients who have a normal cholesterol levels are categorized with the value 1.\n",
    "\n",
    "* Patients who have a high cholesterol levels are categorized with the value 2 or 3.\n",
    "\n",
    "* There was a **statistically significant difference** between both groups' expenditures with t= \n",
    "51.822 and p = 0.0000.\n",
    "\n",
    "* I can therefore confidently reject the null hypothesis in support of the alternative: People with high levels of cholesterol are more likely to be diagnosed with cardiovascular disease as people with normal levels of cholesterol.\n",
    "\n",
    "* Moreover, the calculated effect size is moderate, pointing to a **medium practical significance**.\n",
    "\n",
    "* My $\\alpha$ = 0.05 is effectively the probability that I might mistakenly reject the null hypothesis when it is actually true. This is called a \"Type 1 Error\". <br> With a significance level set to 5%, I am saying that only a small probability of a Type 1 error occurring is acceptable. The opposite is a \"Type 2 Error\" where I may mistakenly support the null hypothesis when the alternative is actually true."
   ]
  },
  {
   "cell_type": "markdown",
   "metadata": {},
   "source": [
    "## Final Conclusion\n",
    "\n",
    "* BMI and cholesterol are positively related with cardiovascular disease. We would suggest to an audience of patients and/or caregivers of patients to help the patient decrease both BMI and cholesterol values. This may be achieved through partaking in a healthy lifestyle. Through a healthy diet and engaging and regular physical activity, patients may reduce the risk of cardiovascular disease. (Remarks made based on our evidence)\n",
    "\n",
    "* Given high blood pressure, there are differences in the proportion of males and females with the disease. We can not conclude which gender has a higher proportion based on a lack of industry knowledge and lack of prior sampling data. We can only conclude that based on our data, we are confident that there is a difference. "
   ]
  }
 ],
 "metadata": {
  "kernelspec": {
   "display_name": "Python 3",
   "language": "python",
   "name": "python3"
  },
  "language_info": {
   "codemirror_mode": {
    "name": "ipython",
    "version": 3
   },
   "file_extension": ".py",
   "mimetype": "text/x-python",
   "name": "python",
   "nbconvert_exporter": "python",
   "pygments_lexer": "ipython3",
   "version": "3.7.3"
  }
 },
 "nbformat": 4,
 "nbformat_minor": 2
}
