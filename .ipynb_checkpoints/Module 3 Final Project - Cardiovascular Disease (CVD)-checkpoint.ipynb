{
 "cells": [
  {
   "cell_type": "markdown",
   "metadata": {},
   "source": [
    "## Importing\n",
    "\n",
    "We need to import the necessary libraries and dataset for the project."
   ]
  },
  {
   "cell_type": "code",
   "execution_count": 1,
   "metadata": {},
   "outputs": [],
   "source": [
    "# import libraries\n",
    "import pandas as pd\n",
    "# pd.set_option('display.max_columns', None)\n",
    "# pd.set_option('display.max_rows', None)\n",
    "\n",
    "import numpy as np \n",
    "import math\n",
    "import scipy.stats as stats\n",
    "import matplotlib.pyplot as plt\n",
    "import statsmodels.stats.power\n",
    "from statsmodels.stats.power import TTestIndPower\n",
    "import seaborn as sns\n",
    "plt.style.use('fivethirtyeight')"
   ]
  },
  {
   "cell_type": "code",
   "execution_count": 2,
   "metadata": {},
   "outputs": [],
   "source": [
    "# import database using pandas.read_csv method\n",
    "df = pd.read_csv('cardio_train.csv', sep=';')"
   ]
  },
  {
   "cell_type": "markdown",
   "metadata": {},
   "source": [
    "## Exploratory  Data Analysis"
   ]
  },
  {
   "cell_type": "code",
   "execution_count": 3,
   "metadata": {},
   "outputs": [
    {
     "data": {
      "text/html": [
       "<div>\n",
       "<style scoped>\n",
       "    .dataframe tbody tr th:only-of-type {\n",
       "        vertical-align: middle;\n",
       "    }\n",
       "\n",
       "    .dataframe tbody tr th {\n",
       "        vertical-align: top;\n",
       "    }\n",
       "\n",
       "    .dataframe thead th {\n",
       "        text-align: right;\n",
       "    }\n",
       "</style>\n",
       "<table border=\"1\" class=\"dataframe\">\n",
       "  <thead>\n",
       "    <tr style=\"text-align: right;\">\n",
       "      <th></th>\n",
       "      <th>id</th>\n",
       "      <th>age</th>\n",
       "      <th>gender</th>\n",
       "      <th>height</th>\n",
       "      <th>weight</th>\n",
       "      <th>ap_hi</th>\n",
       "      <th>ap_lo</th>\n",
       "      <th>cholesterol</th>\n",
       "      <th>gluc</th>\n",
       "      <th>smoke</th>\n",
       "      <th>alco</th>\n",
       "      <th>active</th>\n",
       "      <th>cardio</th>\n",
       "    </tr>\n",
       "  </thead>\n",
       "  <tbody>\n",
       "    <tr>\n",
       "      <th>0</th>\n",
       "      <td>0</td>\n",
       "      <td>18393</td>\n",
       "      <td>2</td>\n",
       "      <td>168</td>\n",
       "      <td>62.0</td>\n",
       "      <td>110</td>\n",
       "      <td>80</td>\n",
       "      <td>1</td>\n",
       "      <td>1</td>\n",
       "      <td>0</td>\n",
       "      <td>0</td>\n",
       "      <td>1</td>\n",
       "      <td>0</td>\n",
       "    </tr>\n",
       "    <tr>\n",
       "      <th>1</th>\n",
       "      <td>1</td>\n",
       "      <td>20228</td>\n",
       "      <td>1</td>\n",
       "      <td>156</td>\n",
       "      <td>85.0</td>\n",
       "      <td>140</td>\n",
       "      <td>90</td>\n",
       "      <td>3</td>\n",
       "      <td>1</td>\n",
       "      <td>0</td>\n",
       "      <td>0</td>\n",
       "      <td>1</td>\n",
       "      <td>1</td>\n",
       "    </tr>\n",
       "    <tr>\n",
       "      <th>2</th>\n",
       "      <td>2</td>\n",
       "      <td>18857</td>\n",
       "      <td>1</td>\n",
       "      <td>165</td>\n",
       "      <td>64.0</td>\n",
       "      <td>130</td>\n",
       "      <td>70</td>\n",
       "      <td>3</td>\n",
       "      <td>1</td>\n",
       "      <td>0</td>\n",
       "      <td>0</td>\n",
       "      <td>0</td>\n",
       "      <td>1</td>\n",
       "    </tr>\n",
       "    <tr>\n",
       "      <th>3</th>\n",
       "      <td>3</td>\n",
       "      <td>17623</td>\n",
       "      <td>2</td>\n",
       "      <td>169</td>\n",
       "      <td>82.0</td>\n",
       "      <td>150</td>\n",
       "      <td>100</td>\n",
       "      <td>1</td>\n",
       "      <td>1</td>\n",
       "      <td>0</td>\n",
       "      <td>0</td>\n",
       "      <td>1</td>\n",
       "      <td>1</td>\n",
       "    </tr>\n",
       "    <tr>\n",
       "      <th>4</th>\n",
       "      <td>4</td>\n",
       "      <td>17474</td>\n",
       "      <td>1</td>\n",
       "      <td>156</td>\n",
       "      <td>56.0</td>\n",
       "      <td>100</td>\n",
       "      <td>60</td>\n",
       "      <td>1</td>\n",
       "      <td>1</td>\n",
       "      <td>0</td>\n",
       "      <td>0</td>\n",
       "      <td>0</td>\n",
       "      <td>0</td>\n",
       "    </tr>\n",
       "  </tbody>\n",
       "</table>\n",
       "</div>"
      ],
      "text/plain": [
       "   id    age  gender  height  weight  ap_hi  ap_lo  cholesterol  gluc  smoke  \\\n",
       "0   0  18393       2     168    62.0    110     80            1     1      0   \n",
       "1   1  20228       1     156    85.0    140     90            3     1      0   \n",
       "2   2  18857       1     165    64.0    130     70            3     1      0   \n",
       "3   3  17623       2     169    82.0    150    100            1     1      0   \n",
       "4   4  17474       1     156    56.0    100     60            1     1      0   \n",
       "\n",
       "   alco  active  cardio  \n",
       "0     0       1       0  \n",
       "1     0       1       1  \n",
       "2     0       0       1  \n",
       "3     0       1       1  \n",
       "4     0       0       0  "
      ]
     },
     "execution_count": 3,
     "metadata": {},
     "output_type": "execute_result"
    }
   ],
   "source": [
    "# check df to see if imported correctly\n",
    "df.head()"
   ]
  },
  {
   "cell_type": "code",
   "execution_count": 4,
   "metadata": {},
   "outputs": [
    {
     "name": "stdout",
     "output_type": "stream",
     "text": [
      "<class 'pandas.core.frame.DataFrame'>\n",
      "RangeIndex: 70000 entries, 0 to 69999\n",
      "Data columns (total 13 columns):\n",
      "id             70000 non-null int64\n",
      "age            70000 non-null int64\n",
      "gender         70000 non-null int64\n",
      "height         70000 non-null int64\n",
      "weight         70000 non-null float64\n",
      "ap_hi          70000 non-null int64\n",
      "ap_lo          70000 non-null int64\n",
      "cholesterol    70000 non-null int64\n",
      "gluc           70000 non-null int64\n",
      "smoke          70000 non-null int64\n",
      "alco           70000 non-null int64\n",
      "active         70000 non-null int64\n",
      "cardio         70000 non-null int64\n",
      "dtypes: float64(1), int64(12)\n",
      "memory usage: 6.9 MB\n"
     ]
    }
   ],
   "source": [
    "# general information regarding the dataset\n",
    "df.info()"
   ]
  },
  {
   "cell_type": "code",
   "execution_count": 5,
   "metadata": {},
   "outputs": [
    {
     "data": {
      "text/html": [
       "<div>\n",
       "<style scoped>\n",
       "    .dataframe tbody tr th:only-of-type {\n",
       "        vertical-align: middle;\n",
       "    }\n",
       "\n",
       "    .dataframe tbody tr th {\n",
       "        vertical-align: top;\n",
       "    }\n",
       "\n",
       "    .dataframe thead th {\n",
       "        text-align: right;\n",
       "    }\n",
       "</style>\n",
       "<table border=\"1\" class=\"dataframe\">\n",
       "  <thead>\n",
       "    <tr style=\"text-align: right;\">\n",
       "      <th></th>\n",
       "      <th>id</th>\n",
       "      <th>age</th>\n",
       "      <th>gender</th>\n",
       "      <th>height</th>\n",
       "      <th>weight</th>\n",
       "      <th>ap_hi</th>\n",
       "      <th>ap_lo</th>\n",
       "      <th>cholesterol</th>\n",
       "      <th>gluc</th>\n",
       "      <th>smoke</th>\n",
       "      <th>alco</th>\n",
       "      <th>active</th>\n",
       "      <th>cardio</th>\n",
       "    </tr>\n",
       "  </thead>\n",
       "  <tbody>\n",
       "    <tr>\n",
       "      <th>count</th>\n",
       "      <td>70000.000000</td>\n",
       "      <td>70000.000000</td>\n",
       "      <td>70000.000000</td>\n",
       "      <td>70000.000000</td>\n",
       "      <td>70000.000000</td>\n",
       "      <td>70000.000000</td>\n",
       "      <td>70000.000000</td>\n",
       "      <td>70000.000000</td>\n",
       "      <td>70000.000000</td>\n",
       "      <td>70000.000000</td>\n",
       "      <td>70000.000000</td>\n",
       "      <td>70000.000000</td>\n",
       "      <td>70000.000000</td>\n",
       "    </tr>\n",
       "    <tr>\n",
       "      <th>mean</th>\n",
       "      <td>49972.419900</td>\n",
       "      <td>19468.865814</td>\n",
       "      <td>1.349571</td>\n",
       "      <td>164.359229</td>\n",
       "      <td>74.205690</td>\n",
       "      <td>128.817286</td>\n",
       "      <td>96.630414</td>\n",
       "      <td>1.366871</td>\n",
       "      <td>1.226457</td>\n",
       "      <td>0.088129</td>\n",
       "      <td>0.053771</td>\n",
       "      <td>0.803729</td>\n",
       "      <td>0.499700</td>\n",
       "    </tr>\n",
       "    <tr>\n",
       "      <th>std</th>\n",
       "      <td>28851.302323</td>\n",
       "      <td>2467.251667</td>\n",
       "      <td>0.476838</td>\n",
       "      <td>8.210126</td>\n",
       "      <td>14.395757</td>\n",
       "      <td>154.011419</td>\n",
       "      <td>188.472530</td>\n",
       "      <td>0.680250</td>\n",
       "      <td>0.572270</td>\n",
       "      <td>0.283484</td>\n",
       "      <td>0.225568</td>\n",
       "      <td>0.397179</td>\n",
       "      <td>0.500003</td>\n",
       "    </tr>\n",
       "    <tr>\n",
       "      <th>min</th>\n",
       "      <td>0.000000</td>\n",
       "      <td>10798.000000</td>\n",
       "      <td>1.000000</td>\n",
       "      <td>55.000000</td>\n",
       "      <td>10.000000</td>\n",
       "      <td>-150.000000</td>\n",
       "      <td>-70.000000</td>\n",
       "      <td>1.000000</td>\n",
       "      <td>1.000000</td>\n",
       "      <td>0.000000</td>\n",
       "      <td>0.000000</td>\n",
       "      <td>0.000000</td>\n",
       "      <td>0.000000</td>\n",
       "    </tr>\n",
       "    <tr>\n",
       "      <th>25%</th>\n",
       "      <td>25006.750000</td>\n",
       "      <td>17664.000000</td>\n",
       "      <td>1.000000</td>\n",
       "      <td>159.000000</td>\n",
       "      <td>65.000000</td>\n",
       "      <td>120.000000</td>\n",
       "      <td>80.000000</td>\n",
       "      <td>1.000000</td>\n",
       "      <td>1.000000</td>\n",
       "      <td>0.000000</td>\n",
       "      <td>0.000000</td>\n",
       "      <td>1.000000</td>\n",
       "      <td>0.000000</td>\n",
       "    </tr>\n",
       "    <tr>\n",
       "      <th>50%</th>\n",
       "      <td>50001.500000</td>\n",
       "      <td>19703.000000</td>\n",
       "      <td>1.000000</td>\n",
       "      <td>165.000000</td>\n",
       "      <td>72.000000</td>\n",
       "      <td>120.000000</td>\n",
       "      <td>80.000000</td>\n",
       "      <td>1.000000</td>\n",
       "      <td>1.000000</td>\n",
       "      <td>0.000000</td>\n",
       "      <td>0.000000</td>\n",
       "      <td>1.000000</td>\n",
       "      <td>0.000000</td>\n",
       "    </tr>\n",
       "    <tr>\n",
       "      <th>75%</th>\n",
       "      <td>74889.250000</td>\n",
       "      <td>21327.000000</td>\n",
       "      <td>2.000000</td>\n",
       "      <td>170.000000</td>\n",
       "      <td>82.000000</td>\n",
       "      <td>140.000000</td>\n",
       "      <td>90.000000</td>\n",
       "      <td>2.000000</td>\n",
       "      <td>1.000000</td>\n",
       "      <td>0.000000</td>\n",
       "      <td>0.000000</td>\n",
       "      <td>1.000000</td>\n",
       "      <td>1.000000</td>\n",
       "    </tr>\n",
       "    <tr>\n",
       "      <th>max</th>\n",
       "      <td>99999.000000</td>\n",
       "      <td>23713.000000</td>\n",
       "      <td>2.000000</td>\n",
       "      <td>250.000000</td>\n",
       "      <td>200.000000</td>\n",
       "      <td>16020.000000</td>\n",
       "      <td>11000.000000</td>\n",
       "      <td>3.000000</td>\n",
       "      <td>3.000000</td>\n",
       "      <td>1.000000</td>\n",
       "      <td>1.000000</td>\n",
       "      <td>1.000000</td>\n",
       "      <td>1.000000</td>\n",
       "    </tr>\n",
       "  </tbody>\n",
       "</table>\n",
       "</div>"
      ],
      "text/plain": [
       "                 id           age        gender        height        weight  \\\n",
       "count  70000.000000  70000.000000  70000.000000  70000.000000  70000.000000   \n",
       "mean   49972.419900  19468.865814      1.349571    164.359229     74.205690   \n",
       "std    28851.302323   2467.251667      0.476838      8.210126     14.395757   \n",
       "min        0.000000  10798.000000      1.000000     55.000000     10.000000   \n",
       "25%    25006.750000  17664.000000      1.000000    159.000000     65.000000   \n",
       "50%    50001.500000  19703.000000      1.000000    165.000000     72.000000   \n",
       "75%    74889.250000  21327.000000      2.000000    170.000000     82.000000   \n",
       "max    99999.000000  23713.000000      2.000000    250.000000    200.000000   \n",
       "\n",
       "              ap_hi         ap_lo   cholesterol          gluc         smoke  \\\n",
       "count  70000.000000  70000.000000  70000.000000  70000.000000  70000.000000   \n",
       "mean     128.817286     96.630414      1.366871      1.226457      0.088129   \n",
       "std      154.011419    188.472530      0.680250      0.572270      0.283484   \n",
       "min     -150.000000    -70.000000      1.000000      1.000000      0.000000   \n",
       "25%      120.000000     80.000000      1.000000      1.000000      0.000000   \n",
       "50%      120.000000     80.000000      1.000000      1.000000      0.000000   \n",
       "75%      140.000000     90.000000      2.000000      1.000000      0.000000   \n",
       "max    16020.000000  11000.000000      3.000000      3.000000      1.000000   \n",
       "\n",
       "               alco        active        cardio  \n",
       "count  70000.000000  70000.000000  70000.000000  \n",
       "mean       0.053771      0.803729      0.499700  \n",
       "std        0.225568      0.397179      0.500003  \n",
       "min        0.000000      0.000000      0.000000  \n",
       "25%        0.000000      1.000000      0.000000  \n",
       "50%        0.000000      1.000000      0.000000  \n",
       "75%        0.000000      1.000000      1.000000  \n",
       "max        1.000000      1.000000      1.000000  "
      ]
     },
     "execution_count": 5,
     "metadata": {},
     "output_type": "execute_result"
    }
   ],
   "source": [
    "# basic statistical computations across dataset\n",
    "df.describe()"
   ]
  },
  {
   "cell_type": "code",
   "execution_count": 6,
   "metadata": {},
   "outputs": [
    {
     "data": {
      "image/png": "[encoded data removed]",
      "text/plain": [
       "<Figure size 1080x1080 with 42 Axes>"
      ]
     },
     "metadata": {
      "needs_background": "light"
     },
     "output_type": "display_data"
    }
   ],
   "source": [
    "# comparing the relationship between people who have/not have cardiovascualar disease amongst a certain feature.\n",
    "sns.pairplot(df[['cardio', 'gender', 'height', 'weight', 'ap_hi', 'ap_lo']]);"
   ]
  },
  {
   "cell_type": "code",
   "execution_count": 7,
   "metadata": {
    "scrolled": false
   },
   "outputs": [
    {
     "name": "stderr",
     "output_type": "stream",
     "text": [
      "/anaconda3/envs/learn-env/lib/python3.6/site-packages/scipy/stats/stats.py:1713: FutureWarning: Using a non-tuple sequence for multidimensional indexing is deprecated; use `arr[tuple(seq)]` instead of `arr[seq]`. In the future this will be interpreted as an array index, `arr[np.array(seq)]`, which will result either in an error or a different result.\n",
      "  return np.add.reduce(sorted[indexer] * weights, axis=axis) / sumval\n"
     ]
    },
    {
     "data": {
      "image/png": "[encoded data removed]",
      "text/plain": [
       "<Figure size 432x288 with 1 Axes>"
      ]
     },
     "metadata": {
      "needs_background": "light"
     },
     "output_type": "display_data"
    }
   ],
   "source": [
    "# comparing the kernal density of the relationship between ap_hi (systolic blood pressure) & ap_lo (diastolic blood pressure)\n",
    "sns.distplot(df['ap_hi']);\n",
    "sns.distplot(df['ap_lo']);"
   ]
  },
  {
   "cell_type": "code",
   "execution_count": 8,
   "metadata": {},
   "outputs": [
    {
     "data": {
      "image/png": "[encoded data removed]",
      "text/plain": [
       "<Figure size 792x576 with 1 Axes>"
      ]
     },
     "metadata": {
      "needs_background": "light"
     },
     "output_type": "display_data"
    }
   ],
   "source": [
    "# shows the relationship between cardiovasular disease and age\n",
    "df_test = df\n",
    "from matplotlib import rcParams\n",
    "rcParams['figure.figsize'] = 11, 8\n",
    "df_test['years'] = (df_test['age'] / 365).round().astype('int')\n",
    "sns.countplot(x='years', hue='cardio', data = df, palette=\"Set2\");"
   ]
  },
  {
   "cell_type": "code",
   "execution_count": 9,
   "metadata": {},
   "outputs": [
    {
     "data": {
      "image/png": "[encoded data removed]",
      "text/plain": [
       "<Figure size 792x576 with 1 Axes>"
      ]
     },
     "metadata": {
      "needs_background": "light"
     },
     "output_type": "display_data"
    }
   ],
   "source": [
    "# shows categorical variables and their respective distribution\n",
    "df_categorical = df.loc[:,['cholesterol','gluc', 'smoke', 'alco', 'active']]\n",
    "sns.countplot(x=\"variable\", hue=\"value\",data= pd.melt(df_categorical));"
   ]
  },
  {
   "cell_type": "markdown",
   "metadata": {},
   "source": [
    "## Observations\n",
    "* No null values within the entire dataset. Additionally, per Kaggle description, confirmed no null values from owner.\n",
    "* 13 total columns:\n",
    "    * id (primary key)\n",
    "    * age (days)\n",
    "    * gender (1 = Female, 2 = Male)\n",
    "    * height (cm)\n",
    "    * weight (kg)\n",
    "    * ap_hi (systolic blood pressure)\n",
    "    * ap_low (diastolic blood pressure)\n",
    "    * cholesterol (1 = normal, 2 = above normal, 3 = well above normal)\n",
    "    * gluc(glucose) (1 = normal, 2 = above normal, 3 = well above normal)\n",
    "    * smoke (0 = No, 1 = Yes)\n",
    "    * alco(alcohol) (0 = No, 1 = Yes)\n",
    "    * active (0 = No, 1 = Yes)\n",
    "    * cardio(cardiovasular disease) (0 = Does not have disease, 1 = Has disease)\n",
    "* There are more females than males in this dataset.\n",
    "* Overall, there are less people who smoke and drink alcohol and more people who are active.\n",
    "* Around half of the population have cardiovascular disease.\n",
    "* People over the age of 55 are more exposed to cardiovascular disease.\n",
    "* ap_hi, ap_low columns, weight, height have abnormal min and max values. possible that we need to delete these rows if not many affected."
   ]
  },
  {
   "cell_type": "markdown",
   "metadata": {},
   "source": [
    "## Data Cleaning"
   ]
  },
  {
   "cell_type": "markdown",
   "metadata": {},
   "source": [
    "#### Check for Missing Values"
   ]
  },
  {
   "cell_type": "code",
   "execution_count": 10,
   "metadata": {},
   "outputs": [
    {
     "data": {
      "text/plain": [
       "False"
      ]
     },
     "execution_count": 10,
     "metadata": {},
     "output_type": "execute_result"
    }
   ],
   "source": [
    "# finding any NA or missing values in the dataset\n",
    "# no NA or missing values found\n",
    "df.isnull().values.any()"
   ]
  },
  {
   "cell_type": "markdown",
   "metadata": {},
   "source": [
    "#### Converting Age from Day to Year"
   ]
  },
  {
   "cell_type": "code",
   "execution_count": 11,
   "metadata": {},
   "outputs": [],
   "source": [
    "# converting the age column from day (d) to year (yr)\n",
    "# 365 d = 1 yr\n",
    "# we did not account for leap years as it would not affect the true age in a meaningful way\n",
    "df.age = df.age / 365"
   ]
  },
  {
   "cell_type": "code",
   "execution_count": 12,
   "metadata": {},
   "outputs": [
    {
     "data": {
      "text/html": [
       "<div>\n",
       "<style scoped>\n",
       "    .dataframe tbody tr th:only-of-type {\n",
       "        vertical-align: middle;\n",
       "    }\n",
       "\n",
       "    .dataframe tbody tr th {\n",
       "        vertical-align: top;\n",
       "    }\n",
       "\n",
       "    .dataframe thead th {\n",
       "        text-align: right;\n",
       "    }\n",
       "</style>\n",
       "<table border=\"1\" class=\"dataframe\">\n",
       "  <thead>\n",
       "    <tr style=\"text-align: right;\">\n",
       "      <th></th>\n",
       "      <th>id</th>\n",
       "      <th>age</th>\n",
       "      <th>gender</th>\n",
       "      <th>height</th>\n",
       "      <th>weight</th>\n",
       "      <th>ap_hi</th>\n",
       "      <th>ap_lo</th>\n",
       "      <th>cholesterol</th>\n",
       "      <th>gluc</th>\n",
       "      <th>smoke</th>\n",
       "      <th>alco</th>\n",
       "      <th>active</th>\n",
       "      <th>cardio</th>\n",
       "      <th>years</th>\n",
       "    </tr>\n",
       "  </thead>\n",
       "  <tbody>\n",
       "    <tr>\n",
       "      <th>0</th>\n",
       "      <td>0</td>\n",
       "      <td>50.391781</td>\n",
       "      <td>2</td>\n",
       "      <td>168</td>\n",
       "      <td>62.0</td>\n",
       "      <td>110</td>\n",
       "      <td>80</td>\n",
       "      <td>1</td>\n",
       "      <td>1</td>\n",
       "      <td>0</td>\n",
       "      <td>0</td>\n",
       "      <td>1</td>\n",
       "      <td>0</td>\n",
       "      <td>50</td>\n",
       "    </tr>\n",
       "    <tr>\n",
       "      <th>1</th>\n",
       "      <td>1</td>\n",
       "      <td>55.419178</td>\n",
       "      <td>1</td>\n",
       "      <td>156</td>\n",
       "      <td>85.0</td>\n",
       "      <td>140</td>\n",
       "      <td>90</td>\n",
       "      <td>3</td>\n",
       "      <td>1</td>\n",
       "      <td>0</td>\n",
       "      <td>0</td>\n",
       "      <td>1</td>\n",
       "      <td>1</td>\n",
       "      <td>55</td>\n",
       "    </tr>\n",
       "    <tr>\n",
       "      <th>2</th>\n",
       "      <td>2</td>\n",
       "      <td>51.663014</td>\n",
       "      <td>1</td>\n",
       "      <td>165</td>\n",
       "      <td>64.0</td>\n",
       "      <td>130</td>\n",
       "      <td>70</td>\n",
       "      <td>3</td>\n",
       "      <td>1</td>\n",
       "      <td>0</td>\n",
       "      <td>0</td>\n",
       "      <td>0</td>\n",
       "      <td>1</td>\n",
       "      <td>52</td>\n",
       "    </tr>\n",
       "    <tr>\n",
       "      <th>3</th>\n",
       "      <td>3</td>\n",
       "      <td>48.282192</td>\n",
       "      <td>2</td>\n",
       "      <td>169</td>\n",
       "      <td>82.0</td>\n",
       "      <td>150</td>\n",
       "      <td>100</td>\n",
       "      <td>1</td>\n",
       "      <td>1</td>\n",
       "      <td>0</td>\n",
       "      <td>0</td>\n",
       "      <td>1</td>\n",
       "      <td>1</td>\n",
       "      <td>48</td>\n",
       "    </tr>\n",
       "    <tr>\n",
       "      <th>4</th>\n",
       "      <td>4</td>\n",
       "      <td>47.873973</td>\n",
       "      <td>1</td>\n",
       "      <td>156</td>\n",
       "      <td>56.0</td>\n",
       "      <td>100</td>\n",
       "      <td>60</td>\n",
       "      <td>1</td>\n",
       "      <td>1</td>\n",
       "      <td>0</td>\n",
       "      <td>0</td>\n",
       "      <td>0</td>\n",
       "      <td>0</td>\n",
       "      <td>48</td>\n",
       "    </tr>\n",
       "  </tbody>\n",
       "</table>\n",
       "</div>"
      ],
      "text/plain": [
       "   id        age  gender  height  weight  ap_hi  ap_lo  cholesterol  gluc  \\\n",
       "0   0  50.391781       2     168    62.0    110     80            1     1   \n",
       "1   1  55.419178       1     156    85.0    140     90            3     1   \n",
       "2   2  51.663014       1     165    64.0    130     70            3     1   \n",
       "3   3  48.282192       2     169    82.0    150    100            1     1   \n",
       "4   4  47.873973       1     156    56.0    100     60            1     1   \n",
       "\n",
       "   smoke  alco  active  cardio  years  \n",
       "0      0     0       1       0     50  \n",
       "1      0     0       1       1     55  \n",
       "2      0     0       0       1     52  \n",
       "3      0     0       1       1     48  \n",
       "4      0     0       0       0     48  "
      ]
     },
     "execution_count": 12,
     "metadata": {},
     "output_type": "execute_result"
    }
   ],
   "source": [
    "# preview changes made in age column\n",
    "df.head()"
   ]
  },
  {
   "cell_type": "markdown",
   "metadata": {},
   "source": [
    "#### Converting Weight from Kilogram to Pound"
   ]
  },
  {
   "cell_type": "code",
   "execution_count": 13,
   "metadata": {},
   "outputs": [],
   "source": [
    "# converting the weight column from kilogram (kg) to pound (lb)\n",
    "# 1 kg  = 2.2046 lb\n",
    "df.weight = df.weight * 2.2046"
   ]
  },
  {
   "cell_type": "code",
   "execution_count": 14,
   "metadata": {},
   "outputs": [
    {
     "data": {
      "text/html": [
       "<div>\n",
       "<style scoped>\n",
       "    .dataframe tbody tr th:only-of-type {\n",
       "        vertical-align: middle;\n",
       "    }\n",
       "\n",
       "    .dataframe tbody tr th {\n",
       "        vertical-align: top;\n",
       "    }\n",
       "\n",
       "    .dataframe thead th {\n",
       "        text-align: right;\n",
       "    }\n",
       "</style>\n",
       "<table border=\"1\" class=\"dataframe\">\n",
       "  <thead>\n",
       "    <tr style=\"text-align: right;\">\n",
       "      <th></th>\n",
       "      <th>id</th>\n",
       "      <th>age</th>\n",
       "      <th>gender</th>\n",
       "      <th>height</th>\n",
       "      <th>weight</th>\n",
       "      <th>ap_hi</th>\n",
       "      <th>ap_lo</th>\n",
       "      <th>cholesterol</th>\n",
       "      <th>gluc</th>\n",
       "      <th>smoke</th>\n",
       "      <th>alco</th>\n",
       "      <th>active</th>\n",
       "      <th>cardio</th>\n",
       "      <th>years</th>\n",
       "    </tr>\n",
       "  </thead>\n",
       "  <tbody>\n",
       "    <tr>\n",
       "      <th>0</th>\n",
       "      <td>0</td>\n",
       "      <td>50.391781</td>\n",
       "      <td>2</td>\n",
       "      <td>168</td>\n",
       "      <td>136.6852</td>\n",
       "      <td>110</td>\n",
       "      <td>80</td>\n",
       "      <td>1</td>\n",
       "      <td>1</td>\n",
       "      <td>0</td>\n",
       "      <td>0</td>\n",
       "      <td>1</td>\n",
       "      <td>0</td>\n",
       "      <td>50</td>\n",
       "    </tr>\n",
       "    <tr>\n",
       "      <th>1</th>\n",
       "      <td>1</td>\n",
       "      <td>55.419178</td>\n",
       "      <td>1</td>\n",
       "      <td>156</td>\n",
       "      <td>187.3910</td>\n",
       "      <td>140</td>\n",
       "      <td>90</td>\n",
       "      <td>3</td>\n",
       "      <td>1</td>\n",
       "      <td>0</td>\n",
       "      <td>0</td>\n",
       "      <td>1</td>\n",
       "      <td>1</td>\n",
       "      <td>55</td>\n",
       "    </tr>\n",
       "    <tr>\n",
       "      <th>2</th>\n",
       "      <td>2</td>\n",
       "      <td>51.663014</td>\n",
       "      <td>1</td>\n",
       "      <td>165</td>\n",
       "      <td>141.0944</td>\n",
       "      <td>130</td>\n",
       "      <td>70</td>\n",
       "      <td>3</td>\n",
       "      <td>1</td>\n",
       "      <td>0</td>\n",
       "      <td>0</td>\n",
       "      <td>0</td>\n",
       "      <td>1</td>\n",
       "      <td>52</td>\n",
       "    </tr>\n",
       "    <tr>\n",
       "      <th>3</th>\n",
       "      <td>3</td>\n",
       "      <td>48.282192</td>\n",
       "      <td>2</td>\n",
       "      <td>169</td>\n",
       "      <td>180.7772</td>\n",
       "      <td>150</td>\n",
       "      <td>100</td>\n",
       "      <td>1</td>\n",
       "      <td>1</td>\n",
       "      <td>0</td>\n",
       "      <td>0</td>\n",
       "      <td>1</td>\n",
       "      <td>1</td>\n",
       "      <td>48</td>\n",
       "    </tr>\n",
       "    <tr>\n",
       "      <th>4</th>\n",
       "      <td>4</td>\n",
       "      <td>47.873973</td>\n",
       "      <td>1</td>\n",
       "      <td>156</td>\n",
       "      <td>123.4576</td>\n",
       "      <td>100</td>\n",
       "      <td>60</td>\n",
       "      <td>1</td>\n",
       "      <td>1</td>\n",
       "      <td>0</td>\n",
       "      <td>0</td>\n",
       "      <td>0</td>\n",
       "      <td>0</td>\n",
       "      <td>48</td>\n",
       "    </tr>\n",
       "  </tbody>\n",
       "</table>\n",
       "</div>"
      ],
      "text/plain": [
       "   id        age  gender  height    weight  ap_hi  ap_lo  cholesterol  gluc  \\\n",
       "0   0  50.391781       2     168  136.6852    110     80            1     1   \n",
       "1   1  55.419178       1     156  187.3910    140     90            3     1   \n",
       "2   2  51.663014       1     165  141.0944    130     70            3     1   \n",
       "3   3  48.282192       2     169  180.7772    150    100            1     1   \n",
       "4   4  47.873973       1     156  123.4576    100     60            1     1   \n",
       "\n",
       "   smoke  alco  active  cardio  years  \n",
       "0      0     0       1       0     50  \n",
       "1      0     0       1       1     55  \n",
       "2      0     0       0       1     52  \n",
       "3      0     0       1       1     48  \n",
       "4      0     0       0       0     48  "
      ]
     },
     "execution_count": 14,
     "metadata": {},
     "output_type": "execute_result"
    }
   ],
   "source": [
    "# preview changes made in weight column\n",
    "df.head()"
   ]
  },
  {
   "cell_type": "markdown",
   "metadata": {},
   "source": [
    "#### Converting Height from Centimeter to Inch"
   ]
  },
  {
   "cell_type": "code",
   "execution_count": 15,
   "metadata": {},
   "outputs": [],
   "source": [
    "# converting the height column from centimeter (cm) to inch (in)\n",
    "# 1 cm = 0.393701 in\n",
    "df.height = df.height * 0.393701"
   ]
  },
  {
   "cell_type": "code",
   "execution_count": 16,
   "metadata": {},
   "outputs": [
    {
     "data": {
      "text/html": [
       "<div>\n",
       "<style scoped>\n",
       "    .dataframe tbody tr th:only-of-type {\n",
       "        vertical-align: middle;\n",
       "    }\n",
       "\n",
       "    .dataframe tbody tr th {\n",
       "        vertical-align: top;\n",
       "    }\n",
       "\n",
       "    .dataframe thead th {\n",
       "        text-align: right;\n",
       "    }\n",
       "</style>\n",
       "<table border=\"1\" class=\"dataframe\">\n",
       "  <thead>\n",
       "    <tr style=\"text-align: right;\">\n",
       "      <th></th>\n",
       "      <th>id</th>\n",
       "      <th>age</th>\n",
       "      <th>gender</th>\n",
       "      <th>height</th>\n",
       "      <th>weight</th>\n",
       "      <th>ap_hi</th>\n",
       "      <th>ap_lo</th>\n",
       "      <th>cholesterol</th>\n",
       "      <th>gluc</th>\n",
       "      <th>smoke</th>\n",
       "      <th>alco</th>\n",
       "      <th>active</th>\n",
       "      <th>cardio</th>\n",
       "      <th>years</th>\n",
       "    </tr>\n",
       "  </thead>\n",
       "  <tbody>\n",
       "    <tr>\n",
       "      <th>0</th>\n",
       "      <td>0</td>\n",
       "      <td>50.391781</td>\n",
       "      <td>2</td>\n",
       "      <td>66.141768</td>\n",
       "      <td>136.6852</td>\n",
       "      <td>110</td>\n",
       "      <td>80</td>\n",
       "      <td>1</td>\n",
       "      <td>1</td>\n",
       "      <td>0</td>\n",
       "      <td>0</td>\n",
       "      <td>1</td>\n",
       "      <td>0</td>\n",
       "      <td>50</td>\n",
       "    </tr>\n",
       "    <tr>\n",
       "      <th>1</th>\n",
       "      <td>1</td>\n",
       "      <td>55.419178</td>\n",
       "      <td>1</td>\n",
       "      <td>61.417356</td>\n",
       "      <td>187.3910</td>\n",
       "      <td>140</td>\n",
       "      <td>90</td>\n",
       "      <td>3</td>\n",
       "      <td>1</td>\n",
       "      <td>0</td>\n",
       "      <td>0</td>\n",
       "      <td>1</td>\n",
       "      <td>1</td>\n",
       "      <td>55</td>\n",
       "    </tr>\n",
       "    <tr>\n",
       "      <th>2</th>\n",
       "      <td>2</td>\n",
       "      <td>51.663014</td>\n",
       "      <td>1</td>\n",
       "      <td>64.960665</td>\n",
       "      <td>141.0944</td>\n",
       "      <td>130</td>\n",
       "      <td>70</td>\n",
       "      <td>3</td>\n",
       "      <td>1</td>\n",
       "      <td>0</td>\n",
       "      <td>0</td>\n",
       "      <td>0</td>\n",
       "      <td>1</td>\n",
       "      <td>52</td>\n",
       "    </tr>\n",
       "    <tr>\n",
       "      <th>3</th>\n",
       "      <td>3</td>\n",
       "      <td>48.282192</td>\n",
       "      <td>2</td>\n",
       "      <td>66.535469</td>\n",
       "      <td>180.7772</td>\n",
       "      <td>150</td>\n",
       "      <td>100</td>\n",
       "      <td>1</td>\n",
       "      <td>1</td>\n",
       "      <td>0</td>\n",
       "      <td>0</td>\n",
       "      <td>1</td>\n",
       "      <td>1</td>\n",
       "      <td>48</td>\n",
       "    </tr>\n",
       "    <tr>\n",
       "      <th>4</th>\n",
       "      <td>4</td>\n",
       "      <td>47.873973</td>\n",
       "      <td>1</td>\n",
       "      <td>61.417356</td>\n",
       "      <td>123.4576</td>\n",
       "      <td>100</td>\n",
       "      <td>60</td>\n",
       "      <td>1</td>\n",
       "      <td>1</td>\n",
       "      <td>0</td>\n",
       "      <td>0</td>\n",
       "      <td>0</td>\n",
       "      <td>0</td>\n",
       "      <td>48</td>\n",
       "    </tr>\n",
       "  </tbody>\n",
       "</table>\n",
       "</div>"
      ],
      "text/plain": [
       "   id        age  gender     height    weight  ap_hi  ap_lo  cholesterol  \\\n",
       "0   0  50.391781       2  66.141768  136.6852    110     80            1   \n",
       "1   1  55.419178       1  61.417356  187.3910    140     90            3   \n",
       "2   2  51.663014       1  64.960665  141.0944    130     70            3   \n",
       "3   3  48.282192       2  66.535469  180.7772    150    100            1   \n",
       "4   4  47.873973       1  61.417356  123.4576    100     60            1   \n",
       "\n",
       "   gluc  smoke  alco  active  cardio  years  \n",
       "0     1      0     0       1       0     50  \n",
       "1     1      0     0       1       1     55  \n",
       "2     1      0     0       0       1     52  \n",
       "3     1      0     0       1       1     48  \n",
       "4     1      0     0       0       0     48  "
      ]
     },
     "execution_count": 16,
     "metadata": {},
     "output_type": "execute_result"
    }
   ],
   "source": [
    "# preview changes made in height column\n",
    "df.head()"
   ]
  },
  {
   "cell_type": "markdown",
   "metadata": {},
   "source": [
    "#### Removing Outliers for Abnormal Values"
   ]
  },
  {
   "cell_type": "code",
   "execution_count": 17,
   "metadata": {},
   "outputs": [],
   "source": [
    "# removing rows with height value > 82 in or < 58 in\n",
    "# noticed rows with incomplete or inaccurate height data (i.e. heights with abnormal values, 25 inches)\n",
    "# used 82 and 58 as upper and lower bounds respectively as estimations of a good range of heights\n",
    "df.drop(df[(df['height'] > 82) | (df['height'] < 58)].index,inplace=True)\n",
    "\n",
    "# removing rows with weight value > 300 lb or < 120 lb\n",
    "# noticed rows with incomplete or inaccurate weight data (i.e. weight under 100 lb when youngest age is 29)\n",
    "# used 300 and 120 as upper and lower bounds respectively as estimations of a good range of heights\n",
    "df.drop(df[(df['weight'] > 300) | (df['weight'] < 120)].index,inplace=True)"
   ]
  },
  {
   "cell_type": "code",
   "execution_count": 18,
   "metadata": {},
   "outputs": [],
   "source": [
    "# removing rows with ap_hi (systolic blood pressure) value > 200 or < 90\n",
    "# noticed rows with inaccurate ap_hi data (i.e. blood pressure values = 0, extreme values > 1000)\n",
    "# used 200 and 90 as upper and lower bounds respectively per the American Heart Association blood pressure scale\n",
    "df.drop(df[(df['ap_hi'] > 200) | (df['ap_hi'] < 90)].index,inplace=True)\n",
    "\n",
    "# removing rows with ap_lo (diastolic blood pressure) value > 120 or < 60\n",
    "# noticed rows with inaccurate ap_hi data (i.e. blood pressure values = 0, extreme values > 1000)\n",
    "# used 120 and 60 as upper and lower bounds respectively per the American Heart Association blood pressure scale\n",
    "df.drop(df[(df['ap_lo'] > 120) | (df['ap_lo'] < 60)].index,inplace=True)"
   ]
  },
  {
   "cell_type": "code",
   "execution_count": 19,
   "metadata": {},
   "outputs": [
    {
     "data": {
      "text/html": [
       "<div>\n",
       "<style scoped>\n",
       "    .dataframe tbody tr th:only-of-type {\n",
       "        vertical-align: middle;\n",
       "    }\n",
       "\n",
       "    .dataframe tbody tr th {\n",
       "        vertical-align: top;\n",
       "    }\n",
       "\n",
       "    .dataframe thead th {\n",
       "        text-align: right;\n",
       "    }\n",
       "</style>\n",
       "<table border=\"1\" class=\"dataframe\">\n",
       "  <thead>\n",
       "    <tr style=\"text-align: right;\">\n",
       "      <th></th>\n",
       "      <th>id</th>\n",
       "      <th>age</th>\n",
       "      <th>gender</th>\n",
       "      <th>height</th>\n",
       "      <th>weight</th>\n",
       "      <th>ap_hi</th>\n",
       "      <th>ap_lo</th>\n",
       "      <th>cholesterol</th>\n",
       "      <th>gluc</th>\n",
       "      <th>smoke</th>\n",
       "      <th>alco</th>\n",
       "      <th>active</th>\n",
       "      <th>cardio</th>\n",
       "      <th>years</th>\n",
       "    </tr>\n",
       "  </thead>\n",
       "  <tbody>\n",
       "    <tr>\n",
       "      <th>0</th>\n",
       "      <td>0</td>\n",
       "      <td>50.391781</td>\n",
       "      <td>2</td>\n",
       "      <td>66.141768</td>\n",
       "      <td>136.6852</td>\n",
       "      <td>110</td>\n",
       "      <td>80</td>\n",
       "      <td>1</td>\n",
       "      <td>1</td>\n",
       "      <td>0</td>\n",
       "      <td>0</td>\n",
       "      <td>1</td>\n",
       "      <td>0</td>\n",
       "      <td>50</td>\n",
       "    </tr>\n",
       "    <tr>\n",
       "      <th>1</th>\n",
       "      <td>1</td>\n",
       "      <td>55.419178</td>\n",
       "      <td>1</td>\n",
       "      <td>61.417356</td>\n",
       "      <td>187.3910</td>\n",
       "      <td>140</td>\n",
       "      <td>90</td>\n",
       "      <td>3</td>\n",
       "      <td>1</td>\n",
       "      <td>0</td>\n",
       "      <td>0</td>\n",
       "      <td>1</td>\n",
       "      <td>1</td>\n",
       "      <td>55</td>\n",
       "    </tr>\n",
       "    <tr>\n",
       "      <th>2</th>\n",
       "      <td>2</td>\n",
       "      <td>51.663014</td>\n",
       "      <td>1</td>\n",
       "      <td>64.960665</td>\n",
       "      <td>141.0944</td>\n",
       "      <td>130</td>\n",
       "      <td>70</td>\n",
       "      <td>3</td>\n",
       "      <td>1</td>\n",
       "      <td>0</td>\n",
       "      <td>0</td>\n",
       "      <td>0</td>\n",
       "      <td>1</td>\n",
       "      <td>52</td>\n",
       "    </tr>\n",
       "    <tr>\n",
       "      <th>3</th>\n",
       "      <td>3</td>\n",
       "      <td>48.282192</td>\n",
       "      <td>2</td>\n",
       "      <td>66.535469</td>\n",
       "      <td>180.7772</td>\n",
       "      <td>150</td>\n",
       "      <td>100</td>\n",
       "      <td>1</td>\n",
       "      <td>1</td>\n",
       "      <td>0</td>\n",
       "      <td>0</td>\n",
       "      <td>1</td>\n",
       "      <td>1</td>\n",
       "      <td>48</td>\n",
       "    </tr>\n",
       "    <tr>\n",
       "      <th>4</th>\n",
       "      <td>4</td>\n",
       "      <td>47.873973</td>\n",
       "      <td>1</td>\n",
       "      <td>61.417356</td>\n",
       "      <td>123.4576</td>\n",
       "      <td>100</td>\n",
       "      <td>60</td>\n",
       "      <td>1</td>\n",
       "      <td>1</td>\n",
       "      <td>0</td>\n",
       "      <td>0</td>\n",
       "      <td>0</td>\n",
       "      <td>0</td>\n",
       "      <td>48</td>\n",
       "    </tr>\n",
       "  </tbody>\n",
       "</table>\n",
       "</div>"
      ],
      "text/plain": [
       "   id        age  gender     height    weight  ap_hi  ap_lo  cholesterol  \\\n",
       "0   0  50.391781       2  66.141768  136.6852    110     80            1   \n",
       "1   1  55.419178       1  61.417356  187.3910    140     90            3   \n",
       "2   2  51.663014       1  64.960665  141.0944    130     70            3   \n",
       "3   3  48.282192       2  66.535469  180.7772    150    100            1   \n",
       "4   4  47.873973       1  61.417356  123.4576    100     60            1   \n",
       "\n",
       "   gluc  smoke  alco  active  cardio  years  \n",
       "0     1      0     0       1       0     50  \n",
       "1     1      0     0       1       1     55  \n",
       "2     1      0     0       0       1     52  \n",
       "3     1      0     0       1       1     48  \n",
       "4     1      0     0       0       0     48  "
      ]
     },
     "execution_count": 19,
     "metadata": {},
     "output_type": "execute_result"
    }
   ],
   "source": [
    "df.head()"
   ]
  },
  {
   "cell_type": "markdown",
   "metadata": {},
   "source": [
    "## Feature Engineering"
   ]
  },
  {
   "cell_type": "markdown",
   "metadata": {},
   "source": [
    "#### Calculating BMI\n",
    "* BMI: is an estimate of body fat and a good measure of your patients' risk for diseases that can occur with overweight and obesity.\n",
    "* calculated by $kg/meters^2$.\n",
    "* BMI scale:\n",
    "    * If your BMI is **less than 18.5**, it falls within the **underweight** range.\n",
    "    * If your BMI is **18.5 to <25**, it falls within the **normal**.\n",
    "    * If your BMI is **25.0 to <30**, it falls within the **overweight** range.\n",
    "    * If your BMI is **30.0 or higher**, it falls within the **obese** range."
   ]
  },
  {
   "cell_type": "code",
   "execution_count": 20,
   "metadata": {},
   "outputs": [],
   "source": [
    "# calculating BMI with formula: kg / meters^2\n",
    "\n",
    "# convert weight from lb to kg\n",
    "kg = (df.weight/2.2046)\n",
    "\n",
    "# convert height from in to cm\n",
    "cm = (df.height/0.393701)\n",
    "\n",
    "# convert height from cm to m\n",
    "m = cm * 0.01\n",
    "\n",
    "# plug values into formula and set it equal to a new column, BMI\n",
    "df['BMI'] = kg/m**2"
   ]
  },
  {
   "cell_type": "code",
   "execution_count": 21,
   "metadata": {},
   "outputs": [
    {
     "data": {
      "text/html": [
       "<div>\n",
       "<style scoped>\n",
       "    .dataframe tbody tr th:only-of-type {\n",
       "        vertical-align: middle;\n",
       "    }\n",
       "\n",
       "    .dataframe tbody tr th {\n",
       "        vertical-align: top;\n",
       "    }\n",
       "\n",
       "    .dataframe thead th {\n",
       "        text-align: right;\n",
       "    }\n",
       "</style>\n",
       "<table border=\"1\" class=\"dataframe\">\n",
       "  <thead>\n",
       "    <tr style=\"text-align: right;\">\n",
       "      <th></th>\n",
       "      <th>id</th>\n",
       "      <th>age</th>\n",
       "      <th>gender</th>\n",
       "      <th>height</th>\n",
       "      <th>weight</th>\n",
       "      <th>ap_hi</th>\n",
       "      <th>ap_lo</th>\n",
       "      <th>cholesterol</th>\n",
       "      <th>gluc</th>\n",
       "      <th>smoke</th>\n",
       "      <th>alco</th>\n",
       "      <th>active</th>\n",
       "      <th>cardio</th>\n",
       "      <th>years</th>\n",
       "      <th>BMI</th>\n",
       "    </tr>\n",
       "  </thead>\n",
       "  <tbody>\n",
       "    <tr>\n",
       "      <th>0</th>\n",
       "      <td>0</td>\n",
       "      <td>50.391781</td>\n",
       "      <td>2</td>\n",
       "      <td>66.141768</td>\n",
       "      <td>136.6852</td>\n",
       "      <td>110</td>\n",
       "      <td>80</td>\n",
       "      <td>1</td>\n",
       "      <td>1</td>\n",
       "      <td>0</td>\n",
       "      <td>0</td>\n",
       "      <td>1</td>\n",
       "      <td>0</td>\n",
       "      <td>50</td>\n",
       "      <td>21.967120</td>\n",
       "    </tr>\n",
       "    <tr>\n",
       "      <th>1</th>\n",
       "      <td>1</td>\n",
       "      <td>55.419178</td>\n",
       "      <td>1</td>\n",
       "      <td>61.417356</td>\n",
       "      <td>187.3910</td>\n",
       "      <td>140</td>\n",
       "      <td>90</td>\n",
       "      <td>3</td>\n",
       "      <td>1</td>\n",
       "      <td>0</td>\n",
       "      <td>0</td>\n",
       "      <td>1</td>\n",
       "      <td>1</td>\n",
       "      <td>55</td>\n",
       "      <td>34.927679</td>\n",
       "    </tr>\n",
       "    <tr>\n",
       "      <th>2</th>\n",
       "      <td>2</td>\n",
       "      <td>51.663014</td>\n",
       "      <td>1</td>\n",
       "      <td>64.960665</td>\n",
       "      <td>141.0944</td>\n",
       "      <td>130</td>\n",
       "      <td>70</td>\n",
       "      <td>3</td>\n",
       "      <td>1</td>\n",
       "      <td>0</td>\n",
       "      <td>0</td>\n",
       "      <td>0</td>\n",
       "      <td>1</td>\n",
       "      <td>52</td>\n",
       "      <td>23.507805</td>\n",
       "    </tr>\n",
       "    <tr>\n",
       "      <th>3</th>\n",
       "      <td>3</td>\n",
       "      <td>48.282192</td>\n",
       "      <td>2</td>\n",
       "      <td>66.535469</td>\n",
       "      <td>180.7772</td>\n",
       "      <td>150</td>\n",
       "      <td>100</td>\n",
       "      <td>1</td>\n",
       "      <td>1</td>\n",
       "      <td>0</td>\n",
       "      <td>0</td>\n",
       "      <td>1</td>\n",
       "      <td>1</td>\n",
       "      <td>48</td>\n",
       "      <td>28.710479</td>\n",
       "    </tr>\n",
       "    <tr>\n",
       "      <th>4</th>\n",
       "      <td>4</td>\n",
       "      <td>47.873973</td>\n",
       "      <td>1</td>\n",
       "      <td>61.417356</td>\n",
       "      <td>123.4576</td>\n",
       "      <td>100</td>\n",
       "      <td>60</td>\n",
       "      <td>1</td>\n",
       "      <td>1</td>\n",
       "      <td>0</td>\n",
       "      <td>0</td>\n",
       "      <td>0</td>\n",
       "      <td>0</td>\n",
       "      <td>48</td>\n",
       "      <td>23.011177</td>\n",
       "    </tr>\n",
       "  </tbody>\n",
       "</table>\n",
       "</div>"
      ],
      "text/plain": [
       "   id        age  gender     height    weight  ap_hi  ap_lo  cholesterol  \\\n",
       "0   0  50.391781       2  66.141768  136.6852    110     80            1   \n",
       "1   1  55.419178       1  61.417356  187.3910    140     90            3   \n",
       "2   2  51.663014       1  64.960665  141.0944    130     70            3   \n",
       "3   3  48.282192       2  66.535469  180.7772    150    100            1   \n",
       "4   4  47.873973       1  61.417356  123.4576    100     60            1   \n",
       "\n",
       "   gluc  smoke  alco  active  cardio  years        BMI  \n",
       "0     1      0     0       1       0     50  21.967120  \n",
       "1     1      0     0       1       1     55  34.927679  \n",
       "2     1      0     0       0       1     52  23.507805  \n",
       "3     1      0     0       1       1     48  28.710479  \n",
       "4     1      0     0       0       0     48  23.011177  "
      ]
     },
     "execution_count": 21,
     "metadata": {},
     "output_type": "execute_result"
    }
   ],
   "source": [
    "# preview new column made\n",
    "df.head()"
   ]
  },
  {
   "cell_type": "markdown",
   "metadata": {},
   "source": [
    "#### Categorizing Blood Pressure Levels\n",
    "\n",
    "Values:\n",
    "* 0 = not high blood pressure\n",
    "* 1 = high blood pressure"
   ]
  },
  {
   "cell_type": "code",
   "execution_count": 22,
   "metadata": {},
   "outputs": [],
   "source": [
    "# creating new column blood_pressure based on American Heart Association requirements for high blood pressure.\n",
    "df.loc[(df.ap_hi < 130) & (df.ap_lo < 80), 'blood_pressure'] = 0\n",
    "df.loc[(df.ap_hi >= 130) | (df.ap_lo >= 80) & (df.blood_pressure != 0), 'blood_pressure'] = 1"
   ]
  },
  {
   "cell_type": "code",
   "execution_count": 23,
   "metadata": {},
   "outputs": [
    {
     "name": "stdout",
     "output_type": "stream",
     "text": [
      "1.0    53369\n",
      "0.0    11073\n",
      "Name: blood_pressure, dtype: int64\n"
     ]
    },
    {
     "data": {
      "text/html": [
       "<div>\n",
       "<style scoped>\n",
       "    .dataframe tbody tr th:only-of-type {\n",
       "        vertical-align: middle;\n",
       "    }\n",
       "\n",
       "    .dataframe tbody tr th {\n",
       "        vertical-align: top;\n",
       "    }\n",
       "\n",
       "    .dataframe thead th {\n",
       "        text-align: right;\n",
       "    }\n",
       "</style>\n",
       "<table border=\"1\" class=\"dataframe\">\n",
       "  <thead>\n",
       "    <tr style=\"text-align: right;\">\n",
       "      <th></th>\n",
       "      <th>id</th>\n",
       "      <th>age</th>\n",
       "      <th>gender</th>\n",
       "      <th>height</th>\n",
       "      <th>weight</th>\n",
       "      <th>ap_hi</th>\n",
       "      <th>ap_lo</th>\n",
       "      <th>cholesterol</th>\n",
       "      <th>gluc</th>\n",
       "      <th>smoke</th>\n",
       "      <th>alco</th>\n",
       "      <th>active</th>\n",
       "      <th>cardio</th>\n",
       "      <th>years</th>\n",
       "      <th>BMI</th>\n",
       "      <th>blood_pressure</th>\n",
       "    </tr>\n",
       "  </thead>\n",
       "  <tbody>\n",
       "    <tr>\n",
       "      <th>0</th>\n",
       "      <td>0</td>\n",
       "      <td>50.391781</td>\n",
       "      <td>2</td>\n",
       "      <td>66.141768</td>\n",
       "      <td>136.6852</td>\n",
       "      <td>110</td>\n",
       "      <td>80</td>\n",
       "      <td>1</td>\n",
       "      <td>1</td>\n",
       "      <td>0</td>\n",
       "      <td>0</td>\n",
       "      <td>1</td>\n",
       "      <td>0</td>\n",
       "      <td>50</td>\n",
       "      <td>21.967120</td>\n",
       "      <td>1.0</td>\n",
       "    </tr>\n",
       "    <tr>\n",
       "      <th>1</th>\n",
       "      <td>1</td>\n",
       "      <td>55.419178</td>\n",
       "      <td>1</td>\n",
       "      <td>61.417356</td>\n",
       "      <td>187.3910</td>\n",
       "      <td>140</td>\n",
       "      <td>90</td>\n",
       "      <td>3</td>\n",
       "      <td>1</td>\n",
       "      <td>0</td>\n",
       "      <td>0</td>\n",
       "      <td>1</td>\n",
       "      <td>1</td>\n",
       "      <td>55</td>\n",
       "      <td>34.927679</td>\n",
       "      <td>1.0</td>\n",
       "    </tr>\n",
       "    <tr>\n",
       "      <th>2</th>\n",
       "      <td>2</td>\n",
       "      <td>51.663014</td>\n",
       "      <td>1</td>\n",
       "      <td>64.960665</td>\n",
       "      <td>141.0944</td>\n",
       "      <td>130</td>\n",
       "      <td>70</td>\n",
       "      <td>3</td>\n",
       "      <td>1</td>\n",
       "      <td>0</td>\n",
       "      <td>0</td>\n",
       "      <td>0</td>\n",
       "      <td>1</td>\n",
       "      <td>52</td>\n",
       "      <td>23.507805</td>\n",
       "      <td>1.0</td>\n",
       "    </tr>\n",
       "    <tr>\n",
       "      <th>3</th>\n",
       "      <td>3</td>\n",
       "      <td>48.282192</td>\n",
       "      <td>2</td>\n",
       "      <td>66.535469</td>\n",
       "      <td>180.7772</td>\n",
       "      <td>150</td>\n",
       "      <td>100</td>\n",
       "      <td>1</td>\n",
       "      <td>1</td>\n",
       "      <td>0</td>\n",
       "      <td>0</td>\n",
       "      <td>1</td>\n",
       "      <td>1</td>\n",
       "      <td>48</td>\n",
       "      <td>28.710479</td>\n",
       "      <td>1.0</td>\n",
       "    </tr>\n",
       "    <tr>\n",
       "      <th>4</th>\n",
       "      <td>4</td>\n",
       "      <td>47.873973</td>\n",
       "      <td>1</td>\n",
       "      <td>61.417356</td>\n",
       "      <td>123.4576</td>\n",
       "      <td>100</td>\n",
       "      <td>60</td>\n",
       "      <td>1</td>\n",
       "      <td>1</td>\n",
       "      <td>0</td>\n",
       "      <td>0</td>\n",
       "      <td>0</td>\n",
       "      <td>0</td>\n",
       "      <td>48</td>\n",
       "      <td>23.011177</td>\n",
       "      <td>0.0</td>\n",
       "    </tr>\n",
       "  </tbody>\n",
       "</table>\n",
       "</div>"
      ],
      "text/plain": [
       "   id        age  gender     height    weight  ap_hi  ap_lo  cholesterol  \\\n",
       "0   0  50.391781       2  66.141768  136.6852    110     80            1   \n",
       "1   1  55.419178       1  61.417356  187.3910    140     90            3   \n",
       "2   2  51.663014       1  64.960665  141.0944    130     70            3   \n",
       "3   3  48.282192       2  66.535469  180.7772    150    100            1   \n",
       "4   4  47.873973       1  61.417356  123.4576    100     60            1   \n",
       "\n",
       "   gluc  smoke  alco  active  cardio  years        BMI  blood_pressure  \n",
       "0     1      0     0       1       0     50  21.967120             1.0  \n",
       "1     1      0     0       1       1     55  34.927679             1.0  \n",
       "2     1      0     0       0       1     52  23.507805             1.0  \n",
       "3     1      0     0       1       1     48  28.710479             1.0  \n",
       "4     1      0     0       0       0     48  23.011177             0.0  "
      ]
     },
     "execution_count": 23,
     "metadata": {},
     "output_type": "execute_result"
    }
   ],
   "source": [
    "# preview new column made\n",
    "print(df.blood_pressure.value_counts())\n",
    "df.head()"
   ]
  },
  {
   "cell_type": "markdown",
   "metadata": {},
   "source": [
    "## 1. Question: Body Mass Index (BMI)\n",
    "\n",
    "> Do people with cardiovasular disease have a higher BMI than people without cardiovascular disease?"
   ]
  },
  {
   "cell_type": "markdown",
   "metadata": {},
   "source": [
    "### 1.1 Hypothesis\n",
    "\n",
    "$H_0$: People with cardiovascular disease have the same BMI as the people without the disease.\n",
    "\n",
    "> $H_0: \\mu_d = \\mu_n$\n",
    "\n",
    "$H_1$: People with cardiovascular disease have higher BMI than the people without the disease.\n",
    "\n",
    "> $H_1:  \\mu_d > \\mu_n$\n",
    "\n",
    "I set my significance level: \n",
    "\n",
    "> **$\\alpha$ = 0.05**\n",
    "\n",
    "Since I specify the direction of the difference, it's a **one-tailed** test."
   ]
  },
  {
   "cell_type": "markdown",
   "metadata": {},
   "source": [
    "### 1.2 Statistical Analysis "
   ]
  },
  {
   "cell_type": "code",
   "execution_count": 24,
   "metadata": {},
   "outputs": [
    {
     "data": {
      "text/plain": [
       "(32412, 16)"
      ]
     },
     "execution_count": 24,
     "metadata": {},
     "output_type": "execute_result"
    }
   ],
   "source": [
    "# creating a new dataframe that only has population with Cardiovascular Disease\n",
    "df_cardio = df[(df.cardio == 1)]\n",
    "df_cardio.shape"
   ]
  },
  {
   "cell_type": "code",
   "execution_count": 25,
   "metadata": {},
   "outputs": [
    {
     "data": {
      "text/plain": [
       "(32030, 16)"
      ]
     },
     "execution_count": 25,
     "metadata": {},
     "output_type": "execute_result"
    }
   ],
   "source": [
    "# creating a new dataframe that only has population without Cardiiovascular Disease\n",
    "df_ncardio = df[(df.cardio == 0)]\n",
    "df_ncardio.shape"
   ]
  },
  {
   "cell_type": "code",
   "execution_count": 26,
   "metadata": {},
   "outputs": [
    {
     "data": {
      "text/plain": [
       "28.561070535592556"
      ]
     },
     "execution_count": 26,
     "metadata": {},
     "output_type": "execute_result"
    }
   ],
   "source": [
    "# creating a variable to hold the BMI mean of the population with Cardiovascular Disease\n",
    "mean_bmi_cardio = df_cardio['BMI'].mean()\n",
    "mean_bmi_cardio"
   ]
  },
  {
   "cell_type": "code",
   "execution_count": 27,
   "metadata": {},
   "outputs": [
    {
     "data": {
      "text/plain": [
       "26.814270036817227"
      ]
     },
     "execution_count": 27,
     "metadata": {},
     "output_type": "execute_result"
    }
   ],
   "source": [
    "# creating a variable to hold the BMI mean of the population without Cardiovascular Disease\n",
    "mean_bmi_ncardio = df_ncardio['BMI'].mean()\n",
    "mean_bmi_ncardio"
   ]
  },
  {
   "cell_type": "markdown",
   "metadata": {},
   "source": [
    "### 1.3 Test Statistic"
   ]
  },
  {
   "cell_type": "code",
   "execution_count": 28,
   "metadata": {},
   "outputs": [
    {
     "data": {
      "text/plain": [
       "Ttest_indResult(statistic=45.927800031408694, pvalue=0.0)"
      ]
     },
     "execution_count": 28,
     "metadata": {},
     "output_type": "execute_result"
    }
   ],
   "source": [
    "# perform t-test\n",
    "from scipy import stats\n",
    "t_test = stats.ttest_ind(df_cardio['BMI'], df_ncardio['BMI'])\n",
    "t_test"
   ]
  },
  {
   "cell_type": "markdown",
   "metadata": {},
   "source": [
    "Based on our calculations, we get a t-score of **45.927** and a p-value of **0.000**. Our p-value is less than our alpha of **0.05** which means we can **reject our null hypothesis** and support the alternative."
   ]
  },
  {
   "cell_type": "markdown",
   "metadata": {},
   "source": [
    "### 1.4 Effect Size\n",
    "As an effect size, Cohen's d is typically used to represent the magnitude of differences between two (or more) groups on a given variable, with larger values representing a greater differentiation between the two groups on that variable.\n",
    "\n",
    "Cohen provides the following descriptive interpretations of d as a rule of thumb:\n",
    "* h = 0.20: \"small effect size\"\n",
    "* h = 0.50: \"medium effect size\"\n",
    "* h = 0.80: \"large effect size\""
   ]
  },
  {
   "cell_type": "code",
   "execution_count": 29,
   "metadata": {},
   "outputs": [],
   "source": [
    "# create a function that calculates Cohen's D value\n",
    "def Cohen_d(group1, group2):\n",
    "\n",
    "    diff = group1.mean() - group2.mean()\n",
    "\n",
    "    n1, n2 = len(group1), len(group2)\n",
    "    var1 = group1.var()\n",
    "    var2 = group2.var()\n",
    "    \n",
    "    # Calculate the pooled threshold as shown earlier\n",
    "    pooled_var = (n1 * var1 + n2 * var2) / (n1 + n2)\n",
    "    \n",
    "    # Calculate Cohen's d statistic\n",
    "    d = diff / np.sqrt(pooled_var)\n",
    "    \n",
    "    return d"
   ]
  },
  {
   "cell_type": "code",
   "execution_count": 30,
   "metadata": {},
   "outputs": [
    {
     "data": {
      "text/plain": [
       "0.36185016033939754"
      ]
     },
     "execution_count": 30,
     "metadata": {},
     "output_type": "execute_result"
    }
   ],
   "source": [
    "# calculate effect size using the Cohen's D function\n",
    "n = len(df_cardio)\n",
    "effect_size = Cohen_d(df_cardio['BMI'], df_ncardio['BMI'])\n",
    "effect_size"
   ]
  },
  {
   "cell_type": "markdown",
   "metadata": {},
   "source": [
    "### 1.5 Power Analysis"
   ]
  },
  {
   "cell_type": "code",
   "execution_count": 31,
   "metadata": {},
   "outputs": [
    {
     "data": {
      "text/plain": [
       "1.0"
      ]
     },
     "execution_count": 31,
     "metadata": {},
     "output_type": "execute_result"
    }
   ],
   "source": [
    "# calculate power value\n",
    "statsmodels.stats.power.tt_ind_solve_power(effect_size = effect_size, nobs1 = 32412, alpha = .05, power = None, ratio = (32030/32412))"
   ]
  },
  {
   "cell_type": "code",
   "execution_count": 32,
   "metadata": {},
   "outputs": [
    {
     "data": {
      "image/png": "[encoded data removed]",
      "text/plain": [
       "<Figure size 792x576 with 1 Axes>"
      ]
     },
     "metadata": {
      "needs_background": "light"
     },
     "output_type": "display_data"
    }
   ],
   "source": [
    "fig = plt.figure()\n",
    "ax = fig.add_subplot(2, 1, 1)\n",
    "fig = TTestIndPower().plot_power(dep_var='nobs',\n",
    "                                 nobs=np.arange(2, 1000),\n",
    "                                 effect_size= np.array([0.2, 0.36185016033939754, 0.5]),\n",
    "                                 alpha=0.05,\n",
    "                                 ax=ax, title='Power of t-Test' + '\\n' + r'$\\alpha = 0.05$')\n",
    "plt.subplots_adjust(bottom=0.2, right=0.8, top=2.0)\n",
    "# ax.get_legend().remove()\n",
    "# ax = fig.add_subplot(2, 1, 2)\n",
    "# fig = TTestIndPower().plot_power(dep_var='nobs',\n",
    "#                                  nobs=np.arange(2, 1000),\n",
    "#                                  effect_size= np.array([0.2, 0.36185016033939754, 0.5]),\n",
    "#                                  alpha=0.01,\n",
    "#                                  ax=ax, title=r'$\\alpha = 0.01$')"
   ]
  },
  {
   "cell_type": "markdown",
   "metadata": {},
   "source": [
    "### 1.6 Conclusion\n",
    "\n",
    "**A one tail t-test with $\\alpha$ = 0.05 was used to analyze if people with cardiovasular disease have a higher BMI than people without cardiovascular disease:**\n",
    "\n",
    "* BMI was calculated using the patient's height and weight. Groups were divided by people with the disease and people without.\n",
    "\n",
    "* The mean BMI of the people who have Cardiovascular disease is 28.561.\n",
    "\n",
    "* The mean BMI of the people who don’t have Cardiovascular disease is 26.814.\n",
    "\n",
    "* There was a **statistically significant difference** between both groups' expenditures with t= \n",
    "45.927 and p = 0.000.\n",
    "\n",
    "* I can therefore reject the null hypothesis in support of the alternative: People with cardiovasular disease have higher BMI than the people without the disease.\n",
    "\n",
    "* Moreover, the calculated effect size is extremely high, pointing to a **large practical significance**.\n",
    "\n",
    "* My $\\alpha$ = 0.05 is effectively the probability that I might mistakenly reject the null hypothesis when it is actually true. This is called a \"Type 1 Error\". <br> With a significance level set to 5%, I am saying that only a small probability of a Type 1 error occurring is acceptable. The opposite is a \"Type 2 Error\" where I may mistakenly support the null hypothesis when the alternative is actually true."
   ]
  },
  {
   "cell_type": "markdown",
   "metadata": {},
   "source": [
    "## 2. Question: Gender and Blood Pressure\n",
    "> Given high blood pressure, do the proportion of males equal to the proportion of females with cardiovascular disease?"
   ]
  },
  {
   "cell_type": "markdown",
   "metadata": {},
   "source": [
    "### 2.1 Hypothesis\n",
    "\n",
    "$H_0$: Males with high blood pressure are equally likely to be diagnosed with cardiovascular disease as women.\n",
    "\n",
    "> $H_0: p_m = p_w$\n",
    "\n",
    "$H_1$: There is a difference in proportion between males with high blood pressure and cardiovascular disease and the proportion of females with high blood pressure and cardiovascular disease.\n",
    "> $H_0: p_m = p_w$\n",
    "\n",
    "> $H_1:  p_m \\neq p_w$\n",
    "\n",
    "I set my significance level: \n",
    "\n",
    "> **$\\alpha$ = 0.05**\n",
    "\n",
    "Since I specify the direction of the difference, it's a **two proportion z-test**."
   ]
  },
  {
   "cell_type": "markdown",
   "metadata": {},
   "source": [
    "### 2.2 Statistical Analysis"
   ]
  },
  {
   "cell_type": "code",
   "execution_count": 33,
   "metadata": {},
   "outputs": [
    {
     "data": {
      "text/plain": [
       "(10789, 16)"
      ]
     },
     "execution_count": 33,
     "metadata": {},
     "output_type": "execute_result"
    }
   ],
   "source": [
    "# creating a new dataframe that only has males with high blood pressure and cardiovascular disease\n",
    "df_males = df[(df.gender == 2) & (df.blood_pressure == 1) & (df.cardio == 1)]\n",
    "df_males.shape"
   ]
  },
  {
   "cell_type": "code",
   "execution_count": 34,
   "metadata": {},
   "outputs": [
    {
     "data": {
      "text/plain": [
       "(18759, 16)"
      ]
     },
     "execution_count": 34,
     "metadata": {},
     "output_type": "execute_result"
    }
   ],
   "source": [
    "# creating a new dataframe that only has females with high blood pressure and cardiovascular disease\n",
    "df_females = df[(df.gender == 1) & (df.blood_pressure == 1) & (df.cardio == 1)]\n",
    "df_females.shape"
   ]
  },
  {
   "cell_type": "code",
   "execution_count": 35,
   "metadata": {},
   "outputs": [
    {
     "data": {
      "text/plain": [
       "1    41214\n",
       "2    23228\n",
       "Name: gender, dtype: int64"
      ]
     },
     "execution_count": 35,
     "metadata": {},
     "output_type": "execute_result"
    }
   ],
   "source": [
    "# counting the total population based on gender\n",
    "# 1 = female, 2 = male\n",
    "df.gender.value_counts()"
   ]
  },
  {
   "cell_type": "code",
   "execution_count": 36,
   "metadata": {},
   "outputs": [
    {
     "data": {
      "image/png": "[encoded data removed]",
      "text/plain": [
       "<Figure size 792x576 with 1 Axes>"
      ]
     },
     "metadata": {
      "needs_background": "light"
     },
     "output_type": "display_data"
    }
   ],
   "source": [
    "# visualize relationship between cardio with gender\n",
    "sns.countplot(x='cardio',data=df,hue='gender',palette='rainbow');"
   ]
  },
  {
   "cell_type": "code",
   "execution_count": 37,
   "metadata": {},
   "outputs": [
    {
     "data": {
      "image/png": "[encoded data removed]",
      "text/plain": [
       "<Figure size 792x576 with 1 Axes>"
      ]
     },
     "metadata": {
      "needs_background": "light"
     },
     "output_type": "display_data"
    }
   ],
   "source": [
    "# visualize relationship between cardio with gender\n",
    "sns.countplot(x='cardio',data=df,hue='blood_pressure',palette='RdBu');"
   ]
  },
  {
   "cell_type": "markdown",
   "metadata": {},
   "source": [
    "### 2.3 Test Statistic"
   ]
  },
  {
   "cell_type": "code",
   "execution_count": 38,
   "metadata": {},
   "outputs": [
    {
     "data": {
      "text/plain": [
       "4.203606592372722"
      ]
     },
     "execution_count": 38,
     "metadata": {},
     "output_type": "execute_result"
    }
   ],
   "source": [
    "# create a function for the two proportions z-test\n",
    "\n",
    "def two_z_test (p1, p2, p, n1, n2):\n",
    "    return (((p1-p2)-0) / (math.sqrt(p*(1-p)*((1/n1)+(1/n2)))))\n",
    "\n",
    "# assign variables\n",
    "\n",
    "p1 = 7470/23228 # male proportion\n",
    "p2 = 12596/41214 # female proportion\n",
    "p = (7470+12596) / (23228+41214) # total combined proportion\n",
    "n1 = 23228 # total male population\n",
    "n2 = 41214 # total female population\n",
    "\n",
    "z = two_z_test (p1, p2, p, n1, n2)\n",
    "z"
   ]
  },
  {
   "cell_type": "code",
   "execution_count": 39,
   "metadata": {},
   "outputs": [
    {
     "name": "stdout",
     "output_type": "stream",
     "text": [
      "0.3215946271741002 0.30562430242150723\n"
     ]
    }
   ],
   "source": [
    "print(p1, p2)"
   ]
  },
  {
   "cell_type": "code",
   "execution_count": 40,
   "metadata": {},
   "outputs": [
    {
     "data": {
      "text/plain": [
       "2.6269535658318688e-05"
      ]
     },
     "execution_count": 40,
     "metadata": {},
     "output_type": "execute_result"
    }
   ],
   "source": [
    "# calculate p-value\n",
    "\n",
    "p_val = 1 - stats.norm.cdf(z)\n",
    "p_val*2"
   ]
  },
  {
   "cell_type": "markdown",
   "metadata": {},
   "source": [
    "Based on our calculations, we get a z-score of **4.203** and a p-value of approximately **0.000026**. Our p-value is less than our alpha of **0.05** which means we can **reject our null hypothesis** and support the alternative."
   ]
  },
  {
   "cell_type": "markdown",
   "metadata": {},
   "source": [
    "### 2.4 Effect Size\n",
    "\n",
    "For proportional z-tests, we use the Cohen's h formula to measure effect size. To calculate Cohen's h, the function below will take in the two samples we are comparing. By calculating the difference of two proportions.\n",
    "\n",
    "Cohen provides the following descriptive interpretations of h as a rule of thumb:\n",
    "* h = 0.20: \"small effect size\"\n",
    "* h = 0.50: \"medium effect size\"\n",
    "* h = 0.80: \"large effect size\""
   ]
  },
  {
   "cell_type": "code",
   "execution_count": 41,
   "metadata": {
    "scrolled": true
   },
   "outputs": [
    {
     "data": {
      "text/plain": [
       "0.03442431862626405"
      ]
     },
     "execution_count": 41,
     "metadata": {},
     "output_type": "execute_result"
    }
   ],
   "source": [
    "# create a function for Cohen's h formula\n",
    "\n",
    "def cohensh (p1,p2):\n",
    "    phi1 = 2*np.arcsin(np.sqrt(p1))\n",
    "    phi2 = 2*np.arcsin(np.sqrt(p2))\n",
    "    h = np.absolute(phi1-phi2)\n",
    "    return h\n",
    "\n",
    "cohensh (p1, p2)"
   ]
  },
  {
   "cell_type": "markdown",
   "metadata": {},
   "source": [
    "### 2.5 Power Analysis"
   ]
  },
  {
   "cell_type": "code",
   "execution_count": 42,
   "metadata": {},
   "outputs": [
    {
     "data": {
      "text/plain": [
       "0.6544414890477017"
      ]
     },
     "execution_count": 42,
     "metadata": {},
     "output_type": "execute_result"
    }
   ],
   "source": [
    "# calculate the power value\n",
    "statsmodels.stats.power.zt_ind_solve_power(effect_size = cohensh (p1, p2), nobs1 = 7470, alpha = .05, power = None, ratio = (12596/7470))"
   ]
  },
  {
   "cell_type": "code",
   "execution_count": 43,
   "metadata": {},
   "outputs": [
    {
     "data": {
      "image/png": "[encoded data removed]",
      "text/plain": [
       "<Figure size 792x576 with 1 Axes>"
      ]
     },
     "metadata": {
      "needs_background": "light"
     },
     "output_type": "display_data"
    }
   ],
   "source": [
    "fig = plt.figure()\n",
    "ax = fig.add_subplot(2, 1, 1)\n",
    "fig = TTestIndPower().plot_power(dep_var='nobs',\n",
    "                                 nobs=np.arange(2, 40000),\n",
    "                                 effect_size= np.array([0.03442431862626405, 0.2, .3]),\n",
    "                                 alpha=0.05,\n",
    "                                 ax=ax, title='Power of t-Test' + '\\n' + r'$\\alpha = 0.05$')\n",
    "plt.subplots_adjust(bottom=0.2, right=0.8, top=2.0)\n",
    "# ax.get_legend().remove()\n",
    "# ax = fig.add_subplot(2, 1, 2)\n",
    "# fig = TTestIndPower().plot_power(dep_var='nobs',\n",
    "#                                  nobs=np.arange(2, 40000),\n",
    "#                                  effect_size= np.array([0.03442431862626405, 0.2, 0.3]),\n",
    "#                                  alpha=0.01,\n",
    "#                                  ax=ax, title=r'$\\alpha = 0.01$')"
   ]
  },
  {
   "cell_type": "markdown",
   "metadata": {},
   "source": [
    "### 2.6 Conclusion\n",
    "\n",
    "**A two proportion z-test with $\\alpha$ = 0.05 was used to analyze whether the proportion of males with high blood pressure and cardiovascular disease are equal to the proportion of females with high blood pressure and cardiovascular disease:**\n",
    "\n",
    "* Patients who have a systolic blood pressure levels less than 130 AND diastolic blood pressure levels less than 80 were classified as not having high blood pressure.\n",
    "\n",
    "* Patients who have either a systolic blood pressure levels greater than or equal to 130 OR diastolic blood pressure levels greater than or equal to 80 were classified as having high blood pressure.\n",
    "\n",
    "* There was a **statistically significant difference** between both groups' expenditures with t= \n",
    "4.2036 and p = 0.000026.\n",
    "\n",
    "* I can therefore reject the null hypothesis in support of the alternative: There is a difference in proportion between males with high blood pressure and cardiovascular disease and the proportion of females with high blood pressure and cardiovascular disease.\n",
    "\n",
    "* Moreover, the calculated effect size is extremely low, pointing to a **small practical significance**.\n",
    "\n",
    "* My $\\alpha$ = 0.05 is effectively the probability that I might mistakenly reject the null hypothesis when it is actually true. This is called a \"Type 1 Error\". <br> With a significance level set to 5%, I am saying that only a small probability of a Type 1 error occurring is acceptable. The opposite is a \"Type 2 Error\" where I may mistakenly support the null hypothesis when the alternative is actually true."
   ]
  },
  {
   "cell_type": "markdown",
   "metadata": {},
   "source": [
    "## 3. Question: Cholesterol\n",
    "\n",
    "> Does the proportion of people with high cholesterol levels equal to the proportion of people who have normal cholesterol levels with the disease?"
   ]
  },
  {
   "cell_type": "markdown",
   "metadata": {},
   "source": [
    "### 3.1 Hypothesis\n",
    "\n",
    "$H_0$: People with high levels of cholesterol are equally likely to be diagnosed with cardiovascular disease as people with normal levels of cholesterol.\n",
    "\n",
    "> $H_0: p_h = p_n$\n",
    "\n",
    "$H_1$: People with high levels of cholesterol are more likely to be diagnosed with cardiovascular disease as people with normal levels of cholesterol.\n",
    "\n",
    "> $H_1:  p_h > p_n$\n",
    "\n",
    "I set my significance level: \n",
    "\n",
    "> **$\\alpha$ = 0.05**\n",
    "\n",
    "Since I specify the direction of the difference, it's a **one-tailed t-test**."
   ]
  },
  {
   "cell_type": "markdown",
   "metadata": {},
   "source": [
    "### 3.2 Statistical Analysis"
   ]
  },
  {
   "cell_type": "code",
   "execution_count": 44,
   "metadata": {},
   "outputs": [
    {
     "data": {
      "text/plain": [
       "(21419, 16)"
      ]
     },
     "execution_count": 44,
     "metadata": {},
     "output_type": "execute_result"
    }
   ],
   "source": [
    "# creating a new dataframe that only has people with normal cholesterol levels and cardiovascular disease\n",
    "df_norm_chol = df[(df.cholesterol == 1) & (df.cardio == 1)]\n",
    "df_norm_chol.shape"
   ]
  },
  {
   "cell_type": "code",
   "execution_count": 45,
   "metadata": {},
   "outputs": [
    {
     "data": {
      "text/plain": [
       "(10993, 16)"
      ]
     },
     "execution_count": 45,
     "metadata": {},
     "output_type": "execute_result"
    }
   ],
   "source": [
    "# creating a new dataframe that only has people with high cholesterol levels and cardiovascular disease\n",
    "df_hi_chol = df[((df.cholesterol == 2) | (df.cholesterol == 3)) & (df.cardio == 1)]\n",
    "df_hi_chol.shape"
   ]
  },
  {
   "cell_type": "code",
   "execution_count": 46,
   "metadata": {},
   "outputs": [
    {
     "data": {
      "text/plain": [
       "1    48257\n",
       "2     8700\n",
       "3     7485\n",
       "Name: cholesterol, dtype: int64"
      ]
     },
     "execution_count": 46,
     "metadata": {},
     "output_type": "execute_result"
    }
   ],
   "source": [
    "# counting the total population \n",
    "df.cholesterol.value_counts()"
   ]
  },
  {
   "cell_type": "code",
   "execution_count": 47,
   "metadata": {},
   "outputs": [
    {
     "data": {
      "image/png": "[encoded data removed]",
      "text/plain": [
       "<Figure size 792x576 with 1 Axes>"
      ]
     },
     "metadata": {
      "needs_background": "light"
     },
     "output_type": "display_data"
    }
   ],
   "source": [
    "# shows categorical variables and their respective distribution\n",
    "df_categorical = df.loc[:,['cholesterol']]\n",
    "sns.countplot(x=\"variable\", hue=\"value\",data= pd.melt(df_categorical));"
   ]
  },
  {
   "cell_type": "code",
   "execution_count": 48,
   "metadata": {},
   "outputs": [
    {
     "data": {
      "image/png": "[encoded data removed]",
      "text/plain": [
       "<Figure size 792x576 with 1 Axes>"
      ]
     },
     "metadata": {
      "needs_background": "light"
     },
     "output_type": "display_data"
    }
   ],
   "source": [
    "# visualize relationship between cardio with gender\n",
    "sns.countplot(x='cardio',data=df,hue='cholesterol',palette='rainbow');"
   ]
  },
  {
   "cell_type": "markdown",
   "metadata": {},
   "source": [
    "### 3.3 Test Statistic"
   ]
  },
  {
   "cell_type": "code",
   "execution_count": 49,
   "metadata": {},
   "outputs": [
    {
     "data": {
      "text/plain": [
       "51.82218458219327"
      ]
     },
     "execution_count": 49,
     "metadata": {},
     "output_type": "execute_result"
    }
   ],
   "source": [
    "# create a function for the two proportions z-test\n",
    "\n",
    "def two_z_test (p1, p2, p, n1, n2):\n",
    "    return (((p1-p2)-0) / (math.sqrt(p*(1-p)*((1/n1)+(1/n2)))))\n",
    "\n",
    "# assign variables\n",
    "p1_ = 10993/16185 # high cholesterol proportion\n",
    "p2_ = 21419/48257 # normal cholesterol proportion\n",
    "p_ = (21419+10993) / (64442) # total combine proportion\n",
    "n1_ = 16185 #total population\n",
    "n2_ = 48257 # total population\n",
    "\n",
    "z = two_z_test (p1_, p2_, p_, n1_, n2_)\n",
    "z"
   ]
  },
  {
   "cell_type": "code",
   "execution_count": 50,
   "metadata": {},
   "outputs": [
    {
     "data": {
      "text/plain": [
       "0.0"
      ]
     },
     "execution_count": 50,
     "metadata": {},
     "output_type": "execute_result"
    }
   ],
   "source": [
    "# calculate p-value\n",
    "\n",
    "p_val_ = 1 - stats.norm.cdf(z)\n",
    "p_val_"
   ]
  },
  {
   "cell_type": "markdown",
   "metadata": {},
   "source": [
    "Based on our calculations, we get a z-score of **51.822** and a p-value of approximately **0.000**. Our p-value is less than our alpha of **0.05** which means we can **reject our null hypothesis** and support the alternative."
   ]
  },
  {
   "cell_type": "markdown",
   "metadata": {},
   "source": [
    "### 3.4 Effect Size\n",
    "\n",
    "For proportional z-tests, we use the Cohen's h formula to measure effect size. To calculate Cohen's h, the function below will take in the two samples we are comparing. By calculating the difference of two proportions.\n",
    "\n",
    "Cohen provides the following descriptive interpretations of h as a rule of thumb:\n",
    "* h = 0.20: \"small effect size\"\n",
    "* h = 0.50: \"medium effect size\"\n",
    "* h = 0.80: \"large effect size\""
   ]
  },
  {
   "cell_type": "code",
   "execution_count": 51,
   "metadata": {},
   "outputs": [
    {
     "data": {
      "text/plain": [
       "0.4791050097892193"
      ]
     },
     "execution_count": 51,
     "metadata": {},
     "output_type": "execute_result"
    }
   ],
   "source": [
    "# create a function for Cohen's h formula\n",
    "\n",
    "def cohensh (p1,p2):\n",
    "    phi1 = 2*np.arcsin(np.sqrt(p1))\n",
    "    phi2 = 2*np.arcsin(np.sqrt(p2))\n",
    "    h = np.absolute(phi1-phi2)\n",
    "    return h\n",
    "\n",
    "cohensh (p1_, p2_)"
   ]
  },
  {
   "cell_type": "markdown",
   "metadata": {},
   "source": [
    "### 3.5 Power Analysis"
   ]
  },
  {
   "cell_type": "code",
   "execution_count": 52,
   "metadata": {},
   "outputs": [
    {
     "data": {
      "text/plain": [
       "1.0"
      ]
     },
     "execution_count": 52,
     "metadata": {},
     "output_type": "execute_result"
    }
   ],
   "source": [
    "# \n",
    "statsmodels.stats.power.zt_ind_solve_power(effect_size = cohensh (p1_, p2_), nobs1 = 10993, alpha = .05, power = None, ratio = (21419/10993))"
   ]
  },
  {
   "cell_type": "code",
   "execution_count": 53,
   "metadata": {},
   "outputs": [
    {
     "data": {
      "image/png": "[encoded data removed]",
      "text/plain": [
       "<Figure size 792x576 with 1 Axes>"
      ]
     },
     "metadata": {
      "needs_background": "light"
     },
     "output_type": "display_data"
    }
   ],
   "source": [
    "fig = plt.figure()\n",
    "ax = fig.add_subplot(2, 1, 1)\n",
    "fig = TTestIndPower().plot_power(dep_var='nobs',\n",
    "                                 nobs=np.arange(2, 200),\n",
    "                                 effect_size= np.array([0.4791050097892193, 0.5, 0.8]),\n",
    "                                 alpha=0.05,\n",
    "                                 ax=ax, title='Power of t-Test' + '\\n' + r'$\\alpha = 0.05$')\n",
    "plt.subplots_adjust(bottom=0.2, right=0.8, top=2.0)\n",
    "# ax.get_legend().remove()\n",
    "# ax = fig.add_subplot(2, 1, 2)\n",
    "# fig = TTestIndPower().plot_power(dep_var='nobs',\n",
    "#                                  nobs=np.arange(2, 200),\n",
    "#                                  effect_size= np.array([0.2, 0.4791050097892193, 0.5, 0.8]),\n",
    "#                                  alpha=0.01,\n",
    "#                                  ax=ax, title=r'$\\alpha = 0.01$')"
   ]
  },
  {
   "cell_type": "markdown",
   "metadata": {},
   "source": [
    "### 3.6 Conclusion\n",
    "\n",
    "**A two proportion z-test with $\\alpha$ = 0.05 was used to analyze whether the proportion of people with high cholesterol levels equal to the proportion of people who have normal cholesterol levels with the disease?**\n",
    "\n",
    "* Patients who have a normal cholesterol levels are categorized with the value 1.\n",
    "\n",
    "* Patients who have a high cholesterol levels are categorized with the value 2 or 3.\n",
    "\n",
    "* There was a **statistically significant difference** between both groups' expenditures with t= \n",
    "51.822 and p = 0.0000.\n",
    "\n",
    "* I can therefore confidently reject the null hypothesis in support of the alternative: People with high levels of cholesterol are more likely to be diagnosed with cardiovascular disease as people with normal levels of cholesterol.\n",
    "\n",
    "* Moreover, the calculated effect size is moderate, pointing to a **medium practical significance**.\n",
    "\n",
    "* My $\\alpha$ = 0.05 is effectively the probability that I might mistakenly reject the null hypothesis when it is actually true. This is called a \"Type 1 Error\". <br> With a significance level set to 5%, I am saying that only a small probability of a Type 1 error occurring is acceptable. The opposite is a \"Type 2 Error\" where I may mistakenly support the null hypothesis when the alternative is actually true."
   ]
  }
 ],
 "metadata": {
  "kernelspec": {
   "display_name": "Python 3",
   "language": "python",
   "name": "python3"
  },
  "language_info": {
   "codemirror_mode": {
    "name": "ipython",
    "version": 3
   },
   "file_extension": ".py",
   "mimetype": "text/x-python",
   "name": "python",
   "nbconvert_exporter": "python",
   "pygments_lexer": "ipython3",
   "version": "3.6.6"
  }
 },
 "nbformat": 4,
 "nbformat_minor": 2
}
