{
 "cells": [
  {
   "cell_type": "code",
   "execution_count": 1,
   "metadata": {},
   "outputs": [],
   "source": [
    "# import libraries\n",
    "import sqlalchemy\n",
    "import pandas as pd\n",
    "import numpy as np\n",
    "\n",
    "from sqlalchemy import create_engine\n",
    "from sqlalchemy import inspect\n",
    "\n",
    "import matplotlib.pyplot as plt\n",
    "import seaborn as sns\n",
    "plt.style.use('seaborn')"
   ]
  },
  {
   "cell_type": "code",
   "execution_count": 2,
   "metadata": {},
   "outputs": [
    {
     "name": "stdout",
     "output_type": "stream",
     "text": [
      "['Category', 'Customer', 'CustomerCustomerDemo', 'CustomerDemographic', 'Employee', 'EmployeeTerritory', 'Order', 'OrderDetail', 'Product', 'Region', 'Shipper', 'Supplier', 'Territory']\n"
     ]
    }
   ],
   "source": [
    "# connecting to the Database using SQLAlchemy\n",
    "engine = create_engine(\"sqlite:///Northwind_small.sqlite\")\n",
    "\n",
    "# create an inspector object\n",
    "inspector = inspect(engine)\n",
    "\n",
    "# get names of tables in database\n",
    "print(inspector.get_table_names())"
   ]
  },
  {
   "cell_type": "code",
   "execution_count": 3,
   "metadata": {},
   "outputs": [],
   "source": [
    "# write a quick function that prints the columns of a table and each column's type\n",
    "\n",
    "def get_columns_info(table_name):    \n",
    "    \"\"\" Function takes in table name and prints columns' names\n",
    "    and datatypes \"\"\"\n",
    "    \n",
    "    cols_list = inspector.get_columns(table_name)    \n",
    "    print(f\"Table Name: {table_name}\\n\")\n",
    "    for col in cols_list:\n",
    "        print(f\"Name: {col['name']} \\t Type: {col['type']}\")"
   ]
  },
  {
   "cell_type": "code",
   "execution_count": 4,
   "metadata": {},
   "outputs": [
    {
     "name": "stdout",
     "output_type": "stream",
     "text": [
      "Table Name: Product\n",
      "\n",
      "Name: Id \t Type: INTEGER\n",
      "Name: ProductName \t Type: VARCHAR(8000)\n",
      "Name: SupplierId \t Type: INTEGER\n",
      "Name: CategoryId \t Type: INTEGER\n",
      "Name: QuantityPerUnit \t Type: VARCHAR(8000)\n",
      "Name: UnitPrice \t Type: DECIMAL\n",
      "Name: UnitsInStock \t Type: INTEGER\n",
      "Name: UnitsOnOrder \t Type: INTEGER\n",
      "Name: ReorderLevel \t Type: INTEGER\n",
      "Name: Discontinued \t Type: INTEGER\n"
     ]
    }
   ],
   "source": [
    "# calling the function to test it\n",
    "get_columns_info('Product')"
   ]
  },
  {
   "cell_type": "markdown",
   "metadata": {},
   "source": [
    "## 1. Question: Effect of Discount on Sales\n",
    "\n",
    "Does discount amount have a statistical significant effect on the quantity of a product in an order? If so, at what level(s) of discount?"
   ]
  },
  {
   "cell_type": "code",
   "execution_count": 5,
   "metadata": {},
   "outputs": [],
   "source": [
    "# using the pd.read_sql_query() method to get the \"OrderDetail\" table only\n",
    "df1 = pd.read_sql_query('''SELECT * FROM OrderDetail;''', engine)"
   ]
  },
  {
   "cell_type": "code",
   "execution_count": 6,
   "metadata": {},
   "outputs": [
    {
     "name": "stdout",
     "output_type": "stream",
     "text": [
      "1. Rows and Columns:\n",
      "(2155, 6)\n",
      "...............................\n",
      "\n",
      "2. Info:\n",
      "<class 'pandas.core.frame.DataFrame'>\n",
      "RangeIndex: 2155 entries, 0 to 2154\n",
      "Data columns (total 6 columns):\n",
      "Id           2155 non-null object\n",
      "OrderId      2155 non-null int64\n",
      "ProductId    2155 non-null int64\n",
      "UnitPrice    2155 non-null float64\n",
      "Quantity     2155 non-null int64\n",
      "Discount     2155 non-null float64\n",
      "dtypes: float64(2), int64(3), object(1)\n",
      "memory usage: 101.1+ KB\n",
      "None\n",
      "...............................\n",
      "\n",
      "3. Dataframe:\n"
     ]
    },
    {
     "data": {
      "text/html": [
       "<div>\n",
       "<style scoped>\n",
       "    .dataframe tbody tr th:only-of-type {\n",
       "        vertical-align: middle;\n",
       "    }\n",
       "\n",
       "    .dataframe tbody tr th {\n",
       "        vertical-align: top;\n",
       "    }\n",
       "\n",
       "    .dataframe thead th {\n",
       "        text-align: right;\n",
       "    }\n",
       "</style>\n",
       "<table border=\"1\" class=\"dataframe\">\n",
       "  <thead>\n",
       "    <tr style=\"text-align: right;\">\n",
       "      <th></th>\n",
       "      <th>Id</th>\n",
       "      <th>OrderId</th>\n",
       "      <th>ProductId</th>\n",
       "      <th>UnitPrice</th>\n",
       "      <th>Quantity</th>\n",
       "      <th>Discount</th>\n",
       "    </tr>\n",
       "  </thead>\n",
       "  <tbody>\n",
       "    <tr>\n",
       "      <th>0</th>\n",
       "      <td>10248/11</td>\n",
       "      <td>10248</td>\n",
       "      <td>11</td>\n",
       "      <td>14.0</td>\n",
       "      <td>12</td>\n",
       "      <td>0.0</td>\n",
       "    </tr>\n",
       "    <tr>\n",
       "      <th>1</th>\n",
       "      <td>10248/42</td>\n",
       "      <td>10248</td>\n",
       "      <td>42</td>\n",
       "      <td>9.8</td>\n",
       "      <td>10</td>\n",
       "      <td>0.0</td>\n",
       "    </tr>\n",
       "    <tr>\n",
       "      <th>2</th>\n",
       "      <td>10248/72</td>\n",
       "      <td>10248</td>\n",
       "      <td>72</td>\n",
       "      <td>34.8</td>\n",
       "      <td>5</td>\n",
       "      <td>0.0</td>\n",
       "    </tr>\n",
       "    <tr>\n",
       "      <th>3</th>\n",
       "      <td>10249/14</td>\n",
       "      <td>10249</td>\n",
       "      <td>14</td>\n",
       "      <td>18.6</td>\n",
       "      <td>9</td>\n",
       "      <td>0.0</td>\n",
       "    </tr>\n",
       "    <tr>\n",
       "      <th>4</th>\n",
       "      <td>10249/51</td>\n",
       "      <td>10249</td>\n",
       "      <td>51</td>\n",
       "      <td>42.4</td>\n",
       "      <td>40</td>\n",
       "      <td>0.0</td>\n",
       "    </tr>\n",
       "  </tbody>\n",
       "</table>\n",
       "</div>"
      ],
      "text/plain": [
       "         Id  OrderId  ProductId  UnitPrice  Quantity  Discount\n",
       "0  10248/11    10248         11       14.0        12       0.0\n",
       "1  10248/42    10248         42        9.8        10       0.0\n",
       "2  10248/72    10248         72       34.8         5       0.0\n",
       "3  10249/14    10249         14       18.6         9       0.0\n",
       "4  10249/51    10249         51       42.4        40       0.0"
      ]
     },
     "execution_count": 6,
     "metadata": {},
     "output_type": "execute_result"
    }
   ],
   "source": [
    "print('1. Rows and Columns:')\n",
    "print(df1.shape)\n",
    "print('...............................')\n",
    "print('\\n2. Info:')\n",
    "print(df1.info())\n",
    "print('...............................\\n\\n3. Dataframe:')\n",
    "df1.head()"
   ]
  },
  {
   "cell_type": "code",
   "execution_count": 7,
   "metadata": {},
   "outputs": [
    {
     "data": {
      "text/plain": [
       "0.00    1317\n",
       "0.05     185\n",
       "0.10     173\n",
       "0.20     161\n",
       "0.15     157\n",
       "0.25     154\n",
       "0.03       3\n",
       "0.02       2\n",
       "0.01       1\n",
       "0.04       1\n",
       "0.06       1\n",
       "Name: Discount, dtype: int64"
      ]
     },
     "execution_count": 7,
     "metadata": {},
     "output_type": "execute_result"
    }
   ],
   "source": [
    "df1.Discount.value_counts()"
   ]
  },
  {
   "cell_type": "code",
   "execution_count": 8,
   "metadata": {},
   "outputs": [
    {
     "data": {
      "text/plain": [
       "0.00    1317\n",
       "0.05     185\n",
       "0.10     173\n",
       "0.20     161\n",
       "0.15     157\n",
       "0.25     154\n",
       "Name: Discount, dtype: int64"
      ]
     },
     "execution_count": 8,
     "metadata": {},
     "output_type": "execute_result"
    }
   ],
   "source": [
    "crit = (df1.Discount == 0.00) | (df1.Discount == 0.05) | (df1.Discount == 0.10) | (df1.Discount == 0.15) | (df1.Discount == 0.20) | (df1.Discount == 0.25)\n",
    "\n",
    "df1_test = df1.loc[crit]\n",
    "df1_test.Discount.value_counts()"
   ]
  },
  {
   "cell_type": "code",
   "execution_count": 9,
   "metadata": {},
   "outputs": [
    {
     "data": {
      "image/png": "[encoded data removed]",
      "text/plain": [
       "<Figure size 432x288 with 1 Axes>"
      ]
     },
     "metadata": {
      "needs_background": "light"
     },
     "output_type": "display_data"
    }
   ],
   "source": [
    "# plot histogram of frequency of discounts given\n",
    "df1_test.Discount.hist(bins = 6, width = .02, align = 'mid', figsize=(6, 4));"
   ]
  },
  {
   "cell_type": "markdown",
   "metadata": {},
   "source": [
    "Overall, most customers are not receiving any amount of discount. Of those who receive discounts, the frequency (or spread) is roughly evenly distributed."
   ]
  },
  {
   "cell_type": "code",
   "execution_count": 10,
   "metadata": {},
   "outputs": [
    {
     "data": {
      "image/png": "[encoded data removed]",
      "text/plain": [
       "<Figure size 720x360 with 1 Axes>"
      ]
     },
     "metadata": {
      "needs_background": "light"
     },
     "output_type": "display_data"
    }
   ],
   "source": [
    "df1_test.boxplot('Quantity', by='Discount', figsize=(10, 5));"
   ]
  },
  {
   "cell_type": "markdown",
   "metadata": {},
   "source": [
    "There seems to be no definitive relationship between discount and quantity sold amongst all discount levels. There are also no outlier with each each group."
   ]
  },
  {
   "cell_type": "code",
   "execution_count": 11,
   "metadata": {},
   "outputs": [
    {
     "data": {
      "image/png": "[encoded data removed]",
      "text/plain": [
       "<Figure size 720x720 with 6 Axes>"
      ]
     },
     "metadata": {
      "needs_background": "light"
     },
     "output_type": "display_data"
    }
   ],
   "source": [
    "df1_test.hist('Quantity', by='Discount', figsize=(10, 10), color='lightblue');"
   ]
  },
  {
   "cell_type": "markdown",
   "metadata": {},
   "source": [
    "### 3.2 - Hypothesis"
   ]
  },
  {
   "cell_type": "markdown",
   "metadata": {},
   "source": [
    "$H_0$: The average number of products in an order is equal for all levels of discount.\n",
    "\n",
    "> $H_0: \\mu_1 = \\mu_2 = \\mu_3 =  ...  = \\mu_i ...  = \\mu_j$\n",
    "\n",
    "$H_1$: The average number of products in an order differs between at least two levels of discount.\n",
    "\n",
    "> $H_0: \\mu_i \\neq \\mu_j$\n",
    "\n",
    "I set my significance level: \n",
    "\n",
    "> **$\\alpha$ = 0.05**"
   ]
  },
  {
   "cell_type": "markdown",
   "metadata": {},
   "source": [
    "### 3.3 - Statistical Analysis\n",
    "\n",
    "### Appropriate Test\n",
    "\n",
    "The analysis of variance or **one-way ANOVA** is used to compare the differences between the means of two or more groups within a sample, while considering only one factor or independent variable. It can be thought of as an extension of the t-test that is used to compare the means of a condition between 2 groups. \n",
    "\n",
    "ANOVA is an omnibus test, meaning it tests the data as a whole. In other words, ANOVA tests if there is a difference in the mean somewhere in the model (testing if there was an overall effect), but it does not tell us where the difference is if there is one. To find out where the difference is between the groups, we have to conduct post-hoc tests. \n",
    "\n",
    "Although it can be thought of as an extension of the t-test in terms of when to use it, mathematically speaking it’s more of a regression model and is considered a generalized linear model (GLM).\n",
    "\n",
    "The test statistic F follows an **F-distribution with $q$ - 1 degrees of freedom**, with $q$ being the number of groups. \n",
    "\n",
    "Because of the F-distribution's shape, the significance level is always specified on the right (no one-tailed or two-tailed specification is necessary)."
   ]
  },
  {
   "cell_type": "markdown",
   "metadata": {},
   "source": [
    "### ANOVA Assumptions\n",
    "\n",
    "There are 3 assumptions that need to be met for the results of an ANOVA test to be considered accurate and trustworthy. It’s important to note that **two assumptions apply to the residuals** and not the variables themselves. The ANOVA assumptions are the same as those for linear regression, and are:\n",
    "\n",
    "\n",
    "* **Normality** <br> The caveat to this is that if group sizes are equal, the F-statistic is robust to violations of normality.\n",
    "    \n",
    "* **Homogeneity of variance** <br> Same caveat as above; if group sizes are equal, the F-statistic is robust to this violation.\n",
    "\n",
    "* **Independent observations**\n",
    "\n",
    "If possible, it is best to have equal-sized groups so corrections to the data do not need to be made. Fortunately, we are dealing with equal-sized groups here.\n",
    "\n",
    "As two of the assumptions apply to the residuals, they are tested after conducting the ANOVA. The independence of observations can be assumed!"
   ]
  },
  {
   "cell_type": "markdown",
   "metadata": {},
   "source": [
    "### Test Statistic"
   ]
  },
  {
   "cell_type": "code",
   "execution_count": 12,
   "metadata": {},
   "outputs": [
    {
     "ename": "NameError",
     "evalue": "name 'df3_test' is not defined",
     "output_type": "error",
     "traceback": [
      "\u001b[0;31m---------------------------------------------------------------------------\u001b[0m",
      "\u001b[0;31mNameError\u001b[0m                                 Traceback (most recent call last)",
      "\u001b[0;32m<ipython-input-12-d241ec388247>\u001b[0m in \u001b[0;36m<module>\u001b[0;34m()\u001b[0m\n\u001b[1;32m      3\u001b[0m \u001b[0;34m\u001b[0m\u001b[0m\n\u001b[1;32m      4\u001b[0m \u001b[0;31m# syntax for defining the ANOVA-model\u001b[0m\u001b[0;34m\u001b[0m\u001b[0;34m\u001b[0m\u001b[0m\n\u001b[0;32m----> 5\u001b[0;31m \u001b[0manova\u001b[0m \u001b[0;34m=\u001b[0m \u001b[0mols\u001b[0m\u001b[0;34m(\u001b[0m\u001b[0;34m'Quantity ~ Discount'\u001b[0m\u001b[0;34m,\u001b[0m \u001b[0mdata\u001b[0m\u001b[0;34m=\u001b[0m\u001b[0mdf3_test\u001b[0m\u001b[0;34m)\u001b[0m\u001b[0;34m.\u001b[0m\u001b[0mfit\u001b[0m\u001b[0;34m(\u001b[0m\u001b[0;34m)\u001b[0m\u001b[0;34m\u001b[0m\u001b[0m\n\u001b[0m\u001b[1;32m      6\u001b[0m \u001b[0mtable\u001b[0m \u001b[0;34m=\u001b[0m \u001b[0msm\u001b[0m\u001b[0;34m.\u001b[0m\u001b[0mstats\u001b[0m\u001b[0;34m.\u001b[0m\u001b[0manova_lm\u001b[0m\u001b[0;34m(\u001b[0m\u001b[0manova\u001b[0m\u001b[0;34m,\u001b[0m \u001b[0mtyp\u001b[0m\u001b[0;34m=\u001b[0m\u001b[0;36m2\u001b[0m\u001b[0;34m)\u001b[0m\u001b[0;34m\u001b[0m\u001b[0m\n\u001b[1;32m      7\u001b[0m \u001b[0mtable\u001b[0m\u001b[0;34m\u001b[0m\u001b[0m\n",
      "\u001b[0;31mNameError\u001b[0m: name 'df3_test' is not defined"
     ]
    }
   ],
   "source": [
    "import statsmodels.api as sm\n",
    "from statsmodels.formula.api import ols\n",
    "\n",
    "# syntax for defining the ANOVA-model\n",
    "anova = ols('Quantity ~ Discount', data=df3_test).fit()\n",
    "table = sm.stats.anova_lm(anova, typ=2)\n",
    "table"
   ]
  },
  {
   "cell_type": "markdown",
   "metadata": {},
   "source": [
    "On the left, we have our discount factor, and on the right, the probability that this factor is indeed influential. \n",
    "\n",
    "Values < .05 (i.e. our α) indicate rejection of the null hypothesis. **We can see that the discount factor appears to be highly influential.**"
   ]
  },
  {
   "cell_type": "markdown",
   "metadata": {},
   "source": [
    "**Assumption of Homogeneity of residuals' variance:**"
   ]
  },
  {
   "cell_type": "code",
   "execution_count": null,
   "metadata": {},
   "outputs": [],
   "source": [
    "# using Levene’s test to test for equal variances between groups\n",
    "from scipy import stats\n",
    "stats.levene(df3_test['Quantity'][df3_test['Discount'] == 0.00],\n",
    "             df3_test['Quantity'][df3_test['Discount'] == 0.05],\n",
    "             df3_test['Quantity'][df3_test['Discount'] == 0.10],\n",
    "             df3_test['Quantity'][df3_test['Discount'] == 0.15],\n",
    "             df3_test['Quantity'][df3_test['Discount'] == 0.20],\n",
    "             df3_test['Quantity'][df3_test['Discount'] == 0.25])"
   ]
  },
  {
   "cell_type": "markdown",
   "metadata": {},
   "source": [
    "--> Levene’s test for homogeneity of variance is significant, which indicates that the **groups don't have equal variances**. But as stated earlier, if group sizes are equal, the F-statistic is robust to this violation.\n",
    "\n",
    "**Assumption of Normality of residuals:**"
   ]
  },
  {
   "cell_type": "code",
   "execution_count": null,
   "metadata": {},
   "outputs": [],
   "source": [
    "# using Shapiro-Wilk method\n",
    "stats.shapiro(anova.resid)"
   ]
  },
  {
   "cell_type": "markdown",
   "metadata": {},
   "source": [
    "--> The output is not labelled, but the numbers are the test statistic value, followed by the p-value. The results from the Shapiro-Wilk test are statistically significant, which indicates that the **residuals are not normally distributed**. But same as above: if group sizes are equal, the F-statistic is robust to violation of normality."
   ]
  },
  {
   "cell_type": "markdown",
   "metadata": {},
   "source": [
    "### Effect Size\n",
    "\n",
    "There are a few different effect sizes for an ANOVA one can use: **eta squared (η2)**, and **omega squared (ω2)**. Omega squared is considered a better measure of effect size than eta squared because it is unbiased in its calculation.\n",
    "\n",
    "+++ Something to note: For some reason, R2 is called eta squared within the ANOVA framework, but they are the same thing. R2 is a measure of how much variance is explained by the model, and is calculated by taking the explained variance and dividing it by the total variance. +++\n",
    "\n",
    "The following code uses the ANOVA table produced by statsmodels and appends the effect size measures of eta-squared (η2) and omega-squared (ω2)."
   ]
  },
  {
   "cell_type": "code",
   "execution_count": null,
   "metadata": {},
   "outputs": [],
   "source": [
    "def anova_effect_size(aov):       \n",
    "    \"\"\" This function takes the Anova table performed with statsmodels\n",
    "    and appends two effect size measures: eta-squared and omega-squared. \"\"\"\n",
    "    \n",
    "    # mean squared\n",
    "    aov['mean_sq'] = aov[:]['sum_sq']/aov[:]['df']\n",
    "    \n",
    "    # eta-squared (η2) \n",
    "    aov['eta_sq'] = aov[:-1]['sum_sq']/sum(aov['sum_sq'])\n",
    "    \n",
    "    # omega-squared (ω2)\n",
    "    num = (aov[:-1]['sum_sq'] - (aov[:-1]['df']*aov['mean_sq'][-1]))\n",
    "    denom = (sum(aov['sum_sq']) + aov['mean_sq'][-1])\n",
    "    aov['omega_sq'] = num / denom    \n",
    "    \n",
    "    return aov\n",
    "\n",
    "anova_effect_size(table)"
   ]
  },
  {
   "cell_type": "markdown",
   "metadata": {},
   "source": [
    "According to both measures (around 0.016), the discount only has a **small effect**."
   ]
  },
  {
   "cell_type": "markdown",
   "metadata": {},
   "source": [
    "### Post-hoc Testing\n",
    "\n",
    "The overall model was significant, now we want to know **which groups actually differ**. \n",
    "\n",
    "Tukey’s HSD is one method that can be used. The Tukey HSD post-hoc comparison test controls for type I error and maintains the familywise error rate at 0.05. \n",
    "\n",
    "(Unfortunately, this method currently does not provide the t-statistic, so treatment effect size cannot be calculated.)"
   ]
  },
  {
   "cell_type": "code",
   "execution_count": null,
   "metadata": {},
   "outputs": [],
   "source": [
    "from statsmodels.stats.multicomp import pairwise_tukeyhsd\n",
    "from statsmodels.stats.multicomp import MultiComparison\n",
    "\n",
    "mc = MultiComparison(df3_test['Quantity'], df3_test['Discount'])\n",
    "mc_results = mc.tukeyhsd()"
   ]
  },
  {
   "cell_type": "code",
   "execution_count": null,
   "metadata": {},
   "outputs": [],
   "source": [
    "# let's compare all levels with 0.0 (blue)\n",
    "# all groups that are significantly different from 0.0 are color coded red, all insignificant groups gray\n",
    "mc_results.plot_simultaneous(comparison_name=0.0, figsize=(6,4), \n",
    "                             ylabel='Discount Level\\n', xlabel='\\nAverage Number of Products in Order');"
   ]
  },
  {
   "cell_type": "markdown",
   "metadata": {},
   "source": [
    "--> **All discount levels significantly differ from NO DISCOUNT - except the 0.1% discount.**"
   ]
  },
  {
   "cell_type": "code",
   "execution_count": null,
   "metadata": {},
   "outputs": [],
   "source": [
    "# let's compare all levels with 0.05 (blue)\n",
    "# all groups that are significantly different are color coded red, all insignificant groups gray\n",
    "mc_results.plot_simultaneous(comparison_name=0.05, figsize=(6,4),                            \n",
    "                             ylabel='Discount Level\\n', xlabel='\\nAverage Number of Products in Order');"
   ]
  },
  {
   "cell_type": "code",
   "execution_count": null,
   "metadata": {},
   "outputs": [],
   "source": [
    "# let's compare all levels with 0.10 (blue)\n",
    "# all groups that are significantly different are color coded red, all insignificant groups gray\n",
    "mc_results.plot_simultaneous(comparison_name=0.1, figsize=(6,4), \n",
    "                             ylabel='Discount Level\\n', xlabel='\\nAverage Number of Products in Order');"
   ]
  },
  {
   "cell_type": "code",
   "execution_count": null,
   "metadata": {},
   "outputs": [],
   "source": [
    "# let's compare all levels with 0.15 (blue)\n",
    "# all groups that are significantly different are color coded red, all insignificant groups gray\n",
    "mc_results.plot_simultaneous(comparison_name=0.15, figsize=(6,4), \n",
    "                             ylabel='Discount Level\\n', xlabel='\\nAverage Number of Products in Order');"
   ]
  },
  {
   "cell_type": "code",
   "execution_count": null,
   "metadata": {},
   "outputs": [],
   "source": [
    "# let's compare all levels with 0.20 (blue)\n",
    "# all groups that are significantly different are color coded red, all insignificant groups gray\n",
    "mc_results.plot_simultaneous(comparison_name=0.2, figsize=(6,4), \n",
    "                             ylabel='Discount Level\\n', xlabel='\\nAverage Number of Products in Order');"
   ]
  },
  {
   "cell_type": "code",
   "execution_count": null,
   "metadata": {},
   "outputs": [],
   "source": [
    "# let's compare all levels with 0.25 (blue)\n",
    "# all groups that are significantly different are color coded red, all insignificant groups gray\n",
    "mc_results.plot_simultaneous(comparison_name=0.25, figsize=(6,4), \n",
    "                             ylabel='Discount Level\\n', xlabel='\\nAverage Number of Products in Order');"
   ]
  },
  {
   "cell_type": "markdown",
   "metadata": {},
   "source": [
    "--> **However, some levels seem to have an unwanted effect, e.g. 0.2: The number of ordered products becomes even less compared to 0.15 or 0.05!**"
   ]
  },
  {
   "cell_type": "markdown",
   "metadata": {},
   "source": [
    "### 3.4 - Conclusions\n",
    "\n",
    "**A one-way ANOVA with $\\alpha$ = 0.05 was used to analyze the effect of discount levels on the number of items in an order:**\n",
    "\n",
    "* There was a **statistically significant difference** between the discount levels with p = 2.991487e-09.\n",
    "\n",
    "* Therefore I may reject the null hypothesis in support of the alternative: The average number of ordered products differs between at least two discount levels. It seems that the number of items can't be increased by offering a discount higher than 0.05.\n",
    "\n",
    "* Post-hoc testing revealed interesting details though in which groups actually differ. Further investigation may be needed, but post-hoc testing revealed interesting details about which groups actually differ. For example, there is some evidence that a discount of 0.1 may be less productive than one of 0.15 or 0.25 (double-digits).\n",
    "\n",
    "* However, the effect size is small, pointing to a **low practical significance**.\n",
    "\n",
    "* My $\\alpha$ = 0.05 is effectively the probability that I might mistakenly reject the null hypothesis when it is actually true. This is called a \"Type 1 Error\". <br> With a significance level set to 5%, I am saying that only a small probability of a Type 1 error occurring is acceptable. The opposite is a \"Type 2 Error\" where I may mistakenly support the null hypothesis when the alternative is actually true.\n",
    "\n",
    "**The results could be used to further investigate and maybe test the effect of different discount levels as potential revenue boosters.**"
   ]
  }
 ],
 "metadata": {
  "kernelspec": {
   "display_name": "Python 3",
   "language": "python",
   "name": "python3"
  },
  "language_info": {
   "codemirror_mode": {
    "name": "ipython",
    "version": 3
   },
   "file_extension": ".py",
   "mimetype": "text/x-python",
   "name": "python",
   "nbconvert_exporter": "python",
   "pygments_lexer": "ipython3",
   "version": "3.6.6"
  }
 },
 "nbformat": 4,
 "nbformat_minor": 2
}
